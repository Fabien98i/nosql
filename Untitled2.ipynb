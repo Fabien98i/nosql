{
 "cells": [
  {
   "cell_type": "code",
   "execution_count": 35,
   "metadata": {},
   "outputs": [],
   "source": [
    "import pymongo"
   ]
  },
  {
   "cell_type": "code",
   "execution_count": 36,
   "metadata": {},
   "outputs": [],
   "source": [
    "from pymongo import MongoClient"
   ]
  },
  {
   "cell_type": "code",
   "execution_count": 26,
   "metadata": {},
   "outputs": [
    {
     "name": "stdout",
     "output_type": "stream",
     "text": [
      "connexion success\n"
     ]
    }
   ],
   "source": [
    "client = MongoClient('mongodb://localhost:27017/')\n",
    "db = client.metflix\n",
    "movies = db.movies\n",
    "print('connexion success')"
   ]
  },
  {
   "cell_type": "code",
   "execution_count": 37,
   "metadata": {},
   "outputs": [
    {
     "data": {
      "text/plain": [
       "{'_id': 'tt0075148', 'title': 'Rocky', 'year': 1976}"
      ]
     },
     "execution_count": 37,
     "metadata": {},
     "output_type": "execute_result"
    }
   ],
   "source": [
    "movies.find_one()"
   ]
  },
  {
   "cell_type": "code",
   "execution_count": 38,
   "metadata": {},
   "outputs": [
    {
     "data": {
      "text/plain": [
       "<pymongo.results.InsertManyResult at 0x23b389546c0>"
      ]
     },
     "execution_count": 38,
     "metadata": {},
     "output_type": "execute_result"
    }
   ],
   "source": [
    "client.drop_database('metflix')\n",
    "mydb = client[\"metflix\"]\n",
    "mycolection = mydb[\"movies\"]\n",
    "\n",
    "mycolection.insert_many ([\n",
    "    { \"_id\" : \"tt0075148\", \"title\": \"Rocky\", \"year\": 1976 } ,\n",
    "    { \"title\" : \"Jaws\", \"year\" : 1975, \"imdb\": \"tt0073195\" } ,\n",
    "    { \"title\" : \"Mad Max 2 : The Road Warrior\", \"year\" : 1981, \"imdb\": \"tt0082694\" } ,\n",
    "    { \"title\" : \"Raiders of the Lost Ark\", \"year\": 1981, \"imdb\": \"tt0082971\" } \n",
    "])"
   ]
  },
  {
   "cell_type": "code",
   "execution_count": 39,
   "metadata": {},
   "outputs": [
    {
     "name": "stdout",
     "output_type": "stream",
     "text": [
      "{'_id': 'tt0075148', 'title': 'Rocky', 'year': 1976}\n",
      "{'_id': ObjectId('60049b5379ec06c18ea6414b'), 'title': 'Jaws', 'year': 1975, 'imdb': 'tt0073195'}\n",
      "{'_id': ObjectId('60049b5379ec06c18ea6414c'), 'title': 'Mad Max 2 : The Road Warrior', 'year': 1981, 'imdb': 'tt0082694'}\n",
      "{'_id': ObjectId('60049b5379ec06c18ea6414d'), 'title': 'Raiders of the Lost Ark', 'year': 1981, 'imdb': 'tt0082971'}\n"
     ]
    }
   ],
   "source": [
    "for item in movies.find():\n",
    "    print(item)"
   ]
  },
  {
   "cell_type": "code",
   "execution_count": 13,
   "metadata": {},
   "outputs": [],
   "source": [
    "client.drop_database('metflix')"
   ]
  },
  {
   "cell_type": "code",
   "execution_count": 120,
   "metadata": {},
   "outputs": [],
   "source": [
    "mydb = client[\"metflix\"]"
   ]
  },
  {
   "cell_type": "code",
   "execution_count": 121,
   "metadata": {},
   "outputs": [],
   "source": [
    "mycolection = mydb[\"movies\"]"
   ]
  },
  {
   "cell_type": "code",
   "execution_count": 103,
   "metadata": {},
   "outputs": [],
   "source": [
    "mydictionnaire = {\"title\" : \"Rocky\" , \"year\" : 1976 }\n",
    "\n",
    "x = mycolection.insert_one(mydictionnaire)"
   ]
  },
  {
   "cell_type": "code",
   "execution_count": 104,
   "metadata": {},
   "outputs": [
    {
     "name": "stdout",
     "output_type": "stream",
     "text": [
      "5ffda6004a4cfda62139b1c8\n"
     ]
    }
   ],
   "source": [
    "print(x.inserted_id)"
   ]
  },
  {
   "cell_type": "code",
   "execution_count": 122,
   "metadata": {},
   "outputs": [],
   "source": [
    "movies.find_one()"
   ]
  },
  {
   "cell_type": "code",
   "execution_count": 40,
   "metadata": {},
   "outputs": [
    {
     "name": "stdout",
     "output_type": "stream",
     "text": [
      "connection OK\n"
     ]
    }
   ],
   "source": [
    "from pymongo import MongoClient, errors\n",
    "\n",
    "import time\n",
    "# create a timestamp before making API call\n",
    "start = time.time()\n",
    "# check the seconds that have elapsed\n",
    "\n",
    "try:\n",
    "    client = MongoClient(host = 'mongodb://localhost:27017/', serverSelectionTimeoutMS = 2000)\n",
    "    client.server_info() # will throw an exception\n",
    "    print(\"connection OK\")\n",
    "\n",
    "except:\n",
    "    print (\"connection error\")\n",
    "# print the time difference\n",
    "    print (time.time() - start)"
   ]
  },
  {
   "cell_type": "code",
   "execution_count": 41,
   "metadata": {},
   "outputs": [
    {
     "name": "stdout",
     "output_type": "stream",
     "text": [
      "collection movies added\n"
     ]
    }
   ],
   "source": [
    "try:\n",
    "# create new database and collection instances\n",
    "    db = client.metflix\n",
    "\n",
    "    col = db[\"movies\"]\n",
    "    print(\"collection movies added\")\n",
    "\n",
    "except:\n",
    "    # should raise AttributeError if mongodb_connect() function returned \"None\"\n",
    "    print (\"Get MongoDB database and collection ERROR:\")\n",
    "\n",
    "\n",
    "\n",
    "# or evaluate the client object instead\n",
    "\n",
    "#if client != None:\n",
    "\n",
    "# create new database and collection instances\n",
    "\n",
    "#    db = client.metflix\n",
    "\n",
    "#    col = db[\"movies\"]\n",
    "\n",
    "#else:\n",
    "\n",
    "#    print (\"Client instance is invalid\")\n",
    "\n",
    "# connect to a MongoDB server that doesn't exist\n",
    "\n",
    "#client = MongoClient( host = [\"DOES_NOT_EXIST\"], \n",
    "     # timeout is in milliseconds\n",
    "#     serverSelectionTimeoutMS = 2000 )\n",
    "#print (\"nCreating database and collection form 'bad' client instance\")\n",
    "\n",
    "# create new database and collection instances"
   ]
  },
  {
   "cell_type": "code",
   "execution_count": 125,
   "metadata": {},
   "outputs": [],
   "source": [
    "                                 #### insert_many: \n",
    "\n",
    "mylist = [\n",
    "  { \"title\": \"Rocky\", \"year\": 1976 , \"_id\" : \"tt0075148\"},\n",
    "  { \"title\": \"Jaws\", \"year\": 1975 , \"imdb\" : \"tt0073195\"},\n",
    "  { \"title\": \"Mad Max 2 : The Road Warrior\", \"year\": 1981 , \"imdb\" : \"tt0082694\"},\n",
    "  { \"title\": \"Raiders of the Lost Ark\", \"year\": 1981 , \"imdb\" : \"tt0082971\"}\n",
    "]\n",
    "\n"
   ]
  },
  {
   "cell_type": "code",
   "execution_count": 126,
   "metadata": {},
   "outputs": [],
   "source": [
    "x = movies.insert_many(mylist)"
   ]
  },
  {
   "cell_type": "code",
   "execution_count": 133,
   "metadata": {},
   "outputs": [
    {
     "name": "stdout",
     "output_type": "stream",
     "text": [
      "{'_id': 'tt0075148', 'title': 'Rocky', 'year': 1976}\n",
      "{'_id': ObjectId('5ffda6874a4cfda62139b1d0'), 'title': 'Jaws', 'year': 1975, 'imdb': 'tt0073195'}\n",
      "{'_id': ObjectId('5ffda6874a4cfda62139b1d1'), 'title': 'Mad Max 2 : The Road Warrior', 'year': 1981, 'imdb': 'tt0082694'}\n",
      "{'_id': ObjectId('5ffda6874a4cfda62139b1d2'), 'title': 'Raiders of the Lost Ark', 'year': 1981, 'imdb': 'tt0082971'}\n"
     ]
    }
   ],
   "source": [
    "                                ##### find avec des paramètres: \n",
    "#afficher tous les documents de la collection movies : \n",
    "for item in movies.find():\n",
    "    print(item)"
   ]
  },
  {
   "cell_type": "code",
   "execution_count": 134,
   "metadata": {},
   "outputs": [
    {
     "data": {
      "text/plain": [
       "{'_id': 'tt0075148', 'title': 'Rocky', 'year': 1976}"
      ]
     },
     "execution_count": 134,
     "metadata": {},
     "output_type": "execute_result"
    }
   ],
   "source": [
    "#afficher le 1er document : \n",
    "movies.find_one()"
   ]
  },
  {
   "cell_type": "code",
   "execution_count": 42,
   "metadata": {},
   "outputs": [
    {
     "name": "stdout",
     "output_type": "stream",
     "text": [
      "{'_id': ObjectId('60049b5379ec06c18ea6414c'), 'title': 'Mad Max 2 : The Road Warrior', 'year': 1981, 'imdb': 'tt0082694'}\n",
      "{'_id': ObjectId('60049b5379ec06c18ea6414d'), 'title': 'Raiders of the Lost Ark', 'year': 1981, 'imdb': 'tt0082971'}\n"
     ]
    }
   ],
   "source": [
    "#afficher le(s) document(s) ou on trouve les films de 1981 : \n",
    "for item in movies.find({ \"year\" : 1981 }):\n",
    "    print(item)"
   ]
  },
  {
   "cell_type": "code",
   "execution_count": 43,
   "metadata": {},
   "outputs": [
    {
     "name": "stdout",
     "output_type": "stream",
     "text": [
      "{'_id': ObjectId('60049b5379ec06c18ea6414b'), 'title': 'Jaws', 'year': 1975, 'imdb': 'tt0073195'}\n"
     ]
    }
   ],
   "source": [
    "#afficher le(s) document(s) ou on trouve le film qui porte le titre \"Jaws\": \n",
    "for item in movies.find({ \"title\" : \"Jaws\" }):\n",
    "    print(item)"
   ]
  },
  {
   "cell_type": "code",
   "execution_count": 166,
   "metadata": {},
   "outputs": [
    {
     "name": "stdout",
     "output_type": "stream",
     "text": [
      "{'_id': 'movie:4', 'title': 'Sacrifice'}\n",
      "{'_id': 'movie:6', 'title': 'Sleepy Hollow'}\n",
      "{'_id': 'movie:2', 'title': 'Alien'}\n",
      "{'_id': 'movie:9', 'title': 'Gladiator'}\n",
      "{'_id': 'movie:10', 'title': 'Blade Runner'}\n",
      "{'_id': 'movie:11', 'title': 'Piège de cristal'}\n",
      "{'_id': 'movie:12', 'title': '58 minutes pour vivre'}\n",
      "{'_id': 'movie:13', 'title': 'Van Gogh'}\n",
      "{'_id': 'movie:14', 'title': 'Seven'}\n",
      "{'_id': 'movie:15', 'title': 'Twelve Monkeys'}\n",
      "{'_id': 'movie:16', 'title': 'Le last_name de la rose'}\n",
      "{'_id': 'movie:5', 'title': 'Volte/Face'}\n",
      "{'_id': 'movie:1', 'title': 'Vertigo'}\n",
      "{'_id': 'movie:19', 'title': 'Terminator'}\n",
      "{'_id': 'movie:20', 'title': 'Les dents de la mer'}\n",
      "{'_id': 'movie:21', 'title': 'Le silence des agneaux'}\n",
      "{'_id': 'movie:17', 'title': 'Pulp fiction'}\n",
      "{'_id': 'movie:22', 'title': 'Godzilla'}\n",
      "{'_id': 'movie:23', 'title': 'Matrix'}\n",
      "{'_id': 'movie:24', 'title': 'Mission: Impossible'}\n",
      "{'_id': 'movie:25', 'title': 'Kagemusha'}\n",
      "{'_id': 'movie:8', 'title': 'Impitoyable'}\n",
      "{'_id': 'movie:7', 'title': 'American Beauty'}\n",
      "{'_id': 'movie:3', 'title': 'Titanic'}\n",
      "{'_id': 'movie:26', 'title': 'Les pleins pouvoirs'}\n",
      "{'_id': 'movie:18', 'title': 'Mary à tout prix'}\n",
      "{'_id': 'movie:27', 'title': 'Le gendarme et les extra-terrestres'}\n",
      "{'_id': 'movie:28', 'title': 'Le monde perdu'}\n",
      "{'_id': 'movie:29', 'title': 'Rain Man'}\n",
      "{'_id': 'movie:30', 'title': 'Top Gun'}\n",
      "{'_id': 'movie:33', 'title': 'Psychose'}\n",
      "{'_id': 'movie:31', 'title': 'Les bronzés font du ski'}\n",
      "{'_id': 'movie:35', 'title': 'Les oiseaux'}\n",
      "{'_id': 'movie:34', 'title': 'Le retour du Jedi'}\n",
      "{'_id': 'movie:32', 'title': 'Le bon, la brute et le truand'}\n",
      "{'_id': 'movie:38', 'title': 'Shining'}\n",
      "{'_id': 'movie:40', 'title': 'Fenêtre sur cour'}\n",
      "{'_id': 'movie:37', 'title': 'Eyes Wide Shut'}\n",
      "{'_id': 'movie:36', 'title': 'Reservoir dogs'}\n",
      "{'_id': 'movie:39', 'title': 'Pas de printemps pour Marnie'}\n",
      "{'_id': 'movie:41', 'title': 'La mort aux trousses'}\n",
      "{'_id': 'movie:42', 'title': \"Jeanne d'Arc\"}\n",
      "{'_id': 'movie:44', 'title': 'Léon'}\n",
      "{'_id': 'movie:43', 'title': 'Le cinquième élément'}\n",
      "{'_id': 'movie:46', 'title': 'Le grand bleu'}\n",
      "{'_id': 'movie:48', 'title': 'King of New York'}\n",
      "{'_id': 'movie:45', 'title': 'Nikita'}\n",
      "{'_id': 'movie:49', 'title': 'The Matrix reloaded'}\n",
      "{'_id': 'movie:51', 'title': 'De bruit et de fureur'}\n",
      "{'_id': 'movie:55', 'title': 'Le parrain II'}\n",
      "{'_id': 'movie:56', 'title': 'Le parrain III'}\n",
      "{'_id': 'movie:47', 'title': 'Spider-Man'}\n",
      "{'_id': 'movie:58', 'title': 'Une journée en enfer'}\n",
      "{'_id': 'movie:59', 'title': 'Sixième sens'}\n",
      "{'_id': 'movie:50', 'title': 'The Matrix Revolutions'}\n",
      "{'_id': 'movie:57', 'title': 'Jackie Brown'}\n",
      "{'_id': 'movie:60', 'title': 'Lost in Translation'}\n",
      "{'_id': 'movie:62', 'title': 'Stalingrad'}\n",
      "{'_id': 'movie:61', 'title': 'Kill Bill'}\n",
      "{'_id': 'movie:64', 'title': 'Pour quelques dollars de plus'}\n",
      "{'_id': 'movie:63', 'title': 'Million Dollar Baby'}\n",
      "{'_id': 'movie:53', 'title': 'Bad Lieutenant'}\n",
      "{'_id': 'movie:52', 'title': 'Usual suspects'}\n",
      "{'_id': 'movie:67', 'title': 'Marie Antoinette'}\n",
      "{'_id': 'movie:54', 'title': 'Le parrain'}\n",
      "{'_id': 'movie:69', 'title': 'Heat'}\n",
      "{'_id': 'movie:70', 'title': 'Taxi driver'}\n",
      "{'_id': 'movie:68', 'title': 'Soleil vert'}\n",
      "{'_id': 'movie:72', 'title': 'Casino'}\n",
      "{'_id': 'movie:76', 'title': 'No country for old men'}\n",
      "{'_id': 'movie:71', 'title': 'Les affranchis'}\n",
      "{'_id': 'movie:78', 'title': 'Django unchained'}\n",
      "{'_id': 'movie:73', 'title': 'Casino Royale'}\n",
      "{'_id': 'movie:74', 'title': 'Skyfall'}\n",
      "{'_id': 'movie:79', 'title': 'Inglourious Basterds'}\n",
      "{'_id': 'movie:77', 'title': 'Fargo'}\n",
      "{'_id': 'movie:80', 'title': 'Inglourious Basterds'}\n",
      "{'_id': 'movie:81', 'title': 'Les quatre cents coups'}\n",
      "{'_id': 'movie:85', 'title': 'Interstellar'}\n",
      "{'_id': 'movie:84', 'title': 'Rio Grande'}\n",
      "{'_id': 'movie:82', 'title': 'Le dernier métro'}\n",
      "{'_id': 'movie:87', 'title': 'Memento'}\n",
      "{'_id': 'movie:89', 'title': 'The Dark Knight'}\n",
      "{'_id': 'movie:86', 'title': 'Inception'}\n",
      "{'_id': 'movie:88', 'title': 'Batman begins'}\n"
     ]
    }
   ],
   "source": [
    "db = client[\"movies_artists\"]\n",
    "colection = mydb[\"movies\"]\n",
    "colection2 = mydb[\"artists\"]\n",
    "for item in colection.find({},{ \"_id\": 1, \"title\": 1}):\n",
    "    print(item)"
   ]
  },
  {
   "cell_type": "code",
   "execution_count": 167,
   "metadata": {},
   "outputs": [
    {
     "name": "stdout",
     "output_type": "stream",
     "text": [
      "{'_id': 'movie:5', 'title': 'Volte/Face'}\n",
      "{'_id': 'movie:8', 'title': 'Impitoyable'}\n",
      "{'_id': 'movie:7', 'title': 'American Beauty'}\n",
      "{'_id': 'movie:9', 'title': 'Gladiator'}\n",
      "{'_id': 'movie:10', 'title': 'Blade Runner'}\n",
      "{'_id': 'movie:2', 'title': 'Alien'}\n",
      "{'_id': 'movie:12', 'title': '58 minutes pour vivre'}\n",
      "{'_id': 'movie:11', 'title': 'Piège de cristal'}\n",
      "{'_id': 'movie:3', 'title': 'Titanic'}\n",
      "{'_id': 'movie:15', 'title': 'Twelve Monkeys'}\n",
      "{'_id': 'movie:13', 'title': 'Van Gogh'}\n",
      "{'_id': 'movie:14', 'title': 'Seven'}\n",
      "{'_id': 'movie:16', 'title': 'Le last_name de la rose'}\n",
      "{'_id': 'movie:19', 'title': 'Terminator'}\n",
      "{'_id': 'movie:6', 'title': 'Sleepy Hollow'}\n",
      "{'_id': 'movie:20', 'title': 'Les dents de la mer'}\n",
      "{'_id': 'movie:23', 'title': 'Matrix'}\n",
      "{'_id': 'movie:25', 'title': 'Kagemusha'}\n",
      "{'_id': 'movie:18', 'title': 'Mary à tout prix'}\n",
      "{'_id': 'movie:27', 'title': 'Le gendarme et les extra-terrestres'}\n",
      "{'_id': 'movie:26', 'title': 'Les pleins pouvoirs'}\n",
      "{'_id': 'movie:22', 'title': 'Godzilla'}\n",
      "{'_id': 'movie:17', 'title': 'Pulp fiction'}\n",
      "{'_id': 'movie:28', 'title': 'Le monde perdu'}\n",
      "{'_id': 'movie:29', 'title': 'Rain Man'}\n",
      "{'_id': 'movie:1', 'title': 'Vertigo'}\n",
      "{'_id': 'movie:4', 'title': 'Sacrifice'}\n",
      "{'_id': 'movie:30', 'title': 'Top Gun'}\n",
      "{'_id': 'movie:24', 'title': 'Mission: Impossible'}\n",
      "{'_id': 'movie:32', 'title': 'Le bon, la brute et le truand'}\n",
      "{'_id': 'movie:31', 'title': 'Les bronzés font du ski'}\n",
      "{'_id': 'movie:33', 'title': 'Psychose'}\n",
      "{'_id': 'movie:38', 'title': 'Shining'}\n",
      "{'_id': 'movie:35', 'title': 'Les oiseaux'}\n",
      "{'_id': 'movie:37', 'title': 'Eyes Wide Shut'}\n",
      "{'_id': 'movie:34', 'title': 'Le retour du Jedi'}\n",
      "{'_id': 'movie:39', 'title': 'Pas de printemps pour Marnie'}\n",
      "{'_id': 'movie:36', 'title': 'Reservoir dogs'}\n",
      "{'_id': 'movie:21', 'title': 'Le silence des agneaux'}\n",
      "{'_id': 'movie:40', 'title': 'Fenêtre sur cour'}\n",
      "{'_id': 'movie:41', 'title': 'La mort aux trousses'}\n",
      "{'_id': 'movie:42', 'title': \"Jeanne d'Arc\"}\n",
      "{'_id': 'movie:44', 'title': 'Léon'}\n",
      "{'_id': 'movie:43', 'title': 'Le cinquième élément'}\n",
      "{'_id': 'movie:46', 'title': 'Le grand bleu'}\n",
      "{'_id': 'movie:45', 'title': 'Nikita'}\n",
      "{'_id': 'movie:47', 'title': 'Spider-Man'}\n",
      "{'_id': 'movie:49', 'title': 'The Matrix reloaded'}\n",
      "{'_id': 'movie:48', 'title': 'King of New York'}\n",
      "{'_id': 'movie:53', 'title': 'Bad Lieutenant'}\n",
      "{'_id': 'movie:50', 'title': 'The Matrix Revolutions'}\n",
      "{'_id': 'movie:54', 'title': 'Le parrain'}\n",
      "{'_id': 'movie:51', 'title': 'De bruit et de fureur'}\n",
      "{'_id': 'movie:52', 'title': 'Usual suspects'}\n",
      "{'_id': 'movie:57', 'title': 'Jackie Brown'}\n",
      "{'_id': 'movie:59', 'title': 'Sixième sens'}\n",
      "{'_id': 'movie:62', 'title': 'Stalingrad'}\n",
      "{'_id': 'movie:64', 'title': 'Pour quelques dollars de plus'}\n",
      "{'_id': 'movie:67', 'title': 'Marie Antoinette'}\n",
      "{'_id': 'movie:69', 'title': 'Heat'}\n",
      "{'_id': 'movie:68', 'title': 'Soleil vert'}\n",
      "{'_id': 'movie:70', 'title': 'Taxi driver'}\n",
      "{'_id': 'movie:61', 'title': 'Kill Bill'}\n",
      "{'_id': 'movie:71', 'title': 'Les affranchis'}\n",
      "{'_id': 'movie:73', 'title': 'Casino Royale'}\n",
      "{'_id': 'movie:58', 'title': 'Une journée en enfer'}\n",
      "{'_id': 'movie:55', 'title': 'Le parrain II'}\n",
      "{'_id': 'movie:76', 'title': 'No country for old men'}\n",
      "{'_id': 'movie:74', 'title': 'Skyfall'}\n",
      "{'_id': 'movie:72', 'title': 'Casino'}\n",
      "{'_id': 'movie:77', 'title': 'Fargo'}\n",
      "{'_id': 'movie:56', 'title': 'Le parrain III'}\n",
      "{'_id': 'movie:60', 'title': 'Lost in Translation'}\n",
      "{'_id': 'movie:63', 'title': 'Million Dollar Baby'}\n",
      "{'_id': 'movie:78', 'title': 'Django unchained'}\n",
      "{'_id': 'movie:79', 'title': 'Inglourious Basterds'}\n",
      "{'_id': 'movie:81', 'title': 'Les quatre cents coups'}\n",
      "{'_id': 'movie:84', 'title': 'Rio Grande'}\n",
      "{'_id': 'movie:80', 'title': 'Inglourious Basterds'}\n",
      "{'_id': 'movie:85', 'title': 'Interstellar'}\n",
      "{'_id': 'movie:82', 'title': 'Le dernier métro'}\n",
      "{'_id': 'movie:86', 'title': 'Inception'}\n",
      "{'_id': 'movie:87', 'title': 'Memento'}\n",
      "{'_id': 'movie:88', 'title': 'Batman begins'}\n",
      "{'_id': 'movie:89', 'title': 'The Dark Knight'}\n",
      "{'_id': 'movie:90', 'title': 'The Dark Knight Rises'}\n",
      "{'_id': 'movie:92', 'title': 'Nous trois ou rien'}\n",
      "{'_id': 'movie:91', 'title': 'Un prophète'}\n"
     ]
    }
   ],
   "source": [
    "for item in colection.find({},{ \"_id\": 1, \"title\": 1}):\n",
    "    print(item)"
   ]
  },
  {
   "cell_type": "code",
   "execution_count": 178,
   "metadata": {},
   "outputs": [
    {
     "name": "stdout",
     "output_type": "stream",
     "text": [
      "{'_id': 'movie:15', 'title': 'Twelve Monkeys'}\n",
      "{'_id': 'movie:13', 'title': 'Van Gogh'}\n",
      "{'_id': 'movie:14', 'title': 'Seven'}\n",
      "{'_id': 'movie:16', 'title': 'Le last_name de la rose'}\n",
      "{'_id': 'movie:19', 'title': 'Terminator'}\n",
      "{'_id': 'movie:6', 'title': 'Sleepy Hollow'}\n",
      "{'_id': 'movie:20', 'title': 'Les dents de la mer'}\n",
      "{'_id': 'movie:23', 'title': 'Matrix'}\n",
      "{'_id': 'movie:25', 'title': 'Kagemusha'}\n",
      "{'_id': 'movie:18', 'title': 'Mary à tout prix'}\n",
      "{'_id': 'movie:27', 'title': 'Le gendarme et les extra-terrestres'}\n",
      "{'_id': 'movie:26', 'title': 'Les pleins pouvoirs'}\n"
     ]
    }
   ],
   "source": [
    "request =  colection.find({},{ \"_id\": 1, \"title\": 1}).skip(9).limit(12)\n",
    "for item in request :\n",
    "    print(item)"
   ]
  },
  {
   "cell_type": "code",
   "execution_count": 183,
   "metadata": {},
   "outputs": [
    {
     "name": "stdout",
     "output_type": "stream",
     "text": [
      "{'_id': 'movie:78', 'title': 'Django unchained'}\n",
      "{'_id': 'movie:37', 'title': 'Eyes Wide Shut'}\n",
      "{'_id': 'movie:77', 'title': 'Fargo'}\n",
      "{'_id': 'movie:40', 'title': 'Fenêtre sur cour'}\n",
      "{'_id': 'movie:9', 'title': 'Gladiator'}\n",
      "{'_id': 'movie:22', 'title': 'Godzilla'}\n",
      "{'_id': 'movie:69', 'title': 'Heat'}\n",
      "{'_id': 'movie:8', 'title': 'Impitoyable'}\n",
      "{'_id': 'movie:86', 'title': 'Inception'}\n",
      "{'_id': 'movie:80', 'title': 'Inglourious Basterds'}\n",
      "{'_id': 'movie:79', 'title': 'Inglourious Basterds'}\n",
      "{'_id': 'movie:85', 'title': 'Interstellar'}\n"
     ]
    }
   ],
   "source": [
    "#trier en fonction du titre ascendant : \n",
    "request_sort_by_title = colection.find({},{ \"_id\": 1, \"title\": 1}).sort(\"title\", 1).skip(9).limit(12)\n",
    "for item in request_sort_by_title :\n",
    "    print(item)"
   ]
  },
  {
   "cell_type": "code",
   "execution_count": 184,
   "metadata": {},
   "outputs": [
    {
     "name": "stdout",
     "output_type": "stream",
     "text": [
      "{'_id': 'movie:49', 'title': 'The Matrix reloaded'}\n",
      "{'_id': 'movie:50', 'title': 'The Matrix Revolutions'}\n",
      "{'_id': 'movie:90', 'title': 'The Dark Knight Rises'}\n",
      "{'_id': 'movie:89', 'title': 'The Dark Knight'}\n",
      "{'_id': 'movie:19', 'title': 'Terminator'}\n",
      "{'_id': 'movie:70', 'title': 'Taxi driver'}\n",
      "{'_id': 'movie:62', 'title': 'Stalingrad'}\n",
      "{'_id': 'movie:47', 'title': 'Spider-Man'}\n",
      "{'_id': 'movie:68', 'title': 'Soleil vert'}\n",
      "{'_id': 'movie:6', 'title': 'Sleepy Hollow'}\n",
      "{'_id': 'movie:74', 'title': 'Skyfall'}\n",
      "{'_id': 'movie:59', 'title': 'Sixième sens'}\n"
     ]
    }
   ],
   "source": [
    "#trier en fonction du titre descendant : \n",
    "request_sort_by_title = colection.find({},{ \"_id\": 1, \"title\": 1}).sort(\"title\", -1).skip(9).limit(12)\n",
    "for item in request_sort_by_title :\n",
    "    print(item)"
   ]
  },
  {
   "cell_type": "code",
   "execution_count": 187,
   "metadata": {},
   "outputs": [
    {
     "data": {
      "text/plain": [
       "{'_id': 'movie:2',\n",
       " 'title': 'Alien',\n",
       " 'genre': 'Science-fiction',\n",
       " 'summary': 'Près d\\'un vaisseau spatial échoué sur une lointaine planète, des Terriens en mission découvrent de bien étranges \"oeufs\". Ils en ramènent un à bord, ignorant qu\\'ils viennent d\\'introduire parmi eux un huitième passager particulièrement féroce et meurtrier. '}"
      ]
     },
     "execution_count": 187,
     "metadata": {},
     "output_type": "execute_result"
    }
   ],
   "source": [
    "colection.find_one({\"_id\":\"movie:2\"}, {\"title\" : 1, \"genre\" : 1, \"summary\" : 1 })"
   ]
  },
  {
   "cell_type": "code",
   "execution_count": 190,
   "metadata": {},
   "outputs": [
    {
     "name": "stdout",
     "output_type": "stream",
     "text": [
      "{'_id': 'movie:2', 'title': 'Alien', 'actors': [{'_id': 'artist:5', 'role': 'Ripley'}]}\n",
      "{'_id': 'movie:31', 'title': 'Les bronzés font du ski', 'actors': [{'_id': 'artist:75', 'role': 'Nathalie Morin'}, {'_id': 'artist:76', 'role': 'Christiane'}, {'_id': 'artist:84', 'role': 'Jean-Claude Dus'}, {'_id': 'artist:85', 'role': 'Jérôme'}, {'_id': 'artist:86', 'role': 'Popeye'}]}\n"
     ]
    }
   ],
   "source": [
    "request_movies_1979 = colection.find({\"year\" : 1979},{\"title\": 1, \"actors\":1})\n",
    "for item in request_movies_1979 :\n",
    "    print(item)"
   ]
  },
  {
   "cell_type": "code",
   "execution_count": 191,
   "metadata": {},
   "outputs": [
    {
     "name": "stdout",
     "output_type": "stream",
     "text": [
      "{'_id': 'movie:31', 'title': 'Les bronzés font du ski', 'actors': [{'_id': 'artist:75', 'role': 'Nathalie Morin'}, {'_id': 'artist:76', 'role': 'Christiane'}, {'_id': 'artist:84', 'role': 'Jean-Claude Dus'}, {'_id': 'artist:85', 'role': 'Jérôme'}, {'_id': 'artist:86', 'role': 'Popeye'}]}\n",
      "{'_id': 'movie:2', 'title': 'Alien', 'actors': [{'_id': 'artist:5', 'role': 'Ripley'}]}\n"
     ]
    }
   ],
   "source": [
    "#les films apparus en 1979 avec un tri des titres dans l'ordre descendant : \n",
    "request_movies_1979 = colection.find({\"year\" : 1979},{\"title\": 1, \"actors\":1}).sort(\"title\", -1)\n",
    "for item in request_movies_1979 :\n",
    "    print(item)"
   ]
  },
  {
   "cell_type": "code",
   "execution_count": 195,
   "metadata": {
    "scrolled": true
   },
   "outputs": [
    {
     "name": "stdout",
     "output_type": "stream",
     "text": [
      "{'_id': 'movie:9', 'title': 'Gladiator', 'year': 2000, 'director': {'_id': 'artist:4'}, 'actors': [{'_id': 'artist:23', 'role': 'Maximus'}, {'_id': 'artist:147', 'role': 'Commode'}, {'_id': 'artist:148', 'role': 'Lucilla'}, {'_id': 'artist:149', 'role': 'Marc Aurele'}]}\n",
      "{'_id': 'movie:10', 'title': 'Blade Runner', 'year': 1982, 'director': {'_id': 'artist:4'}, 'actors': [{'_id': 'artist:24', 'role': 'Deckard'}, {'_id': 'artist:25', 'role': 'Batty'}]}\n",
      "{'_id': 'movie:2', 'title': 'Alien', 'year': 1979, 'director': {'_id': 'artist:4'}, 'actors': [{'_id': 'artist:5', 'role': 'Ripley'}]}\n"
     ]
    }
   ],
   "source": [
    "#films produits par le director dont l'id est 4 et les afficher de plus récent au moins récent\n",
    "request_movies_director = colection.find({\"director\" : {\"_id\" : \"artist:4\"}},{\"summary\": 0, \"country\": 0, \"genre\": 0})\n",
    "for item in request_movies_director :\n",
    "    print(item)"
   ]
  },
  {
   "cell_type": "code",
   "execution_count": 234,
   "metadata": {},
   "outputs": [
    {
     "name": "stdout",
     "output_type": "stream",
     "text": [
      "1\n"
     ]
    },
    {
     "name": "stderr",
     "output_type": "stream",
     "text": [
      "<ipython-input-234-8d5f88c355a0>:2: DeprecationWarning: count is deprecated. Use Collection.count_documents instead.\n",
      "  count = colection.find( { \"director\" : {\"_id\" : \"artist:4\"}, \"actors\" : {\"_id\": \"artist:23\", \"role\": \"Maximus\"} } ).count()\n"
     ]
    }
   ],
   "source": [
    "#Nombre de films produits par le director dont l'id est 4 dont l'un des acteurs a joué le rôle de Maximus\n",
    "count = colection.find( { \"director\" : {\"_id\" : \"artist:4\"}, \"actors\" : {\"_id\": \"artist:23\", \"role\": \"Maximus\"} } ).count()\n",
    "print(count)"
   ]
  },
  {
   "cell_type": "code",
   "execution_count": 235,
   "metadata": {},
   "outputs": [
    {
     "name": "stdout",
     "output_type": "stream",
     "text": [
      "{'_id': 'movie:9', 'title': 'Gladiator', 'year': 2000, 'director': {'_id': 'artist:4'}, 'actors': [{'_id': 'artist:23', 'role': 'Maximus'}, {'_id': 'artist:147', 'role': 'Commode'}, {'_id': 'artist:148', 'role': 'Lucilla'}, {'_id': 'artist:149', 'role': 'Marc Aurele'}]}\n"
     ]
    }
   ],
   "source": [
    "#Les films produits par le director dont l'id est 4 dont l'un des acteurs a joué le rôle de Maximus\n",
    "maximus = colection.find( {\"director\" : {\"_id\" : \"artist:4\"}, \"actors\" : {\"_id\": \"artist:23\", \"role\": \"Maximus\"}}, {\"summary\": 0, \"country\": 0, \"genre\": 0})\n",
    "for item in maximus :\n",
    "    print(item)"
   ]
  },
  {
   "cell_type": "code",
   "execution_count": 251,
   "metadata": {},
   "outputs": [
    {
     "name": "stdout",
     "output_type": "stream",
     "text": [
      "{'_id': 'movie:9', 'title': 'Gladiator', 'year': 2000}\n",
      "{'_id': 'movie:47', 'title': 'Spider-Man', 'year': 2002}\n",
      "{'_id': 'movie:49', 'title': 'The Matrix reloaded', 'year': 2003}\n",
      "{'_id': 'movie:50', 'title': 'The Matrix Revolutions', 'year': 2003}\n",
      "{'_id': 'movie:62', 'title': 'Stalingrad', 'year': 2001}\n",
      "{'_id': 'movie:61', 'title': 'Kill Bill', 'year': 2003}\n",
      "{'_id': 'movie:60', 'title': 'Lost in Translation', 'year': 2003}\n",
      "{'_id': 'movie:63', 'title': 'Million Dollar Baby', 'year': 2005}\n",
      "{'_id': 'movie:87', 'title': 'Memento', 'year': 2000}\n",
      "{'_id': 'movie:88', 'title': 'Batman begins', 'year': 2005}\n"
     ]
    }
   ],
   "source": [
    "#intervale entre 2000 et 2005 inclus\n",
    "intervalle = colection.find({\"year\":{\"$gte\":2000, \"$lte\":2005}}, {\"title\":1, \"year\":1})\n",
    "for item in intervalle :\n",
    "    print(item)"
   ]
  },
  {
   "cell_type": "code",
   "execution_count": 252,
   "metadata": {},
   "outputs": [
    {
     "name": "stdout",
     "output_type": "stream",
     "text": [
      "{'_id': 'movie:9', 'title': 'Gladiator', 'year': 2000}\n",
      "{'_id': 'movie:47', 'title': 'Spider-Man', 'year': 2002}\n",
      "{'_id': 'movie:49', 'title': 'The Matrix reloaded', 'year': 2003}\n",
      "{'_id': 'movie:50', 'title': 'The Matrix Revolutions', 'year': 2003}\n",
      "{'_id': 'movie:62', 'title': 'Stalingrad', 'year': 2001}\n",
      "{'_id': 'movie:61', 'title': 'Kill Bill', 'year': 2003}\n",
      "{'_id': 'movie:60', 'title': 'Lost in Translation', 'year': 2003}\n",
      "{'_id': 'movie:87', 'title': 'Memento', 'year': 2000}\n"
     ]
    }
   ],
   "source": [
    "#intervale entre 2000 et 2005 exclus\n",
    "intervalle = colection.find({\"year\":{\"$gte\":2000, \"$lt\":2005}}, {\"title\":1, \"year\":1})\n",
    "for item in intervalle :\n",
    "    print(item)"
   ]
  },
  {
   "cell_type": "code",
   "execution_count": 254,
   "metadata": {},
   "outputs": [
    {
     "name": "stdout",
     "output_type": "stream",
     "text": [
      "{'_id': 'movie:5', 'title': 'Volte/Face', 'year': 1997, 'actors': [{'_id': 'artist:11'}, {'_id': 'artist:12'}]}\n",
      "{'_id': 'movie:9', 'title': 'Gladiator', 'year': 2000, 'actors': [{'_id': 'artist:23'}, {'_id': 'artist:147'}, {'_id': 'artist:148'}, {'_id': 'artist:149'}]}\n",
      "{'_id': 'movie:3', 'title': 'Titanic', 'year': 1997, 'actors': [{'_id': 'artist:109'}, {'_id': 'artist:110'}]}\n",
      "{'_id': 'movie:26', 'title': 'Les pleins pouvoirs', 'year': 1997, 'actors': [{'_id': 'artist:20'}, {'_id': 'artist:21'}, {'_id': 'artist:69'}]}\n",
      "{'_id': 'movie:28', 'title': 'Le monde perdu', 'year': 1997, 'actors': [{'_id': 'artist:57'}]}\n",
      "{'_id': 'movie:43', 'title': 'Le cinquième élément', 'year': 1997, 'actors': [{'_id': 'artist:27'}, {'_id': 'artist:112'}, {'_id': 'artist:116'}, {'_id': 'artist:117'}]}\n",
      "{'_id': 'movie:57', 'title': 'Jackie Brown', 'year': 1997, 'actors': [{'_id': 'artist:167'}, {'_id': 'artist:168'}, {'_id': 'artist:169'}, {'_id': 'artist:170'}, {'_id': 'artist:212'}]}\n"
     ]
    }
   ],
   "source": [
    "#les films parus en 1997 ou avec l'acteur id = 147\n",
    "movies_query = colection.find({\"$or\": [{\"year\" : 1997}, {\"actors._id\" : \"artist:147\"}]},{\"title\":1, \"year\":1, \"actors._id\":1} )\n",
    "for item in movies_query :\n",
    "    print(item)"
   ]
  },
  {
   "cell_type": "code",
   "execution_count": 269,
   "metadata": {},
   "outputs": [
    {
     "name": "stdout",
     "output_type": "stream",
     "text": [
      "{'_id': 'movie:56', 'title': 'Le parrain III', 'year': 1990, 'actors': [{'role': 'Mary Corleone'}, {'role': 'Michael Corleone'}, {'role': 'Kay Adams'}, {'role': 'Vincent Mancini'}]}\n",
      "{'_id': 'movie:36', 'title': 'Reservoir dogs', 'year': 1992, 'actors': [{'role': 'Mr. Brown'}, {'role': 'Mr. White/Larry'}, {'role': 'Freddy Newendyke/Mr. Orange'}, {'role': 'Nice Guy Eddie'}, {'role': 'Mr Blonde'}, {'role': 'Mr Pink'}, {'role': 'Mr Blue'}]}\n",
      "{'_id': 'movie:53', 'title': 'Bad Lieutenant', 'year': 1992, 'actors': [{'role': 'Le lieutenant'}]}\n",
      "{'_id': 'movie:17', 'title': 'Pulp fiction', 'year': 1994, 'actors': [{'role': 'Vincent Vega'}, {'role': 'Butch Coolidge'}, {'role': 'Jimmy Dimmick'}, {'role': 'Jules Winnfield'}, {'role': 'Jody'}, {'role': 'Mia Wallace'}, {'role': 'Capt. Koons'}, {'role': 'Winston \"The Wolf\" Wolfe'}, {'role': 'Pumpkin (Ringo)'}]}\n"
     ]
    }
   ],
   "source": [
    "######\"   Opérateurs ensemblistes : in, not in, any, all, exists\" \n",
    "# Q1 : Combien de films dans lesquels ont joué au moins un des artistes suivants : 34, 98 et 1 \n",
    "# afficher leur titre et la liste des actors \n",
    "# sens du tri : chronologique et alphabétique croissant sur les noms des artistes\n",
    "\n",
    "q1 = colection.find({\"actors._id\": {\"$in\":[\"artist:34\", \"artist:98\", \"artist:1\"]}}, {\"title\":1, \"actors.role\":1, \"year\":1}).sort(\"year\",1)\n",
    "for item in q1 :\n",
    "    print(item)"
   ]
  },
  {
   "cell_type": "code",
   "execution_count": 276,
   "metadata": {},
   "outputs": [
    {
     "name": "stdout",
     "output_type": "stream",
     "text": [
      "{'_id': 'movie:9', 'title': 'Gladiator', 'year': 2000, 'actors': [{'_id': 'artist:23'}, {'_id': 'artist:147'}, {'_id': 'artist:148'}, {'_id': 'artist:149'}]}\n"
     ]
    }
   ],
   "source": [
    "# Q2 : les films dans lesquels ont joué ensemble les actors 23 et 147 : \n",
    "q2 = colection.find({\"actors._id\": {\"$all\":[\"artist:23\", \"artist:147\"]}}, {\"title\":1, \"actors._id\":1, \"year\":1})\n",
    "for item in q2 :\n",
    "    print(item)"
   ]
  },
  {
   "cell_type": "code",
   "execution_count": 279,
   "metadata": {},
   "outputs": [
    {
     "name": "stdout",
     "output_type": "stream",
     "text": [
      "{'_id': 'movie:5', 'title': 'Volte/Face'}\n",
      "{'_id': 'movie:8', 'title': 'Impitoyable'}\n",
      "{'_id': 'movie:7', 'title': 'American Beauty'}\n",
      "{'_id': 'movie:9', 'title': 'Gladiator'}\n",
      "{'_id': 'movie:10', 'title': 'Blade Runner'}\n",
      "{'_id': 'movie:2', 'title': 'Alien'}\n",
      "{'_id': 'movie:12', 'title': '58 minutes pour vivre'}\n",
      "{'_id': 'movie:11', 'title': 'Piège de cristal'}\n",
      "{'_id': 'movie:3', 'title': 'Titanic'}\n",
      "{'_id': 'movie:15', 'title': 'Twelve Monkeys'}\n",
      "{'_id': 'movie:13', 'title': 'Van Gogh'}\n",
      "{'_id': 'movie:14', 'title': 'Seven'}\n",
      "{'_id': 'movie:16', 'title': 'Le last_name de la rose'}\n",
      "{'_id': 'movie:19', 'title': 'Terminator'}\n",
      "{'_id': 'movie:6', 'title': 'Sleepy Hollow'}\n",
      "{'_id': 'movie:20', 'title': 'Les dents de la mer'}\n",
      "{'_id': 'movie:23', 'title': 'Matrix'}\n",
      "{'_id': 'movie:25', 'title': 'Kagemusha'}\n",
      "{'_id': 'movie:18', 'title': 'Mary à tout prix'}\n",
      "{'_id': 'movie:27', 'title': 'Le gendarme et les extra-terrestres'}\n",
      "{'_id': 'movie:26', 'title': 'Les pleins pouvoirs'}\n",
      "{'_id': 'movie:22', 'title': 'Godzilla'}\n",
      "{'_id': 'movie:28', 'title': 'Le monde perdu'}\n",
      "{'_id': 'movie:29', 'title': 'Rain Man'}\n",
      "{'_id': 'movie:1', 'title': 'Vertigo'}\n",
      "{'_id': 'movie:4', 'title': 'Sacrifice'}\n",
      "{'_id': 'movie:30', 'title': 'Top Gun'}\n",
      "{'_id': 'movie:24', 'title': 'Mission: Impossible'}\n",
      "{'_id': 'movie:32', 'title': 'Le bon, la brute et le truand'}\n",
      "{'_id': 'movie:31', 'title': 'Les bronzés font du ski'}\n",
      "{'_id': 'movie:33', 'title': 'Psychose'}\n",
      "{'_id': 'movie:38', 'title': 'Shining'}\n",
      "{'_id': 'movie:35', 'title': 'Les oiseaux'}\n",
      "{'_id': 'movie:37', 'title': 'Eyes Wide Shut'}\n",
      "{'_id': 'movie:34', 'title': 'Le retour du Jedi'}\n",
      "{'_id': 'movie:39', 'title': 'Pas de printemps pour Marnie'}\n",
      "{'_id': 'movie:21', 'title': 'Le silence des agneaux'}\n",
      "{'_id': 'movie:40', 'title': 'Fenêtre sur cour'}\n",
      "{'_id': 'movie:41', 'title': 'La mort aux trousses'}\n",
      "{'_id': 'movie:42', 'title': \"Jeanne d'Arc\"}\n",
      "{'_id': 'movie:44', 'title': 'Léon'}\n",
      "{'_id': 'movie:43', 'title': 'Le cinquième élément'}\n",
      "{'_id': 'movie:46', 'title': 'Le grand bleu'}\n",
      "{'_id': 'movie:45', 'title': 'Nikita'}\n",
      "{'_id': 'movie:47', 'title': 'Spider-Man'}\n",
      "{'_id': 'movie:49', 'title': 'The Matrix reloaded'}\n",
      "{'_id': 'movie:48', 'title': 'King of New York'}\n",
      "{'_id': 'movie:50', 'title': 'The Matrix Revolutions'}\n",
      "{'_id': 'movie:54', 'title': 'Le parrain'}\n",
      "{'_id': 'movie:51', 'title': 'De bruit et de fureur'}\n",
      "{'_id': 'movie:52', 'title': 'Usual suspects'}\n",
      "{'_id': 'movie:57', 'title': 'Jackie Brown'}\n",
      "{'_id': 'movie:59', 'title': 'Sixième sens'}\n",
      "{'_id': 'movie:62', 'title': 'Stalingrad'}\n",
      "{'_id': 'movie:64', 'title': 'Pour quelques dollars de plus'}\n",
      "{'_id': 'movie:67', 'title': 'Marie Antoinette'}\n",
      "{'_id': 'movie:69', 'title': 'Heat'}\n",
      "{'_id': 'movie:68', 'title': 'Soleil vert'}\n",
      "{'_id': 'movie:70', 'title': 'Taxi driver'}\n",
      "{'_id': 'movie:61', 'title': 'Kill Bill'}\n",
      "{'_id': 'movie:71', 'title': 'Les affranchis'}\n",
      "{'_id': 'movie:73', 'title': 'Casino Royale'}\n",
      "{'_id': 'movie:58', 'title': 'Une journée en enfer'}\n",
      "{'_id': 'movie:55', 'title': 'Le parrain II'}\n",
      "{'_id': 'movie:76', 'title': 'No country for old men'}\n",
      "{'_id': 'movie:74', 'title': 'Skyfall'}\n",
      "{'_id': 'movie:72', 'title': 'Casino'}\n",
      "{'_id': 'movie:77', 'title': 'Fargo'}\n",
      "{'_id': 'movie:60', 'title': 'Lost in Translation'}\n",
      "{'_id': 'movie:63', 'title': 'Million Dollar Baby'}\n",
      "{'_id': 'movie:78', 'title': 'Django unchained'}\n",
      "{'_id': 'movie:79', 'title': 'Inglourious Basterds'}\n",
      "{'_id': 'movie:81', 'title': 'Les quatre cents coups'}\n",
      "{'_id': 'movie:84', 'title': 'Rio Grande'}\n",
      "{'_id': 'movie:80', 'title': 'Inglourious Basterds'}\n",
      "{'_id': 'movie:85', 'title': 'Interstellar'}\n",
      "{'_id': 'movie:82', 'title': 'Le dernier métro'}\n",
      "{'_id': 'movie:86', 'title': 'Inception'}\n",
      "{'_id': 'movie:87', 'title': 'Memento'}\n",
      "{'_id': 'movie:88', 'title': 'Batman begins'}\n",
      "{'_id': 'movie:89', 'title': 'The Dark Knight'}\n",
      "{'_id': 'movie:90', 'title': 'The Dark Knight Rises'}\n",
      "{'_id': 'movie:92', 'title': 'Nous trois ou rien'}\n",
      "{'_id': 'movie:91', 'title': 'Un prophète'}\n",
      "84\n"
     ]
    },
    {
     "name": "stderr",
     "output_type": "stream",
     "text": [
      "<ipython-input-279-161cb606ea0e>:6: DeprecationWarning: count is deprecated. Use Collection.count_documents instead.\n",
      "  count = q3.count()\n"
     ]
    }
   ],
   "source": [
    "# Q3 : Combien de films dans lesquels ont joué ni l'acteur 34, ni 98, ni 1 et afficher leur titre et la liste des actors \n",
    "# sens du tri : chronologique décroissant et alphabétique croissant sur les titres des films\n",
    "q3 = colection.find({\"actors._id\": {\"$nin\" : [\"artist:34\", \"artist:98\", \"artist:1\"] }}, {\"title\":1})\n",
    "for item in q3 :\n",
    "    print(item)\n",
    "#comptage de ces films\n",
    "count = q3.count()\n",
    "print(count)"
   ]
  },
  {
   "cell_type": "code",
   "execution_count": 295,
   "metadata": {},
   "outputs": [
    {
     "name": "stdout",
     "output_type": "stream",
     "text": [
      "0\n"
     ]
    },
    {
     "name": "stderr",
     "output_type": "stream",
     "text": [
      "<ipython-input-295-3d1a671a2ca2>:7: DeprecationWarning: count is deprecated. Use Collection.count_documents instead.\n",
      "  count = q4.count()\n"
     ]
    }
   ],
   "source": [
    "# Q4.1:  films qui n’ont pas d’attribut actors\n",
    "q4 = colection.find({\"actors\": {\"$exists\" : False }}, {\"title\":1})\n",
    "for item in q4 :\n",
    "    print(item)\n",
    "    \n",
    "#Comptage : \n",
    "count = q4.count()\n",
    "print(count)"
   ]
  },
  {
   "cell_type": "code",
   "execution_count": 296,
   "metadata": {},
   "outputs": [
    {
     "name": "stdout",
     "output_type": "stream",
     "text": [
      "{'_id': 'movie:25', 'title': 'Kagemusha'}\n",
      "{'_id': 'movie:4', 'title': 'Sacrifice'}\n",
      "{'_id': 'movie:40', 'title': 'Fenêtre sur cour'}\n",
      "{'_id': 'movie:64', 'title': 'Pour quelques dollars de plus'}\n",
      "{'_id': 'movie:79', 'title': 'Inglourious Basterds'}\n",
      "{'_id': 'movie:92', 'title': 'Nous trois ou rien'}\n",
      "6\n"
     ]
    },
    {
     "name": "stderr",
     "output_type": "stream",
     "text": [
      "<ipython-input-296-8cb9ac38709f>:7: DeprecationWarning: count is deprecated. Use Collection.count_documents instead.\n",
      "  count = q5.count()\n"
     ]
    }
   ],
   "source": [
    "# Q4.2 : films dont l'attribut actors n'est pas renseigné et les afficher\n",
    "q5 = colection.find({\"actors._id\": {\"$exists\" : False }}, {\"title\":1})\n",
    "for item in q5 :\n",
    "    print(item)\n",
    "    \n",
    "#Comptage : \n",
    "count = q5.count()\n",
    "print(count)"
   ]
  },
  {
   "cell_type": "code",
   "execution_count": 306,
   "metadata": {},
   "outputs": [
    {
     "name": "stdout",
     "output_type": "stream",
     "text": [
      "{'_id': 'artist:20', 'last_name': 'Eastwood', 'first_name': 'Clint', 'birth_date': 1930}\n",
      "{'_id': 'artist:20', 'last_name': 'Eastwood', 'first_name': 'Clint', 'birth_date': 1930}\n",
      "{'_id': 'movie:8', 'title': 'Impitoyable', 'director': {'_id': 'artist:20'}}\n",
      "{'_id': 'movie:26', 'title': 'Les pleins pouvoirs', 'director': {'_id': 'artist:20'}}\n",
      "{'_id': 'movie:63', 'title': 'Million Dollar Baby', 'director': {'_id': 'artist:20'}}\n"
     ]
    }
   ],
   "source": [
    "# -> JOINTURES \n",
    "# TOUS LES FILMS DONT LE DIRECTEUR EST CLINT EASTWOOD\n",
    "\n",
    "q_eastwood = colection2.find({\"first_name\": \"Clint\", \"last_name\": \"Eastwood\"})\n",
    "for item in q_eastwood :\n",
    "    print(item)\n",
    "\n",
    "eastwood =  colection2.find_one({\"first_name\": \"Clint\", \"last_name\": \"Eastwood\"})\n",
    "print(eastwood)\n",
    "\n",
    "q_movies = colection.find({\"director._id\" : eastwood['_id']}, {\"title\": 1, \"director._id\" : 1})\n",
    "for item in q_movies :\n",
    "    print(item)"
   ]
  },
  {
   "cell_type": "code",
   "execution_count": 310,
   "metadata": {},
   "outputs": [
    {
     "name": "stdout",
     "output_type": "stream",
     "text": [
      "{'_id': 'movie:36', 'title': 'Reservoir dogs'}\n"
     ]
    }
   ],
   "source": [
    "# -> Expressions regulieres \n",
    "# Tous les films dont le titre commence par 'Re'\n",
    "\n",
    "q_re = colection.find({\"title\": {\"$regex\" : \"^Re\"} }, {\"title\":1})\n",
    "for item in q_re :\n",
    "    print(item)"
   ]
  },
  {
   "cell_type": "code",
   "execution_count": 311,
   "metadata": {},
   "outputs": [
    {
     "name": "stdout",
     "output_type": "stream",
     "text": [
      "{'_id': 'movie:22', 'title': 'Godzilla'}\n"
     ]
    }
   ],
   "source": [
    "# Tous les films dont le titre finit par 'la'\n",
    "\n",
    "q_la = colection.find({\"title\": {\"$regex\" : \"la$\"} }, {\"title\":1})\n",
    "for item in q_la :\n",
    "    print(item)"
   ]
  },
  {
   "cell_type": "code",
   "execution_count": 317,
   "metadata": {},
   "outputs": [
    {
     "name": "stdout",
     "output_type": "stream",
     "text": [
      "{'_id': 'movie:9', 'title': 'Gladiator', 'actors': [{'_id': 'artist:23', 'role': 'Maximus'}, {'_id': 'artist:147', 'role': 'Commode'}, {'_id': 'artist:148', 'role': 'Lucilla'}, {'_id': 'artist:149', 'role': 'Marc Aurele'}]}\n",
      "1\n"
     ]
    },
    {
     "name": "stderr",
     "output_type": "stream",
     "text": [
      "<ipython-input-317-fbd73cb26cb9>:7: DeprecationWarning: count is deprecated. Use Collection.count_documents instead.\n",
      "  count  = actor_147.count()\n"
     ]
    }
   ],
   "source": [
    "# les films qui ont été joués par l'acteur dont l'id est 147\n",
    "# afficher en se limitant au titre du film et la liste des acteurs\n",
    "actor_147 = colection.find({\"actors._id\": \"artist:147\" }, {\"title\":1, \"actors\": 1})\n",
    "for item in actor_147 :\n",
    "    print(item)\n",
    "    \n",
    "count  = actor_147.count()\n",
    "print(count)"
   ]
  },
  {
   "cell_type": "code",
   "execution_count": 319,
   "metadata": {},
   "outputs": [
    {
     "name": "stdout",
     "output_type": "stream",
     "text": [
      "{'_id': 'movie:9', 'title': 'Gladiator', 'year': 2000, 'genre': 'drama', 'country': 'USA', 'director': {'_id': 'artist:4'}}\n"
     ]
    }
   ],
   "source": [
    "#Retourner les films joués par l'acteur 147 sans les acteurs et sans le résumé\n",
    "actor_147 = colection.find({\"actors._id\": \"artist:147\" }, {\"summary\":0, \"actors\":0})\n",
    "for item in actor_147 :\n",
    "    print(item)"
   ]
  },
  {
   "cell_type": "code",
   "execution_count": 51,
   "metadata": {},
   "outputs": [
    {
     "name": "stdout",
     "output_type": "stream",
     "text": [
      "connection reussie\n",
      "{'title': 'Alien', 'year': 1979, 'genre': 'Science-fiction', 'country': 'USA', 'director': {'_id': 'artist:4'}, 'actors': [{'_id': 'artist:5', 'role': 'Ripley'}]}\n"
     ]
    }
   ],
   "source": [
    "#Les infos sur le film dont le genre est \"Science-fiction\" et produit en 1979 sans préciser l'_id et le summary\n",
    "client = MongoClient('mongodb://localhost:27017/')\n",
    "if client != None:\n",
    "    print(\"connection reussie\")\n",
    "    mydb = client[\"movies_artists\"]\n",
    "    colection = mydb[\"movies\"]\n",
    "    colection2 = mydb[\"artists\"]\n",
    "    request_movies_1979 = colection.find({\"year\" : 1979, \"genre\" : \"Science-fiction\" },{\"_id\" : 0, \"summary\" : 0}).sort(\"title\", -1)\n",
    "    for item in request_movies_1979 :\n",
    "        print(item)\n",
    "else : \n",
    "    print(\"error de connection \")"
   ]
  },
  {
   "cell_type": "code",
   "execution_count": null,
   "metadata": {},
   "outputs": [],
   "source": []
  },
  {
   "cell_type": "code",
   "execution_count": null,
   "metadata": {},
   "outputs": [],
   "source": []
  }
 ],
 "metadata": {
  "kernelspec": {
   "display_name": "Python 3",
   "language": "python",
   "name": "python3"
  },
  "language_info": {
   "codemirror_mode": {
    "name": "ipython",
    "version": 3
   },
   "file_extension": ".py",
   "mimetype": "text/x-python",
   "name": "python",
   "nbconvert_exporter": "python",
   "pygments_lexer": "ipython3",
   "version": "3.8.5"
  }
 },
 "nbformat": 4,
 "nbformat_minor": 4
}
