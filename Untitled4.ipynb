{
 "cells": [
  {
   "cell_type": "code",
   "execution_count": 136,
   "metadata": {},
   "outputs": [],
   "source": [
    "import pymongo\n",
    "from pymongo import MongoClient"
   ]
  },
  {
   "cell_type": "code",
   "execution_count": 137,
   "metadata": {},
   "outputs": [
    {
     "name": "stdout",
     "output_type": "stream",
     "text": [
      "connexion success\n"
     ]
    }
   ],
   "source": [
    "client = MongoClient('mongodb://localhost:27017/')\n",
    "db = client.db_agg\n",
    "restaurants = db.restaurants\n",
    "transaction = db.transaction\n",
    "\n",
    "print('connexion success')"
   ]
  },
  {
   "cell_type": "code",
   "execution_count": 97,
   "metadata": {},
   "outputs": [
    {
     "name": "stdout",
     "output_type": "stream",
     "text": [
      "[{'_id': 'total', 'Total': 1230}]\n"
     ]
    }
   ],
   "source": [
    "#Q-1. Calculer le montant total des paiements ?\n",
    "#total_paiements = transaction.aggregate([{\"$groupe\" : {\"_id\" : None, \"total\" : {\"$sum\" : \"Payement.Total\"} }}])\n",
    "pipeline = [{\"$group\" : {\"_id\" : \"total\", \"Total\" : {\"$sum\": \"$Payment.Total\"}}}]\n",
    "result = transaction.aggregate(pipeline)\n",
    "\n",
    "myList = list(result)\n",
    "print(myList)"
   ]
  },
  {
   "cell_type": "code",
   "execution_count": 148,
   "metadata": {},
   "outputs": [
    {
     "name": "stdout",
     "output_type": "stream",
     "text": [
      "[{'_id': 'tran4', 'Total': 0}, {'_id': 'tran1', 'Total': 410}, {'_id': 'tran3', 'Total': 410}, {'_id': 'tran2', 'Total': 410}]\n"
     ]
    }
   ],
   "source": [
    "# Q-2. Calculer le montant total par transactions (montant total du panier) ?\n",
    "pipeline = {\"$group\" : {\"_id\" : \"$TransactionId\" , \"Total\" : {\"$sum\": \"$Payment.Total\"}}}\n",
    "unwind = {\"$unwind\" : \"$Panier.price\"}\n",
    "result = transaction.aggregate([pipeline])\n",
    "\n",
    "myList = list(result)\n",
    "print(myList)"
   ]
  },
  {
   "cell_type": "code",
   "execution_count": 145,
   "metadata": {},
   "outputs": [
    {
     "name": "stdout",
     "output_type": "stream",
     "text": [
      "[{'_id': None, 'Total': 0}, {'_id': 'Credit-Card', 'Total': 820}, {'_id': 'Debit-Card', 'Total': 410}]\n"
     ]
    }
   ],
   "source": [
    "#Q-3. Calculate total payments (Payment.Total) for each payment type (Payment.Type) ?\n",
    "pipeline = [{\"$group\" : {\"_id\" : \"$Payment.Type\" , \"Total\" : {\"$sum\": \"$Payment.Total\"}}}]\n",
    "result = transaction.aggregate(pipeline)\n",
    "\n",
    "myList = list(result)\n",
    "print(myList)\n"
   ]
  },
  {
   "cell_type": "code",
   "execution_count": 74,
   "metadata": {},
   "outputs": [
    {
     "name": "stdout",
     "output_type": "stream",
     "text": [
      "[{'_id': 'Id', 'MaxId': 103}]\n"
     ]
    }
   ],
   "source": [
    "#Q-4. Trouver l'Id le plus élevé.\n",
    "pipeline = [{\"$group\" : {\"_id\" : \"Id\" , \"MaxId\" : {\"$max\": \"$Id\"}}}]\n",
    "result = transaction.aggregate(pipeline)\n",
    "\n",
    "myList = list(result)\n",
    "print(myList)\n"
   ]
  },
  {
   "cell_type": "code",
   "execution_count": 77,
   "metadata": {},
   "outputs": [
    {
     "name": "stdout",
     "output_type": "stream",
     "text": [
      "[{'_id': None, 'MaxPrice': [200, 210]}]\n"
     ]
    }
   ],
   "source": [
    "#Q-5. Find the max price (Transaction.price) ?\n",
    "pipeline = [{\"$group\" : {\"_id\" : None , \"MaxPrice\" : {\"$max\": \"$Panier.price\"}}}]\n",
    "result = transaction.aggregate(pipeline)\n",
    "\n",
    "myList = list(result)\n",
    "print(myList)\n"
   ]
  },
  {
   "cell_type": "code",
   "execution_count": 70,
   "metadata": {},
   "outputs": [],
   "source": [
    "#####  AGREGER RESTAURANT #######"
   ]
  },
  {
   "cell_type": "code",
   "execution_count": 107,
   "metadata": {},
   "outputs": [
    {
     "name": "stdout",
     "output_type": "stream",
     "text": [
      "[{'_id': 'Bronx', 'nb_restaurant': 2338}, {'_id': 'Brooklyn', 'nb_restaurant': 6085}, {'_id': 'Manhattan', 'nb_restaurant': 10258}, {'_id': 'Missing', 'nb_restaurant': 51}, {'_id': 'Queens', 'nb_restaurant': 5656}, {'_id': 'Staten Island', 'nb_restaurant': 969}]\n"
     ]
    }
   ],
   "source": [
    "# Q : La répartition des restaurants par quartier ?\n",
    "# Indice : quartier => key 'borough'\n",
    "repart_resto_borough = { \"$group\" : {\"_id\" : \"$borough\", \"nb_restaurant\" : {\"$sum\" : 1}} }\n",
    "tri = { \"$sort\" : {\"_id\" : 1} }\n",
    "\n",
    "myList = list(restaurants.aggregate([ repart_resto_borough, tri ]))\n",
    "print(myList)\n"
   ]
  },
  {
   "cell_type": "code",
   "execution_count": 117,
   "metadata": {},
   "outputs": [
    {
     "name": "stdout",
     "output_type": "stream",
     "text": [
      "[{'_id': 'Bronx', 'nb_restaurant': 249}, {'_id': 'Brooklyn', 'nb_restaurant': 687}, {'_id': 'Manhattan', 'nb_restaurant': 1124}, {'_id': 'Missing', 'nb_restaurant': 2}, {'_id': 'Queens', 'nb_restaurant': 571}, {'_id': 'Staten Island', 'nb_restaurant': 75}]\n"
     ]
    }
   ],
   "source": [
    "# Q : La répartition des restaurants dont la dernière inspection a donné un grade \"C\" par quartier ?\n",
    "# Indice : la dernière inspection : la plus récente, donc la première de la liste !\n",
    "# key : \"grade\"\n",
    "repart_resto_borough = { \"$group\" : {\"_id\" : \"$borough\", \"nb_restaurant\" : {\"$sum\" : 1}} }\n",
    "match_C = { \"$match\" : { \"grades.grade\" : \"C\"}}\n",
    "proj = {\"$project\" : {\"name\":1, \"borough\":1, \"_id\":0 } }\n",
    "tri = { \"$sort\" : {\"_id\" : 1} }\n",
    "\n",
    "myList = list(restaurants.aggregate([match_C, proj,repart_resto_borough, tri]))\n",
    "print(myList)\n"
   ]
  },
  {
   "cell_type": "code",
   "execution_count": 87,
   "metadata": {},
   "outputs": [
    {
     "data": {
      "text/plain": [
       "{'_id': ObjectId('600ffbf247ced83a102ed40b'),\n",
       " 'address': {'building': '351',\n",
       "  'coord': {'type': 'Point', 'coordinates': [-73.98513559999999, 40.7676919]},\n",
       "  'street': 'West   57 Street',\n",
       "  'zipcode': '10019'},\n",
       " 'borough': 'Manhattan',\n",
       " 'cuisine': 'Irish',\n",
       " 'grades': [{'date': datetime.datetime(2014, 9, 6, 0, 0),\n",
       "   'grade': 'A',\n",
       "   'score': 2},\n",
       "  {'date': datetime.datetime(2013, 7, 22, 0, 0), 'grade': 'A', 'score': 11},\n",
       "  {'date': datetime.datetime(2012, 7, 31, 0, 0), 'grade': 'A', 'score': 12},\n",
       "  {'date': datetime.datetime(2011, 12, 29, 0, 0), 'grade': 'A', 'score': 12}],\n",
       " 'name': 'Dj Reynolds Pub And Restaurant',\n",
       " 'restaurant_id': '30191841'}"
      ]
     },
     "execution_count": 87,
     "metadata": {},
     "output_type": "execute_result"
    }
   ],
   "source": [
    "restaurants.find_one()"
   ]
  },
  {
   "cell_type": "code",
   "execution_count": 143,
   "metadata": {},
   "outputs": [
    {
     "name": "stdout",
     "output_type": "stream",
     "text": [
      "[]\n"
     ]
    }
   ],
   "source": [
    "# Q : Calculer le score moyen des resto par quartier et trier par score décroissant ?\n",
    "# Indice : utiliser l'opérateur unwid\n",
    "repart_resto_borough = { \"$group\" : {\"_id\" : \"$borough\", \"moyenne\" : {\"$avg\" : \"$grades.score\"}} }\n",
    "tri = { \"$sort\" : {\"_id\" : 1} }\n",
    "unwind = {\"$unwind\" : \"$grades.score\"}\n",
    "\n",
    "myList = list(restaurants.aggregate([unwind]))\n",
    "print(myList)\n"
   ]
  },
  {
   "cell_type": "code",
   "execution_count": null,
   "metadata": {},
   "outputs": [],
   "source": []
  }
 ],
 "metadata": {
  "kernelspec": {
   "display_name": "Python 3",
   "language": "python",
   "name": "python3"
  },
  "language_info": {
   "codemirror_mode": {
    "name": "ipython",
    "version": 3
   },
   "file_extension": ".py",
   "mimetype": "text/x-python",
   "name": "python",
   "nbconvert_exporter": "python",
   "pygments_lexer": "ipython3",
   "version": "3.8.5"
  }
 },
 "nbformat": 4,
 "nbformat_minor": 4
}
