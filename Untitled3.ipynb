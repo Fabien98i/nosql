{
 "cells": [
  {
   "cell_type": "code",
   "execution_count": 1,
   "metadata": {},
   "outputs": [],
   "source": [
    "import pymongo\n"
   ]
  },
  {
   "cell_type": "code",
   "execution_count": 2,
   "metadata": {},
   "outputs": [],
   "source": [
    "from pymongo import MongoClient"
   ]
  },
  {
   "cell_type": "code",
   "execution_count": 4,
   "metadata": {},
   "outputs": [
    {
     "name": "stdout",
     "output_type": "stream",
     "text": [
      "connexion success\n"
     ]
    }
   ],
   "source": [
    "client = MongoClient('mongodb://localhost:27017/')\n",
    "db = client.gym\n",
    "gymnases = db.Gymnases\n",
    "sportifs = db.Sportifs\n",
    "\n",
    "print('connexion success')"
   ]
  },
  {
   "cell_type": "code",
   "execution_count": 68,
   "metadata": {},
   "outputs": [
    {
     "name": "stdout",
     "output_type": "stream",
     "text": [
      "{'_id': '566eec69662b388eba464299', 'IdGymnase': 1, 'NomGymnase': 'PAUL ELUARD', 'Adresse': '2 rue des pépines', 'Ville': 'STAINS'}\n",
      "{'_id': '566eec69662b388eba46429a', 'IdGymnase': 2, 'NomGymnase': 'ARAGON', 'Adresse': 'Place du Chartres', 'Ville': 'MONTMORENCY'}\n",
      "{'_id': '566eec69662b388eba46429b', 'IdGymnase': 3, 'NomGymnase': 'SAINT EXUPERY', 'Adresse': '47 bvd des brumes', 'Ville': 'PIERREFITTE'}\n",
      "{'_id': '566eec69662b388eba46429c', 'IdGymnase': 4, 'NomGymnase': 'PAUL ELUARD', 'Adresse': 'Allée J.B. Lulli', 'Ville': 'SARCELLES'}\n",
      "{'_id': '566eec69662b388eba46429d', 'IdGymnase': 5, 'NomGymnase': 'BRASSENS', 'Adresse': '153 square Loliot', 'Ville': 'SARCELLES'}\n",
      "{'_id': '566eec69662b388eba46429e', 'IdGymnase': 6, 'NomGymnase': 'VERLAINE', 'Adresse': '14 bvd Serrault', 'Ville': 'STAINS'}\n",
      "{'_id': '566eec69662b388eba46429f', 'IdGymnase': 7, 'NomGymnase': 'JULES FERRY', 'Adresse': '45 rue de la gare', 'Ville': 'PIERREFITTE'}\n",
      "{'_id': '566eec69662b388eba4642a0', 'IdGymnase': 8, 'NomGymnase': 'PREVERT', 'Adresse': '12 rue des collines', 'Ville': 'MONTMORENCY'}\n",
      "{'_id': '566eec69662b388eba4642a1', 'IdGymnase': 9, 'NomGymnase': 'CAMUS', 'Adresse': '3 esplanade des quatrans', 'Ville': 'SARCELLES'}\n",
      "{'_id': '566eec69662b388eba4642a2', 'IdGymnase': 10, 'NomGymnase': 'RIMBAUD', 'Adresse': '140 bvd Diderot', 'Ville': 'STAINS'}\n",
      "{'_id': '566eec69662b388eba4642a3', 'IdGymnase': 11, 'NomGymnase': 'LAMARTINE', 'Adresse': '7 rue de la souris verte', 'Ville': 'PIERREFITTE'}\n",
      "{'_id': '566eec69662b388eba4642a4', 'IdGymnase': 12, 'NomGymnase': 'MOZART', 'Adresse': '6 Allée Rosana', 'Ville': 'MONTMORENCY'}\n",
      "{'_id': '566eec69662b388eba4642a5', 'IdGymnase': 13, 'NomGymnase': 'RAVEL', 'Adresse': 'Place aux pommes', 'Ville': 'STAINS'}\n",
      "{'_id': '566eec69662b388eba4642a6', 'IdGymnase': 14, 'NomGymnase': 'CHOPIN', 'Adresse': '23 rue Carafelli', 'Ville': 'MONTMORENCY'}\n",
      "{'_id': '566eec69662b388eba4642a7', 'IdGymnase': 15, 'NomGymnase': 'BREL', 'Adresse': '4 rue de la miséricorde', 'Ville': 'PIERREFITTE'}\n",
      "{'_id': '566eec69662b388eba4642a8', 'IdGymnase': 16, 'NomGymnase': 'SAMOURAI', 'Adresse': '4 Allée des pendules', 'Ville': 'SARCELLES'}\n",
      "{'_id': '566eec69662b388eba4642a9', 'IdGymnase': 17, 'NomGymnase': 'GARCIA LORCA', 'Adresse': '45 bvd des Comes', 'Ville': 'STAINS'}\n",
      "{'_id': '566eec69662b388eba4642aa', 'IdGymnase': 18, 'NomGymnase': 'PABLO NERUDA', 'Adresse': '6 rue saint Jean', 'Ville': 'PIERREFITTE'}\n",
      "{'_id': '566eec69662b388eba4642ab', 'IdGymnase': 19, 'NomGymnase': 'COCTEAU', 'Adresse': '45 bis rue du moulin rouge', 'Ville': 'MONTMORENCY'}\n",
      "{'_id': '566eec69662b388eba4642ac', 'IdGymnase': 20, 'NomGymnase': 'LUMIERES', 'Adresse': '78 rue Vendôme', 'Ville': 'SARCELLES'}\n",
      "{'_id': '566eec69662b388eba4642ad', 'IdGymnase': 21, 'NomGymnase': 'SIMON', 'Adresse': '8 bvd général de Gaulle', 'Ville': 'STAINS'}\n",
      "{'_id': '566eec69662b388eba4642ae', 'IdGymnase': 22, 'NomGymnase': 'BARBARA', 'Adresse': '45  rue du bossu', 'Ville': 'SAINT DENIS'}\n",
      "{'_id': '566eec69662b388eba4642af', 'IdGymnase': 23, 'NomGymnase': 'ARAGON', 'Adresse': '10 Bvd Lenoir', 'Ville': 'SAINT DENIS'}\n",
      "{'_id': '566eec69662b388eba4642b0', 'IdGymnase': 24, 'NomGymnase': 'BELFEGOR', 'Adresse': 'Place de Gaulle', 'Ville': 'SAINT DENIS'}\n",
      "{'_id': '566eec69662b388eba4642b1', 'IdGymnase': 25, 'NomGymnase': 'DOLTO', 'Adresse': '3 square Plaisir', 'Ville': 'VILLETANEUSE'}\n",
      "{'_id': '566eec69662b388eba4642b2', 'IdGymnase': 26, 'NomGymnase': 'MERMOZ', 'Adresse': '41 rue des ponts', 'Ville': 'VILLETANEUSE'}\n",
      "{'_id': '566eec69662b388eba4642b3', 'IdGymnase': 27, 'NomGymnase': 'PASCAL', 'Adresse': '20 rue de la pirogue', 'Ville': 'VILLETANEUSE'}\n",
      "{'_id': '566eec69662b388eba4642b4', 'IdGymnase': 28, 'NomGymnase': 'BLAISE PASCAL', 'Adresse': '2bis rue de la moulerie', 'Ville': 'GARGES'}\n"
     ]
    }
   ],
   "source": [
    "for item in gymnases.find({},{ \"IdGymnase\" : 1, \"NomGymnase\" : 1 , \"Adresse\" : 1, \"Ville\" : 1 }):\n",
    "    print(item)"
   ]
  },
  {
   "cell_type": "code",
   "execution_count": 9,
   "metadata": {},
   "outputs": [
    {
     "name": "stdout",
     "output_type": "stream",
     "text": [
      "Gymnases : \n"
     ]
    },
    {
     "data": {
      "text/plain": [
       "{'_id': '566eec69662b388eba464299',\n",
       " 'IdGymnase': 1,\n",
       " 'NomGymnase': 'PAUL ELUARD',\n",
       " 'Adresse': '2 rue des pépines',\n",
       " 'Ville': 'STAINS',\n",
       " 'Surface': 200,\n",
       " 'Seances': [{'IdSportifEntraineur': 149,\n",
       "   'Jour': 'Samedi',\n",
       "   'Horaire': 9.0,\n",
       "   'Duree': 60,\n",
       "   'Libelle': 'Basket ball'},\n",
       "  {'IdSportifEntraineur': 1,\n",
       "   'Jour': 'Lundi',\n",
       "   'Horaire': 9.0,\n",
       "   'Duree': 60,\n",
       "   'Libelle': 'Hand ball'},\n",
       "  {'IdSportifEntraineur': 1,\n",
       "   'Jour': 'Lundi',\n",
       "   'Horaire': 10.0,\n",
       "   'Duree': 60,\n",
       "   'Libelle': 'Hand ball'},\n",
       "  {'IdSportifEntraineur': 1,\n",
       "   'Jour': 'Lundi',\n",
       "   'Horaire': 11.3,\n",
       "   'Duree': 60,\n",
       "   'Libelle': 'Hand ball'},\n",
       "  {'IdSportifEntraineur': 1,\n",
       "   'Jour': 'Lundi',\n",
       "   'Horaire': 14.0,\n",
       "   'Duree': 90,\n",
       "   'Libelle': 'Hand ball'},\n",
       "  {'IdSportifEntraineur': 1,\n",
       "   'Jour': 'lundi',\n",
       "   'Horaire': 17.3,\n",
       "   'Duree': 120,\n",
       "   'Libelle': 'Hand ball'},\n",
       "  {'IdSportifEntraineur': 1,\n",
       "   'Jour': 'Lundi',\n",
       "   'Horaire': 19.3,\n",
       "   'Duree': 120,\n",
       "   'Libelle': 'Hand ball'},\n",
       "  {'IdSportifEntraineur': 2,\n",
       "   'Jour': 'Dimanche',\n",
       "   'Horaire': 17.3,\n",
       "   'Duree': 120,\n",
       "   'Libelle': 'Hand ball'},\n",
       "  {'IdSportifEntraineur': 2,\n",
       "   'Jour': 'Dimanche',\n",
       "   'Horaire': 19.3,\n",
       "   'Duree': 120,\n",
       "   'Libelle': 'Hand ball'},\n",
       "  {'IdSportifEntraineur': 2,\n",
       "   'Jour': 'mardi',\n",
       "   'Horaire': 17.3,\n",
       "   'Duree': 120,\n",
       "   'Libelle': 'Hand ball'},\n",
       "  {'IdSportifEntraineur': 2,\n",
       "   'Jour': 'mercredi',\n",
       "   'Horaire': 17.3,\n",
       "   'Duree': 120,\n",
       "   'Libelle': 'Hand ball'},\n",
       "  {'IdSportifEntraineur': 2,\n",
       "   'Jour': 'Samedi',\n",
       "   'Horaire': 15.3,\n",
       "   'Duree': 60,\n",
       "   'Libelle': 'Hand ball'},\n",
       "  {'IdSportifEntraineur': 2,\n",
       "   'Jour': 'Samedi',\n",
       "   'Horaire': 16.3,\n",
       "   'Duree': 60,\n",
       "   'Libelle': 'Hand ball'},\n",
       "  {'IdSportifEntraineur': 2,\n",
       "   'Jour': 'Samedi',\n",
       "   'Horaire': 17.3,\n",
       "   'Duree': 120,\n",
       "   'Libelle': 'Hand ball'},\n",
       "  {'IdSportifEntraineur': 3,\n",
       "   'Jour': 'jeudi',\n",
       "   'Horaire': 20.0,\n",
       "   'Duree': 30,\n",
       "   'Libelle': 'Hand ball'},\n",
       "  {'IdSportifEntraineur': 3,\n",
       "   'Jour': 'lundi',\n",
       "   'Horaire': 14.0,\n",
       "   'Duree': 60,\n",
       "   'Libelle': 'Hand ball'},\n",
       "  {'IdSportifEntraineur': 3,\n",
       "   'Jour': 'lundi',\n",
       "   'Horaire': 18.0,\n",
       "   'Duree': 30,\n",
       "   'Libelle': 'Hand ball'},\n",
       "  {'IdSportifEntraineur': 3,\n",
       "   'Jour': 'lundi',\n",
       "   'Horaire': 19.0,\n",
       "   'Duree': 30,\n",
       "   'Libelle': 'Hand ball'},\n",
       "  {'IdSportifEntraineur': 3,\n",
       "   'Jour': 'lundi',\n",
       "   'Horaire': 20.0,\n",
       "   'Duree': 30,\n",
       "   'Libelle': 'Hand ball'},\n",
       "  {'IdSportifEntraineur': 7,\n",
       "   'Jour': 'mercredi',\n",
       "   'Horaire': 17.0,\n",
       "   'Duree': 90,\n",
       "   'Libelle': 'Hockey'}]}"
      ]
     },
     "execution_count": 9,
     "metadata": {},
     "output_type": "execute_result"
    }
   ],
   "source": [
    "print(\"Gymnases : \") \n",
    "gymnases.find_one()"
   ]
  },
  {
   "cell_type": "code",
   "execution_count": 10,
   "metadata": {},
   "outputs": [
    {
     "name": "stdout",
     "output_type": "stream",
     "text": [
      "Sportifs : \n"
     ]
    },
    {
     "data": {
      "text/plain": [
       "{'_id': '566eec5f662b388eba464203',\n",
       " 'IdSportif': 1,\n",
       " 'Nom': 'BOUTAHAR',\n",
       " 'Prenom': 'Abderahim',\n",
       " 'Sexe': 'm',\n",
       " 'Age': 30,\n",
       " 'Sports': {'Jouer': ['Volley ball', 'Tennis', 'Football'],\n",
       "  'Arbitrer': ['Basket ball', 'Volley ball', 'Hockey'],\n",
       "  'Entrainer': ['Basket ball',\n",
       "   'Volley ball',\n",
       "   'Hand ball',\n",
       "   'Hockey',\n",
       "   'Badmington']}}"
      ]
     },
     "execution_count": 10,
     "metadata": {},
     "output_type": "execute_result"
    }
   ],
   "source": [
    "print(\"Sportifs : \") \n",
    "sportifs.find_one()"
   ]
  },
  {
   "cell_type": "code",
   "execution_count": 11,
   "metadata": {},
   "outputs": [
    {
     "name": "stdout",
     "output_type": "stream",
     "text": [
      "{'_id': '566eec5f662b388eba464203', 'IdSportif': 1, 'Nom': 'BOUTAHAR', 'Prenom': 'Abderahim', 'Sexe': 'm', 'Age': 30, 'Sports': {'Jouer': ['Volley ball', 'Tennis', 'Football'], 'Arbitrer': ['Basket ball', 'Volley ball', 'Hockey'], 'Entrainer': ['Basket ball', 'Volley ball', 'Hand ball', 'Hockey', 'Badmington']}}\n",
      "{'_id': '566eec5f662b388eba464204', 'IdSportif': 2, 'Nom': 'KERVADEC', 'Prenom': 'Yann', 'Sexe': 'M', 'Age': 28, 'IdSportifConseiller': 1, 'Sports': {'Jouer': ['Basket ball', 'Volley ball', 'Ping pong', 'Football'], 'Arbitrer': ['Hockey', 'Football'], 'Entrainer': ['Basket ball', 'Volley ball', 'Hand ball', 'Tennis', 'Hockey', 'Badmington', 'Ping pong', 'Boxe']}}\n",
      "{'_id': '566eec5f662b388eba464205', 'IdSportif': 3, 'Nom': 'HUE', 'Prenom': 'Pascale', 'Sexe': 'F', 'Age': 25, 'IdSportifConseiller': 1, 'Sports': {'Jouer': ['Volley ball', 'Ping pong'], 'Arbitrer': ['Volley ball', 'Badmington', 'Ping pong'], 'Entrainer': ['Basket ball', 'Volley ball', 'Hand ball', 'Badmington']}}\n",
      "{'_id': '566eec5f662b388eba464206', 'IdSportif': 4, 'Nom': 'DORLEANS', 'Prenom': 'Jean-michel', 'Sexe': 'M', 'Age': 32, 'IdSportifConseiller': 1, 'Sports': {'Jouer': ['Volley ball', 'Football'], 'Arbitrer': ['Basket ball', 'Volley ball', 'Ping pong', 'Boxe'], 'Entrainer': ['Basket ball', 'Ping pong', 'Boxe']}}\n",
      "{'_id': '566eec5f662b388eba464207', 'IdSportif': 5, 'Nom': 'COMES', 'Prenom': 'Sylvie', 'Sexe': 'F', 'Age': 22, 'IdSportifConseiller': 1, 'Sports': {'Jouer': ['Basket ball', 'Volley ball', 'Badmington', 'Ping pong'], 'Arbitrer': 'Ping pong'}}\n",
      "{'_id': '566eec5f662b388eba464208', 'IdSportif': 6, 'Nom': 'RETALDI', 'Prenom': 'Sophie', 'Sexe': 'F', 'Age': 30, 'IdSportifConseiller': 3, 'Sports': {'Jouer': ['Basket ball', 'Volley ball', 'Hand ball', 'Ping pong'], 'Arbitrer': ['Basket ball', 'Hockey', 'Ping pong'], 'Entrainer': ['Hockey', 'Ping pong', 'Boxe']}}\n",
      "{'_id': '566eec5f662b388eba464209', 'IdSportif': 7, 'Nom': 'GOMEZ', 'Prenom': 'Diego', 'Sexe': 'M', 'Age': 25, 'IdSportifConseiller': 2, 'Sports': {'Jouer': ['Volley ball', 'Tennis', 'Football'], 'Arbitrer': ['Volley ball', 'Hand ball', 'Hockey'], 'Entrainer': ['Volley ball', 'Hand ball', 'Hockey', 'Badmington']}}\n",
      "{'_id': '566eec5f662b388eba46420a', 'IdSportif': 9, 'Nom': 'ANTUNES', 'Prenom': 'Gaêlle', 'Sexe': 'F', 'Age': 23, 'IdSportifConseiller': 4, 'Sports': {'Jouer': ['Volley ball', 'Tennis', 'Badmington']}}\n",
      "{'_id': '566eec5f662b388eba46420b', 'IdSportif': 10, 'Nom': 'BLANDET', 'Prenom': 'Arnaud', 'Sexe': 'M', 'Age': 23, 'IdSportifConseiller': 2, 'Sports': {'Jouer': ['Volley ball', 'Tennis', 'Badmington', 'Football']}}\n",
      "{'_id': '566eec5f662b388eba46420c', 'IdSportif': 11, 'Nom': 'BONNET', 'Prenom': 'Christophe', 'Sexe': 'M', 'Age': 24, 'IdSportifConseiller': 6, 'Sports': {'Jouer': ['Volley ball', 'Tennis', 'Football']}}\n",
      "{'_id': '566eec5f662b388eba46420d', 'IdSportif': 12, 'Nom': 'BORREL', 'Prenom': 'Benoît', 'Sexe': 'M', 'Age': 24, 'IdSportifConseiller': 8, 'Sports': {'Jouer': ['Volley ball', 'Tennis', 'Football']}}\n",
      "{'_id': '566eec5f662b388eba46420e', 'IdSportif': 13, 'Nom': 'BOYON', 'Prenom': 'Julien', 'Sexe': 'M', 'Age': 22, 'IdSportifConseiller': 4, 'Sports': {'Jouer': ['Volley ball', 'Badmington', 'Football']}}\n",
      "{'_id': '566eec5f662b388eba46420f', 'IdSportif': 14, 'Nom': 'CAILLIOT', 'Prenom': 'Stéphanie', 'Sexe': 'F', 'Age': 24, 'IdSportifConseiller': 1, 'Sports': {'Jouer': ['Basket ball', 'Volley ball', 'Ping pong']}}\n",
      "{'_id': '566eec5f662b388eba464210', 'IdSportif': 15, 'Nom': 'CHAMPENOIS', 'Prenom': 'Cédric', 'Sexe': 'M', 'Age': 25, 'IdSportifConseiller': 3, 'Sports': {'Jouer': ['Volley ball', 'Tennis', 'Football']}}\n",
      "{'_id': '566eec5f662b388eba464211', 'IdSportif': 16, 'Nom': 'COLAS', 'Prenom': 'Michaël', 'Sexe': 'M', 'Age': 24, 'IdSportifConseiller': 8, 'Sports': {'Jouer': ['Volley ball', 'Football']}}\n",
      "{'_id': '566eec5f662b388eba464212', 'IdSportif': 17, 'Nom': 'COLOMB', 'Prenom': 'Michaël', 'Sexe': 'M', 'Age': 22, 'IdSportifConseiller': 7, 'Sports': {'Jouer': ['Volley ball', 'Badmington', 'Football']}}\n",
      "{'_id': '566eec5f662b388eba464213', 'IdSportif': 18, 'Nom': 'HOSNI', 'Prenom': 'Leila', 'Sexe': 'F', 'Age': 25, 'IdSportifConseiller': 5, 'Sports': {'Jouer': 'Volley ball'}}\n",
      "{'_id': '566eec5f662b388eba464214', 'IdSportif': 19, 'Nom': 'TESTEMONT', 'Prenom': 'Laurent', 'Sexe': 'M', 'Age': 25, 'IdSportifConseiller': 1, 'Sports': {'Jouer': ['Volley ball', 'Hand ball', 'Football'], 'Arbitrer': 'Volley ball'}}\n",
      "{'_id': '566eec5f662b388eba464215', 'IdSportif': 20, 'Nom': 'TIENER', 'Prenom': 'Thomas', 'Sexe': 'M', 'Age': 25, 'IdSportifConseiller': 2, 'Sports': {'Jouer': ['Basket ball', 'Volley ball', 'Hand ball', 'Ping pong', 'Football'], 'Arbitrer': 'Volley ball'}}\n",
      "{'_id': '566eec5f662b388eba464216', 'IdSportif': 21, 'Nom': 'LE BOUCHER', 'Prenom': 'Denis', 'Sexe': 'M', 'Age': 22, 'IdSportifConseiller': 2, 'Sports': {'Jouer': ['Volley ball', 'Tennis', 'Badmington', 'Football']}}\n",
      "{'_id': '566eec5f662b388eba464217', 'IdSportif': 22, 'Nom': 'LEDUFAUD', 'Prenom': 'Pierre', 'Sexe': 'M', 'Age': 25, 'IdSportifConseiller': 3, 'Sports': {'Jouer': ['Basket ball', 'Volley ball', 'Ping pong', 'Football']}}\n",
      "{'_id': '566eec5f662b388eba464218', 'IdSportif': 23, 'Nom': 'LEGRAND', 'Prenom': 'David', 'Sexe': 'M', 'Age': 24, 'IdSportifConseiller': 2, 'Sports': {'Jouer': ['Volley ball', 'Tennis', 'Football']}}\n",
      "{'_id': '566eec5f662b388eba464219', 'IdSportif': 24, 'Nom': 'LEJEUNE', 'Prenom': 'Sylvaine', 'Sexe': 'F', 'Age': 23, 'IdSportifConseiller': 7, 'Sports': {'Jouer': ['Basket ball', 'Volley ball', 'Badmington', 'Ping pong']}}\n",
      "{'_id': '566eec5f662b388eba46421a', 'IdSportif': 25, 'Nom': 'MARTORA', 'Prenom': 'Fabrice', 'Sexe': 'M', 'Age': 23, 'IdSportifConseiller': 9, 'Sports': {'Jouer': ['Volley ball', 'Hand ball', 'Tennis', 'Badmington', 'Football']}}\n",
      "{'_id': '566eec5f662b388eba46421b', 'IdSportif': 26, 'Nom': 'MICHEL', 'Prenom': 'Frédérique', 'Sexe': 'F', 'Age': 23, 'IdSportifConseiller': 3, 'Sports': {'Jouer': ['Volley ball', 'Hand ball', 'Tennis', 'Badmington']}}\n",
      "{'_id': '566eec5f662b388eba46421c', 'IdSportif': 27, 'Nom': 'NIELLEZ', 'Prenom': 'Christophe', 'Sexe': 'M', 'Age': 23, 'IdSportifConseiller': 7, 'Sports': {'Jouer': ['Volley ball', 'Hand ball', 'Tennis', 'Badmington', 'Football']}}\n",
      "{'_id': '566eec5f662b388eba46421d', 'IdSportif': 28, 'Nom': 'RABAHI', 'Prenom': 'Rabah', 'Sexe': 'M', 'Age': 40, 'IdSportifConseiller': 4, 'Sports': {'Jouer': ['Basket ball', 'Volley ball', 'Hand ball', 'Ping pong', 'Football']}}\n",
      "{'_id': '566eec5f662b388eba46421e', 'IdSportif': 29, 'Nom': 'ROUSSEL', 'Prenom': 'Nadège', 'Sexe': 'F', 'Age': 22, 'IdSportifConseiller': 5, 'Sports': {'Jouer': ['Volley ball', 'Hand ball', 'Badmington', 'Ping pong'], 'Arbitrer': 'Ping pong', 'Entrainer': 'Ping pong'}}\n",
      "{'_id': '566eec5f662b388eba46421f', 'IdSportif': 30, 'Nom': 'SCHINK', 'Prenom': 'Nicolas', 'Sexe': 'M', 'Age': 24, 'IdSportifConseiller': 4, 'Sports': {'Jouer': ['Volley ball', 'Hand ball', 'Ping pong', 'Football'], 'Entrainer': 'Ping pong'}}\n",
      "{'_id': '566eec5f662b388eba464220', 'IdSportif': 31, 'Nom': 'STEMPUT', 'Prenom': 'Mathieu', 'Sexe': 'M', 'Age': 22, 'IdSportifConseiller': 2, 'Sports': {'Jouer': ['Volley ball', 'Hand ball', 'Badmington', 'Football'], 'Entrainer': 'Ping pong'}}\n",
      "{'_id': '566eec5f662b388eba464221', 'IdSportif': 32, 'Nom': 'VAN CAUTER', 'Prenom': 'Vincent', 'Sexe': 'M', 'Age': 23, 'IdSportifConseiller': 3, 'Sports': {'Jouer': ['Basket ball', 'Volley ball', 'Hand ball', 'Badmington', 'Ping pong', 'Football'], 'Arbitrer': 'Ping pong', 'Entrainer': 'Ping pong'}}\n",
      "{'_id': '566eec60662b388eba464222', 'IdSportif': 33, 'Nom': 'RAMPNOUX', 'Prenom': 'Jean françois', 'Sexe': 'M', 'Age': 23, 'IdSportifConseiller': 1, 'Sports': {'Jouer': ['Volley ball', 'Hand ball', 'Badmington', 'Football']}}\n",
      "{'_id': '566eec60662b388eba464223', 'IdSportif': 34, 'Nom': 'LHERPINIERE', 'Prenom': 'Olivier', 'Sexe': 'M', 'Age': 24, 'IdSportifConseiller': 3, 'Sports': {'Jouer': ['Volley ball', 'Hand ball', 'Ping pong', 'Football']}}\n",
      "{'_id': '566eec60662b388eba464224', 'IdSportif': 35, 'Nom': 'TANQUE', 'Prenom': 'Yann', 'Sexe': 'M', 'Age': 24, 'IdSportifConseiller': 4, 'Sports': {'Jouer': ['Basket ball', 'Volley ball', 'Hand ball', 'Ping pong', 'Football'], 'Arbitrer': 'Badmington', 'Entrainer': ['Badmington', 'Ping pong']}}\n",
      "{'_id': '566eec60662b388eba464225', 'IdSportif': 36, 'Nom': 'DJELOUDANE', 'Prenom': 'Zinedine', 'Sexe': 'M', 'Age': 28, 'IdSportifConseiller': 1, 'Sports': {'Jouer': ['Basket ball', 'Volley ball', 'Ping pong', 'Football'], 'Entrainer': 'Badmington'}}\n",
      "{'_id': '566eec60662b388eba464226', 'IdSportif': 37, 'Nom': 'LAZZARI', 'Prenom': 'Magali', 'Sexe': 'F', 'Age': 25, 'IdSportifConseiller': 44, 'Sports': {'Jouer': 'Volley ball'}}\n",
      "{'_id': '566eec60662b388eba464227', 'IdSportif': 38, 'Nom': 'VASSEMON', 'Prenom': 'Laurent', 'Sexe': 'M', 'Age': 24, 'IdSportifConseiller': 1, 'Sports': {'Jouer': ['Hand ball', 'Badmington', 'Football'], 'Entrainer': 'Ping pong'}}\n",
      "{'_id': '566eec60662b388eba464228', 'IdSportif': 39, 'Nom': 'MOREL', 'Prenom': 'Mathieu', 'Sexe': 'M', 'Age': 24, 'IdSportifConseiller': 8, 'Sports': {'Jouer': ['Hand ball', 'Football']}}\n",
      "{'_id': '566eec60662b388eba464229', 'IdSportif': 40, 'Nom': 'VALIN', 'Prenom': 'Yann', 'Sexe': 'M', 'Age': 23, 'IdSportifConseiller': 2, 'Sports': {'Jouer': ['Basket ball', 'Hand ball', 'Badmington', 'Ping pong', 'Football'], 'Entrainer': ['Badmington', 'Ping pong']}}\n",
      "{'_id': '566eec60662b388eba46422a', 'IdSportif': 41, 'Nom': 'DELOVINA', 'Prenom': 'Elina', 'Sexe': 'F', 'Age': 22, 'IdSportifConseiller': 7, 'Sports': {'Jouer': ['Tennis', 'Badmington']}}\n",
      "{'_id': '566eec60662b388eba46422b', 'IdSportif': 42, 'Nom': 'LEHOUX', 'Prenom': 'Bruno', 'Sexe': 'M', 'Age': 23, 'IdSportifConseiller': 5, 'Sports': {'Jouer': ['Tennis', 'Badmington', 'Football']}}\n",
      "{'_id': '566eec60662b388eba46422c', 'IdSportif': 43, 'Nom': 'MATHIEU', 'Prenom': 'Denise', 'Sexe': 'F', 'Age': 23, 'IdSportifConseiller': 6, 'Sports': {'Jouer': ['Hand ball', 'Tennis', 'Badmington']}}\n",
      "{'_id': '566eec60662b388eba46422d', 'IdSportif': 44, 'Nom': 'ADIBO', 'Prenom': 'Senamé', 'Sexe': 'M', 'Age': 28, 'IdSportifConseiller': 21, 'Sports': {'Jouer': ['Basket ball', 'Ping pong', 'Football']}}\n",
      "{'_id': '566eec60662b388eba46422e', 'IdSportif': 45, 'Nom': 'CHAVANT', 'Prenom': 'Christophe', 'Sexe': 'M', 'Age': 25, 'Sports': {'Jouer': ['Tennis', 'Football']}}\n",
      "{'_id': '566eec60662b388eba46422f', 'IdSportif': 46, 'Nom': 'DAUXIAN', 'Prenom': 'Cédric', 'Sexe': 'M', 'Age': 24, 'IdSportifConseiller': 4, 'Sports': {'Jouer': ['Tennis', 'Football']}}\n",
      "{'_id': '566eec60662b388eba464230', 'IdSportif': 47, 'Nom': 'GROEN', 'Prenom': 'Céline', 'Sexe': 'F', 'Age': 25, 'IdSportifConseiller': 2, 'Sports': {'Jouer': 'Tennis'}}\n",
      "{'_id': '566eec60662b388eba464231', 'IdSportif': 48, 'Nom': 'HEDDI', 'Prenom': 'Zohra', 'Sexe': 'F', 'Age': 23, 'IdSportifConseiller': 2, 'Sports': {'Jouer': ['Basket ball', 'Badmington', 'Ping pong'], 'Entrainer': 'Badmington'}}\n",
      "{'_id': '566eec60662b388eba464232', 'IdSportif': 49, 'Nom': 'JOUVE', 'Prenom': 'Sandra', 'Sexe': 'F', 'Age': 24, 'IdSportifConseiller': 5, 'Sports': {'Jouer': ['Basket ball', 'Ping pong']}}\n",
      "{'_id': '566eec60662b388eba464233', 'IdSportif': 50, 'Nom': 'KALOMBO', 'Prenom': 'Yannick', 'Sexe': 'M', 'Age': 22, 'IdSportifConseiller': 2, 'Sports': {'Jouer': ['Basket ball', 'Badmington', 'Ping pong', 'Football'], 'Entrainer': 'Badmington'}}\n",
      "{'_id': '566eec60662b388eba464234', 'IdSportif': 51, 'Nom': 'LOPEZ', 'Prenom': 'Thibaud', 'Sexe': 'M', 'Age': 24, 'IdSportifConseiller': 5, 'Sports': {'Jouer': ['Basket ball', 'Hand ball', 'Ping pong', 'Football']}}\n",
      "{'_id': '566eec60662b388eba464235', 'IdSportif': 52, 'Nom': 'DANDOIS', 'Prenom': 'Régis', 'Sexe': 'M', 'Age': 22, 'IdSportifConseiller': 5, 'Sports': {'Jouer': ['Basket ball', 'Badmington', 'Ping pong', 'Football']}}\n",
      "{'_id': '566eec60662b388eba464236', 'IdSportif': 53, 'Nom': 'DEMMER', 'Prenom': 'Thomas', 'Sexe': 'M', 'Age': 22, 'IdSportifConseiller': 1, 'Sports': {'Jouer': ['Basket ball', 'Badmington', 'Ping pong', 'Football']}}\n",
      "{'_id': '566eec60662b388eba464237', 'IdSportif': 54, 'Nom': 'ELKABBADJ', 'Prenom': 'Mohammed', 'Sexe': 'M', 'Age': 23, 'IdSportifConseiller': 2, 'Sports': {'Jouer': ['Badmington', 'Ping pong', 'Football']}}\n",
      "{'_id': '566eec60662b388eba464238', 'IdSportif': 55, 'Nom': 'FEROLDI', 'Prenom': 'Olivier', 'Sexe': 'M', 'Age': 23, 'IdSportifConseiller': 2, 'Sports': {'Jouer': ['Badmington', 'Ping pong', 'Football']}}\n",
      "{'_id': '566eec60662b388eba464239', 'IdSportif': 56, 'Nom': 'GUERRAOUI', 'Prenom': 'Zohra', 'Sexe': 'F', 'Age': 25, 'IdSportifConseiller': 1, 'Sports': {'Jouer': ['Basket ball', 'Ping pong'], 'Entrainer': 'Badmington'}}\n",
      "{'_id': '566eec60662b388eba46423a', 'IdSportif': 57, 'Nom': 'BOISSEAU', 'Prenom': 'Eric', 'Sexe': 'M', 'Age': 25, 'IdSportifConseiller': 1, 'Sports': {'Jouer': ['Tennis', 'Football'], 'Entrainer': ['Volley ball', 'Tennis']}}\n",
      "{'_id': '566eec60662b388eba46423b', 'IdSportif': 58, 'Nom': 'GUIGUI', 'Prenom': 'Vincent', 'Sexe': 'M', 'Age': 23, 'IdSportifConseiller': 4, 'Sports': {'Jouer': ['Basket ball', 'Badmington', 'Ping pong', 'Football'], 'Entrainer': ['Volley ball', 'Tennis']}}\n",
      "{'_id': '566eec60662b388eba46423c', 'IdSportif': 59, 'Nom': 'CLERICE', 'Prenom': 'Stéphanie', 'Sexe': 'F', 'Age': 23, 'Sports': {'Jouer': ['Basket ball', 'Badmington', 'Ping pong'], 'Arbitrer': 'Tennis', 'Entrainer': ['Volley ball', 'Tennis']}}\n",
      "{'_id': '566eec60662b388eba46423d', 'IdSportif': 60, 'Nom': 'TIZEGHAT', 'Prenom': 'Benamar', 'Sexe': 'M', 'Age': 32, 'IdSportifConseiller': 3, 'Sports': {'Jouer': ['Hand ball', 'Tennis', 'Football'], 'Arbitrer': 'Volley ball', 'Entrainer': ['Volley ball', 'Tennis', 'Ping pong']}}\n",
      "{'_id': '566eec60662b388eba46423e', 'IdSportif': 61, 'Nom': 'LAZARRE', 'Prenom': 'Jean', 'Sexe': 'M', 'Age': 27, 'IdSportifConseiller': 7, 'Sports': {'Jouer': 'Football', 'Entrainer': ['Volley ball', 'Tennis']}}\n",
      "{'_id': '566eec60662b388eba46423f', 'IdSportif': 62, 'Nom': 'BAZOUD', 'Prenom': 'Jérôme', 'Sexe': 'M', 'Age': 32, 'IdSportifConseiller': 3, 'Sports': {'Jouer': 'Football'}}\n",
      "{'_id': '566eec60662b388eba464240', 'IdSportif': 63, 'Nom': 'AMAND', 'Prenom': 'Patrick', 'Sexe': 'M', 'Age': 30, 'IdSportifConseiller': 1, 'Sports': {'Jouer': ['Basket ball', 'Ping pong', 'Football']}}\n",
      "{'_id': '566eec60662b388eba464241', 'IdSportif': 64, 'Nom': 'LANOE', 'Prenom': 'Françoise', 'Sexe': 'F', 'Age': 30, 'IdSportifConseiller': 2, 'Sports': {'Jouer': 'Tennis'}}\n",
      "{'_id': '566eec60662b388eba464242', 'IdSportif': 65, 'Nom': 'CHESNIER', 'Prenom': 'Marc', 'Sexe': 'M', 'Age': 30, 'Sports': {'Jouer': 'Football'}}\n",
      "{'_id': '566eec60662b388eba464243', 'IdSportif': 66, 'Nom': 'DURIEU', 'Prenom': 'Loïc', 'Sexe': 'M', 'Age': 30, 'IdSportifConseiller': 2, 'Sports': {'Jouer': 'Football'}}\n",
      "{'_id': '566eec60662b388eba464244', 'IdSportif': 67, 'Nom': 'VONTHRON', 'Prenom': 'Dominique', 'Sexe': 'F', 'Age': 26, 'IdSportifConseiller': 2, 'Sports': {'Jouer': ['Hand ball', 'Tennis']}}\n",
      "{'_id': '566eec60662b388eba464245', 'IdSportif': 68, 'Nom': 'REGNAULD', 'Prenom': 'Jeanne', 'Sexe': 'F', 'Age': 30, 'IdSportifConseiller': 2, 'Sports': {'Jouer': 'Hand ball'}}\n",
      "{'_id': '566eec60662b388eba464246', 'IdSportif': 69, 'Nom': 'MARIE', 'Prenom': 'Paule', 'Sexe': 'F', 'Age': 25, 'IdSportifConseiller': 7, 'Sports': {'Jouer': ['Basket ball', 'Hand ball', 'Ping pong']}}\n",
      "{'_id': '566eec60662b388eba464247', 'IdSportif': 70, 'Nom': 'BELLAMY', 'Prenom': 'Norbert', 'Sexe': 'M', 'Age': 30, 'IdSportifConseiller': 9, 'Sports': {'Jouer': ['Ping pong', 'Football']}}\n",
      "{'_id': '566eec60662b388eba464248', 'IdSportif': 71, 'Nom': 'DELAROCHE', 'Prenom': 'Bertrand', 'Sexe': 'M', 'Age': 30, 'IdSportifConseiller': 8, 'Sports': {'Jouer': ['Tennis', 'Football']}}\n",
      "{'_id': '566eec60662b388eba464249', 'IdSportif': 72, 'Nom': 'MARTEL', 'Prenom': 'Bernard', 'Sexe': 'M', 'Age': 22, 'IdSportifConseiller': 8, 'Sports': {'Jouer': ['Hand ball', 'Tennis', 'Badmington', 'Football']}}\n",
      "{'_id': '566eec60662b388eba46424a', 'IdSportif': 73, 'Nom': 'DALLIER', 'Prenom': 'Didier', 'Sexe': 'M', 'Age': 30, 'IdSportifConseiller': 6, 'Sports': {'Jouer': ['Tennis', 'Football']}}\n",
      "{'_id': '566eec60662b388eba46424b', 'IdSportif': 74, 'Nom': 'AUVRAY', 'Prenom': 'Alain', 'Sexe': 'M', 'Age': 30, 'IdSportifConseiller': 5, 'Sports': {'Jouer': ['Tennis', 'Football']}}\n",
      "{'_id': '566eec60662b388eba46424c', 'IdSportif': 75, 'Nom': 'SARRAZIN', 'Prenom': 'Noëlle', 'Sexe': 'F', 'Age': 39, 'IdSportifConseiller': 1, 'Sports': {'Jouer': ['Hand ball', 'Ping pong']}}\n",
      "{'_id': '566eec60662b388eba46424d', 'IdSportif': 76, 'Nom': 'HALGATTE', 'Prenom': 'Claude', 'Sexe': 'F', 'Age': 30, 'IdSportifConseiller': 21, 'Sports': {'Jouer': 'Tennis'}}\n",
      "{'_id': '566eec60662b388eba46424e', 'IdSportif': 77, 'Nom': 'HEON', 'Prenom': 'Philippe', 'Sexe': 'M', 'Age': 30, 'IdSportifConseiller': 1, 'Sports': {'Jouer': ['Basket ball', 'Ping pong', 'Football']}}\n",
      "{'_id': '566eec60662b388eba46424f', 'IdSportif': 78, 'Nom': 'CHAUVIN', 'Prenom': 'Julien', 'Sexe': 'M', 'Age': 30, 'Sports': {'Jouer': 'Football'}}\n",
      "{'_id': '566eec60662b388eba464250', 'IdSportif': 79, 'Nom': 'HENRY', 'Prenom': 'Jacky', 'Sexe': 'M', 'Age': 30, 'IdSportifConseiller': 2, 'Sports': {'Jouer': 'Football'}}\n",
      "{'_id': '566eec60662b388eba464251', 'IdSportif': 80, 'Nom': 'HOCHET', 'Prenom': 'Pierre', 'Sexe': 'M', 'Age': 30, 'IdSportifConseiller': 1, 'Sports': {'Jouer': ['Basket ball', 'Ping pong', 'Football']}}\n",
      "{'_id': '566eec60662b388eba464252', 'IdSportif': 81, 'Nom': 'DROULLON', 'Prenom': 'Joëlle', 'Sexe': 'F', 'Age': 30, 'IdSportifConseiller': 1}\n",
      "{'_id': '566eec60662b388eba464253', 'IdSportif': 82, 'Nom': 'HOUEL', 'Prenom': 'Jean-louis', 'Sexe': 'M', 'Age': 40, 'IdSportifConseiller': 14, 'Sports': {'Jouer': 'Football'}}\n",
      "{'_id': '566eec60662b388eba464254', 'IdSportif': 83, 'Nom': 'LEROUX', 'Prenom': 'André', 'Sexe': 'M', 'Age': 30, 'IdSportifConseiller': 4, 'Sports': {'Jouer': ['Hand ball', 'Tennis', 'Football']}}\n",
      "{'_id': '566eec60662b388eba464255', 'IdSportif': 84, 'Nom': 'SALLAÏ', 'Prenom': 'Miloud', 'Sexe': 'M', 'Age': 28, 'IdSportifConseiller': 2, 'Sports': {'Jouer': ['Hand ball', 'Football']}}\n",
      "{'_id': '566eec60662b388eba464256', 'IdSportif': 85, 'Nom': 'HAMARD', 'Prenom': 'Romain', 'Sexe': 'M', 'Age': 30, 'IdSportifConseiller': 2, 'Sports': {'Jouer': ['Basket ball', 'Ping pong', 'Football']}}\n",
      "{'_id': '566eec60662b388eba464257', 'IdSportif': 86, 'Nom': 'GALLOT', 'Prenom': 'Bernard', 'Sexe': 'M', 'Age': 30, 'IdSportifConseiller': 2, 'Sports': {'Jouer': ['Tennis', 'Football']}}\n",
      "{'_id': '566eec60662b388eba464258', 'IdSportif': 87, 'Nom': 'COUESBOT', 'Prenom': 'Daniel', 'Sexe': 'M', 'Age': 30, 'IdSportifConseiller': 2, 'Sports': {'Jouer': ['Tennis', 'Football']}}\n",
      "{'_id': '566eec60662b388eba464259', 'IdSportif': 88, 'Nom': 'LEJEUNE', 'Prenom': 'Richard', 'Sexe': 'M', 'Age': 30, 'IdSportifConseiller': 8, 'Sports': {'Jouer': ['Basket ball', 'Ping pong', 'Football']}}\n",
      "{'_id': '566eec60662b388eba46425a', 'IdSportif': 89, 'Nom': 'RIQUIER', 'Prenom': 'Jean-pierre', 'Sexe': 'M', 'Age': 30, 'Sports': {'Jouer': ['Hand ball', 'Football']}}\n",
      "{'_id': '566eec60662b388eba46425b', 'IdSportif': 90, 'Nom': 'DUREL', 'Prenom': 'Eric', 'Sexe': 'M', 'Age': 30, 'IdSportifConseiller': 2, 'Sports': {'Jouer': ['Tennis', 'Football']}}\n",
      "{'_id': '566eec60662b388eba46425c', 'IdSportif': 91, 'Nom': 'LECHEVALIER', 'Prenom': 'Patrick', 'Sexe': 'M', 'Age': 30, 'IdSportifConseiller': 98, 'Sports': {'Jouer': ['Basket ball', 'Ping pong', 'Football']}}\n",
      "{'_id': '566eec60662b388eba46425d', 'IdSportif': 92, 'Nom': 'HERVIEU', 'Prenom': 'Jean-François', 'Sexe': 'M', 'Age': 22, 'IdSportifConseiller': 5, 'Sports': {'Jouer': ['Badmington', 'Football']}}\n",
      "{'_id': '566eec60662b388eba46425e', 'IdSportif': 93, 'Nom': 'CAUCHARD', 'Prenom': 'Georges', 'Sexe': 'M', 'Age': 30, 'IdSportifConseiller': 2, 'Sports': {'Jouer': 'Football'}}\n",
      "{'_id': '566eec60662b388eba46425f', 'IdSportif': 94, 'Nom': 'LEROUX', 'Prenom': 'Paule', 'Sexe': 'M', 'Age': 36, 'IdSportifConseiller': 4, 'Sports': {'Jouer': ['Basket ball', 'Hand ball', 'Ping pong', 'Football'], 'Arbitrer': 'Basket ball'}}\n",
      "{'_id': '566eec60662b388eba464260', 'IdSportif': 95, 'Nom': 'EUSTACHE', 'Prenom': 'Marcel', 'Sexe': 'M', 'Age': 30, 'IdSportifConseiller': 2, 'Sports': {'Jouer': 'Football'}}\n",
      "{'_id': '566eec60662b388eba464261', 'IdSportif': 96, 'Nom': 'JANY', 'Prenom': 'Claude', 'Sexe': 'M', 'Age': 30, 'IdSportifConseiller': 2, 'Sports': {'Jouer': ['Tennis', 'Football']}}\n",
      "{'_id': '566eec60662b388eba464262', 'IdSportif': 97, 'Nom': 'BONHOMME', 'Prenom': 'Bruno', 'Sexe': 'M', 'Age': 30, 'Sports': {'Jouer': ['Tennis', 'Football']}}\n",
      "{'_id': '566eec60662b388eba464263', 'IdSportif': 98, 'Nom': 'RICHARD', 'Prenom': 'William', 'Sexe': 'M', 'Age': 30, 'IdSportifConseiller': 2, 'Sports': {'Jouer': ['Basket ball', 'Hand ball', 'Ping pong', 'Football'], 'Arbitrer': 'Basket ball'}}\n",
      "{'_id': '566eec60662b388eba464264', 'IdSportif': 99, 'Nom': 'BONE', 'Prenom': 'Guy', 'Sexe': 'M', 'Age': 32, 'Sports': {'Jouer': 'Football'}}\n",
      "{'_id': '566eec60662b388eba464265', 'IdSportif': 100, 'Nom': 'LESOIF', 'Prenom': 'Jacques', 'Sexe': 'M', 'Age': 30, 'IdSportifConseiller': 9, 'Sports': {'Jouer': ['Hand ball', 'Football']}}\n",
      "{'_id': '566eec60662b388eba464266', 'IdSportif': 101, 'Nom': 'SWERTVAEGER', 'Prenom': 'Eric', 'Sexe': 'M', 'Age': 30, 'IdSportifConseiller': 5, 'Sports': {'Jouer': ['Hand ball', 'Tennis', 'Football']}}\n",
      "{'_id': '566eec60662b388eba464267', 'IdSportif': 102, 'Nom': 'DUVAL', 'Prenom': 'Alain', 'Sexe': 'M', 'Age': 30, 'IdSportifConseiller': 2, 'Sports': {'Jouer': ['Tennis', 'Football']}}\n",
      "{'_id': '566eec60662b388eba464268', 'IdSportif': 103, 'Nom': 'LEMENOREL', 'Prenom': 'Claude', 'Sexe': 'M', 'Age': 30, 'IdSportifConseiller': 4, 'Sports': {'Jouer': ['Tennis', 'Football']}}\n",
      "{'_id': '566eec60662b388eba464269', 'IdSportif': 104, 'Nom': 'SEHIER', 'Prenom': 'Dominique', 'Sexe': 'F', 'Age': 30, 'IdSportifConseiller': 1, 'Sports': {'Jouer': ['Hand ball', 'Tennis']}}\n",
      "{'_id': '566eec60662b388eba46426a', 'IdSportif': 105, 'Nom': 'STILO', 'Prenom': 'Philippe', 'Sexe': 'M', 'Age': 30, 'IdSportifConseiller': 3, 'Sports': {'Jouer': ['Basket ball', 'Hand ball', 'Ping pong', 'Football'], 'Arbitrer': 'Basket ball'}}\n",
      "{'_id': '566eec60662b388eba46426b', 'IdSportif': 106, 'Nom': 'LE BANNARD', 'Prenom': 'Gérard', 'Sexe': 'M', 'Age': 30, 'IdSportifConseiller': 1, 'Sports': {'Jouer': 'Football'}}\n",
      "{'_id': '566eec60662b388eba46426c', 'IdSportif': 107, 'Nom': 'BORNE', 'Prenom': 'Jean-Yves', 'Sexe': 'M', 'Age': 30, 'IdSportifConseiller': 9, 'Sports': {'Jouer': 'Football'}}\n",
      "{'_id': '566eec60662b388eba46426d', 'IdSportif': 108, 'Nom': 'LAURENCE', 'Prenom': 'Serge', 'Sexe': 'M', 'Age': 30, 'IdSportifConseiller': 4, 'Sports': {'Jouer': ['Basket ball', 'Ping pong', 'Football']}}\n",
      "{'_id': '566eec60662b388eba46426e', 'IdSportif': 109, 'Nom': 'SAUVAGE', 'Prenom': 'Patrick', 'Sexe': 'M', 'Age': 30, 'IdSportifConseiller': 5, 'Sports': {'Jouer': ['Basket ball', 'Hand ball', 'Ping pong', 'Football']}}\n",
      "{'_id': '566eec60662b388eba46426f', 'IdSportif': 110, 'Nom': 'ROULLAND', 'Prenom': 'Christian', 'Sexe': 'M', 'Age': 30, 'IdSportifConseiller': 4, 'Sports': {'Jouer': ['Hand ball', 'Tennis', 'Football']}}\n",
      "{'_id': '566eec60662b388eba464270', 'IdSportif': 111, 'Nom': 'LESIEUR', 'Prenom': 'Michel', 'Sexe': 'M', 'Age': 30, 'IdSportifConseiller': 8, 'Sports': {'Jouer': ['Hand ball', 'Football']}}\n",
      "{'_id': '566eec60662b388eba464271', 'IdSportif': 112, 'Nom': 'LUYCKX', 'Prenom': 'Gérard', 'Sexe': 'M', 'Age': 30, 'IdSportifConseiller': 2, 'Sports': {'Jouer': ['Hand ball', 'Football']}}\n",
      "{'_id': '566eec60662b388eba464272', 'IdSportif': 113, 'Nom': 'AVICE', 'Prenom': 'Benoît', 'Sexe': 'M', 'Age': 30, 'IdSportifConseiller': 2, 'Sports': {'Jouer': ['Tennis', 'Football']}}\n",
      "{'_id': '566eec60662b388eba464273', 'IdSportif': 114, 'Nom': 'MICHEL', 'Prenom': 'Danielle', 'Sexe': 'F', 'Age': 22, 'IdSportifConseiller': 5, 'Sports': {'Jouer': ['Hand ball', 'Tennis', 'Badmington']}}\n",
      "{'_id': '566eec60662b388eba464274', 'IdSportif': 115, 'Nom': 'LEMOUSSU', 'Prenom': 'Laurent', 'Sexe': 'M', 'Age': 30, 'IdSportifConseiller': 1, 'Sports': {'Jouer': 'Football'}}\n",
      "{'_id': '566eec60662b388eba464275', 'IdSportif': 116, 'Nom': 'BELUAU', 'Prenom': 'Gilberte', 'Sexe': 'F', 'Age': 30, 'IdSportifConseiller': 8}\n",
      "{'_id': '566eec60662b388eba464276', 'IdSportif': 117, 'Nom': 'FERREIRA', 'Prenom': 'Martine', 'Sexe': 'F', 'Age': 30, 'IdSportifConseiller': 2}\n",
      "{'_id': '566eec60662b388eba464277', 'IdSportif': 118, 'Nom': 'FROMENT', 'Prenom': 'Philippe', 'Sexe': 'M', 'Age': 30, 'IdSportifConseiller': 2, 'Sports': {'Jouer': ['Basket ball', 'Ping pong', 'Football']}}\n",
      "{'_id': '566eec60662b388eba464278', 'IdSportif': 119, 'Nom': 'GUITON', 'Prenom': 'Jean-paul', 'Sexe': 'M', 'Age': 30, 'IdSportifConseiller': 1, 'Sports': {'Jouer': 'Football'}}\n",
      "{'_id': '566eec60662b388eba464279', 'IdSportif': 120, 'Nom': 'LECOMTE', 'Prenom': 'Christian', 'Sexe': 'M', 'Age': 30, 'IdSportifConseiller': 6, 'Sports': {'Jouer': ['Tennis', 'Football']}}\n",
      "{'_id': '566eec60662b388eba46427a', 'IdSportif': 121, 'Nom': 'HUET', 'Prenom': 'Loïc', 'Sexe': 'M', 'Age': 30, 'IdSportifConseiller': 5, 'Sports': {'Jouer': 'Football'}}\n",
      "{'_id': '566eec60662b388eba46427b', 'IdSportif': 122, 'Nom': 'BECQUET', 'Prenom': 'Erika', 'Sexe': 'F', 'Age': 30, 'IdSportifConseiller': 6, 'Sports': {'Jouer': 'Tennis'}}\n",
      "{'_id': '566eec60662b388eba46427c', 'IdSportif': 123, 'Nom': 'LETHIMONNIER', 'Prenom': 'Victor', 'Sexe': 'M', 'Age': 30, 'IdSportifConseiller': 6, 'Sports': {'Jouer': ['Basket ball', 'Hand ball', 'Ping pong', 'Football']}}\n",
      "{'_id': '566eec60662b388eba46427d', 'IdSportif': 124, 'Nom': 'SWERTVAEGER', 'Prenom': 'Michelle', 'Sexe': 'F', 'Age': 30, 'IdSportifConseiller': 2, 'Sports': {'Jouer': 'Hand ball'}}\n",
      "{'_id': '566eec60662b388eba46427e', 'IdSportif': 125, 'Nom': 'JALON', 'Prenom': 'Patrick', 'Sexe': 'M', 'Age': 30, 'IdSportifConseiller': 2, 'Sports': {'Jouer': ['Basket ball', 'Ping pong', 'Football']}}\n",
      "{'_id': '566eec60662b388eba46427f', 'IdSportif': 126, 'Nom': 'DEBOUT', 'Prenom': 'Eric', 'Sexe': 'M', 'Age': 30, 'IdSportifConseiller': 5, 'Sports': {'Jouer': ['Tennis', 'Football']}}\n",
      "{'_id': '566eec60662b388eba464280', 'IdSportif': 127, 'Nom': 'GASTELLIER', 'Prenom': 'Charles', 'Sexe': 'M', 'Age': 30, 'IdSportifConseiller': 2, 'Sports': {'Jouer': ['Tennis', 'Football']}}\n",
      "{'_id': '566eec60662b388eba464281', 'IdSportif': 128, 'Nom': 'GIRONIE', 'Prenom': 'André', 'Sexe': 'M', 'Age': 30, 'IdSportifConseiller': 1, 'Sports': {'Jouer': ['Tennis', 'Football']}}\n",
      "{'_id': '566eec60662b388eba464282', 'IdSportif': 129, 'Nom': 'DABON', 'Prenom': 'Richard', 'Sexe': 'M', 'Age': 30, 'IdSportifConseiller': 3, 'Sports': {'Jouer': ['Basket ball', 'Ping pong', 'Football']}}\n",
      "{'_id': '566eec60662b388eba464283', 'IdSportif': 130, 'Nom': 'LECHAUVE', 'Prenom': 'Jean-Claude', 'Sexe': 'M', 'Age': 30, 'IdSportifConseiller': 5, 'Sports': {'Jouer': 'Football'}}\n",
      "{'_id': '566eec60662b388eba464284', 'IdSportif': 131, 'Nom': 'GALLOIS', 'Prenom': 'Michelle', 'Sexe': 'F', 'Age': 30, 'IdSportifConseiller': 2}\n",
      "{'_id': '566eec60662b388eba464285', 'IdSportif': 132, 'Nom': 'DORON', 'Prenom': 'Yannick', 'Sexe': 'M', 'Age': 30, 'IdSportifConseiller': 1, 'Sports': {'Jouer': ['Basket ball', 'Ping pong', 'Football']}}\n",
      "{'_id': '566eec60662b388eba464286', 'IdSportif': 133, 'Nom': 'LENEVEU', 'Prenom': 'Julien', 'Sexe': 'M', 'Age': 30, 'IdSportifConseiller': 2, 'Sports': {'Jouer': 'Football'}}\n",
      "{'_id': '566eec60662b388eba464287', 'IdSportif': 134, 'Nom': 'LERICHE', 'Prenom': 'Harry', 'Sexe': 'M', 'Age': 30, 'IdSportifConseiller': 5, 'Sports': {'Jouer': 'Football'}}\n",
      "{'_id': '566eec60662b388eba464288', 'IdSportif': 135, 'Nom': 'MANCEL', 'Prenom': 'Jean-luc', 'Sexe': 'M', 'Age': 30, 'IdSportifConseiller': 4, 'Sports': {'Jouer': ['Hand ball', 'Football']}}\n",
      "{'_id': '566eec60662b388eba464289', 'IdSportif': 136, 'Nom': 'LABOULAIS', 'Prenom': 'Chloé', 'Sexe': 'F', 'Age': 26, 'IdSportifConseiller': 2, 'Sports': {'Jouer': 'Tennis'}}\n",
      "{'_id': '566eec60662b388eba46428a', 'IdSportif': 137, 'Nom': 'DUDOUIT', 'Prenom': 'Chloé', 'Sexe': 'F', 'Age': 26, 'IdSportifConseiller': 2, 'Sports': {'Jouer': 'Tennis'}}\n",
      "{'_id': '566eec60662b388eba46428b', 'IdSportif': 138, 'Nom': 'MADELAINE', 'Prenom': 'Chloé', 'Sexe': 'F', 'Age': 26, 'IdSportifConseiller': 1, 'Sports': {'Jouer': ['Hand ball', 'Tennis']}}\n",
      "{'_id': '566eec60662b388eba46428c', 'IdSportif': 139, 'Nom': 'BESNARD', 'Prenom': 'Chloé', 'Sexe': 'F', 'Age': 26, 'IdSportifConseiller': 4, 'Sports': {'Jouer': 'Tennis'}}\n",
      "{'_id': '566eec60662b388eba46428d', 'IdSportif': 140, 'Nom': 'BELZ', 'Prenom': 'Chloé', 'Sexe': 'F', 'Age': 26, 'IdSportifConseiller': 7, 'Sports': {'Jouer': 'Tennis'}}\n",
      "{'_id': '566eec60662b388eba46428e', 'IdSportif': 141, 'Nom': 'BONNET', 'Prenom': 'Chloé', 'Sexe': 'F', 'Age': 26, 'IdSportifConseiller': 5, 'Sports': {'Jouer': 'Tennis'}}\n",
      "{'_id': '566eec60662b388eba46428f', 'IdSportif': 142, 'Nom': 'CORNET', 'Prenom': 'Chloé', 'Sexe': 'F', 'Age': 26, 'IdSportifConseiller': 1, 'Sports': {'Jouer': 'Tennis'}}\n",
      "{'_id': '566eec60662b388eba464290', 'IdSportif': 143, 'Nom': 'BEUZELIN', 'Prenom': 'Chloé', 'Sexe': 'F', 'Age': 26, 'IdSportifConseiller': 5, 'Sports': {'Jouer': 'Tennis'}}\n",
      "{'_id': '566eec60662b388eba464291', 'IdSportif': 144, 'Nom': 'GRANDIDIER', 'Prenom': 'Chloé', 'Sexe': 'F', 'Age': 26, 'IdSportifConseiller': 2, 'Sports': {'Jouer': 'Tennis'}}\n",
      "{'_id': '566eec60662b388eba464292', 'IdSportif': 145, 'Nom': 'LENEVEU', 'Prenom': 'Marie', 'Sexe': 'F', 'Age': 25, 'IdSportifConseiller': 2}\n",
      "{'_id': '566eec60662b388eba464293', 'IdSportif': 146, 'Nom': 'DABON', 'Prenom': 'Rick', 'Sexe': 'M', 'Age': 25, 'IdSportifConseiller': 3}\n",
      "{'_id': '566eec60662b388eba464294', 'IdSportif': 147, 'Nom': 'CLERICE', 'Prenom': 'Alice', 'Sexe': 'F', 'Age': 25, 'IdSportifConseiller': 2}\n",
      "{'_id': '566eec60662b388eba464295', 'IdSportif': 148, 'Nom': 'COMES', 'Prenom': 'Marie', 'Sexe': 'F', 'Age': 27, 'IdSportifConseiller': 1}\n",
      "{'_id': '566eec60662b388eba464296', 'IdSportif': 149, 'Nom': 'BELZ', 'Prenom': 'Sylvianne', 'Sexe': 'F', 'Age': 27, 'IdSportifConseiller': 7, 'Sports': {'Jouer': 'Basket ball', 'Arbitrer': 'Basket ball', 'Entrainer': 'Basket ball'}}\n",
      "{'_id': '566eec60662b388eba464297', 'IdSportif': 150, 'Nom': 'BELZ', 'Prenom': 'Paul', 'Sexe': 'M', 'Age': 25, 'IdSportifConseiller': 2}\n",
      "{'_id': '566eec60662b388eba464298', 'IdSportif': 151, 'Nom': 'HENRY', 'Prenom': 'Maël', 'Sexe': 'M', 'Age': 25, 'IdSportifConseiller': 2, 'Sports': {'Jouer': ['Basket ball', 'Hand ball'], 'Arbitrer': ['Basket ball', 'Hand ball'], 'Entrainer': ['Basket ball', 'Hand ball']}}\n"
     ]
    }
   ],
   "source": [
    "for item in sportifs.find():\n",
    "    print(item)"
   ]
  },
  {
   "cell_type": "code",
   "execution_count": 16,
   "metadata": {},
   "outputs": [
    {
     "name": "stdout",
     "output_type": "stream",
     "text": [
      "{'_id': '566eec5f662b388eba464204', 'IdSportif': 2, 'Nom': 'KERVADEC', 'Prenom': 'Yann'}\n"
     ]
    }
   ],
   "source": [
    "#On cherche le (ou les) conseiller(s) s’appelant \"KERVADEC\" ?\n",
    "find_conseiller = sportifs.find({\"Nom\" : \"KERVADEC\"}, {\"IdSportif\" : 1, \"Nom\" : 1, \"Prenom\" : 1 })\n",
    "for item in find_conseiller : \n",
    "    print(item)"
   ]
  },
  {
   "cell_type": "code",
   "execution_count": 18,
   "metadata": {},
   "outputs": [
    {
     "name": "stdout",
     "output_type": "stream",
     "text": [
      "{'_id': '566eec5f662b388eba464206', 'IdSportif': 4, 'Nom': 'DORLEANS', 'Prenom': 'Jean-michel', 'Age': 32}\n",
      "{'_id': '566eec5f662b388eba46421d', 'IdSportif': 28, 'Nom': 'RABAHI', 'Prenom': 'Rabah', 'Age': 40}\n",
      "{'_id': '566eec60662b388eba46423d', 'IdSportif': 60, 'Nom': 'TIZEGHAT', 'Prenom': 'Benamar', 'Age': 32}\n",
      "{'_id': '566eec60662b388eba46423f', 'IdSportif': 62, 'Nom': 'BAZOUD', 'Prenom': 'Jérôme', 'Age': 32}\n",
      "{'_id': '566eec60662b388eba464253', 'IdSportif': 82, 'Nom': 'HOUEL', 'Prenom': 'Jean-louis', 'Age': 40}\n",
      "{'_id': '566eec60662b388eba464264', 'IdSportif': 99, 'Nom': 'BONE', 'Prenom': 'Guy', 'Age': 32}\n"
     ]
    }
   ],
   "source": [
    "#3) On cherche les sportifs qui ont ou bien 32 ans ou 40 ans ?\n",
    "find_age = sportifs.find({\"$or\": [{\"Age\" : 32}, {\"Age\" : 40}]},{\"IdSportif\" : 1, \"Nom\" : 1, \"Prenom\" : 1 , \"Age\" : 1} )\n",
    "for item in find_age : \n",
    "    print(item)"
   ]
  },
  {
   "cell_type": "code",
   "execution_count": 54,
   "metadata": {},
   "outputs": [
    {
     "name": "stdout",
     "output_type": "stream",
     "text": [
      "{'_id': '566eec5f662b388eba464204', 'IdSportif': 2, 'Nom': 'KERVADEC', 'Prenom': 'Yann', 'Sports': {'Jouer': ['Basket ball', 'Volley ball', 'Ping pong', 'Football']}}\n",
      "{'_id': '566eec5f662b388eba464207', 'IdSportif': 5, 'Nom': 'COMES', 'Prenom': 'Sylvie', 'Sports': {'Jouer': ['Basket ball', 'Volley ball', 'Badmington', 'Ping pong']}}\n",
      "{'_id': '566eec5f662b388eba464208', 'IdSportif': 6, 'Nom': 'RETALDI', 'Prenom': 'Sophie', 'Sports': {'Jouer': ['Basket ball', 'Volley ball', 'Hand ball', 'Ping pong']}}\n",
      "{'_id': '566eec5f662b388eba46420f', 'IdSportif': 14, 'Nom': 'CAILLIOT', 'Prenom': 'Stéphanie', 'Sports': {'Jouer': ['Basket ball', 'Volley ball', 'Ping pong']}}\n",
      "{'_id': '566eec5f662b388eba464215', 'IdSportif': 20, 'Nom': 'TIENER', 'Prenom': 'Thomas', 'Sports': {'Jouer': ['Basket ball', 'Volley ball', 'Hand ball', 'Ping pong', 'Football']}}\n",
      "{'_id': '566eec5f662b388eba464217', 'IdSportif': 22, 'Nom': 'LEDUFAUD', 'Prenom': 'Pierre', 'Sports': {'Jouer': ['Basket ball', 'Volley ball', 'Ping pong', 'Football']}}\n",
      "{'_id': '566eec5f662b388eba464219', 'IdSportif': 24, 'Nom': 'LEJEUNE', 'Prenom': 'Sylvaine', 'Sports': {'Jouer': ['Basket ball', 'Volley ball', 'Badmington', 'Ping pong']}}\n",
      "{'_id': '566eec5f662b388eba46421d', 'IdSportif': 28, 'Nom': 'RABAHI', 'Prenom': 'Rabah', 'Sports': {'Jouer': ['Basket ball', 'Volley ball', 'Hand ball', 'Ping pong', 'Football']}}\n",
      "{'_id': '566eec5f662b388eba464221', 'IdSportif': 32, 'Nom': 'VAN CAUTER', 'Prenom': 'Vincent', 'Sports': {'Jouer': ['Basket ball', 'Volley ball', 'Hand ball', 'Badmington', 'Ping pong', 'Football']}}\n",
      "{'_id': '566eec60662b388eba464224', 'IdSportif': 35, 'Nom': 'TANQUE', 'Prenom': 'Yann', 'Sports': {'Jouer': ['Basket ball', 'Volley ball', 'Hand ball', 'Ping pong', 'Football']}}\n",
      "{'_id': '566eec60662b388eba464225', 'IdSportif': 36, 'Nom': 'DJELOUDANE', 'Prenom': 'Zinedine', 'Sports': {'Jouer': ['Basket ball', 'Volley ball', 'Ping pong', 'Football']}}\n",
      "{'_id': '566eec60662b388eba464229', 'IdSportif': 40, 'Nom': 'VALIN', 'Prenom': 'Yann', 'Sports': {'Jouer': ['Basket ball', 'Hand ball', 'Badmington', 'Ping pong', 'Football']}}\n",
      "{'_id': '566eec60662b388eba46422d', 'IdSportif': 44, 'Nom': 'ADIBO', 'Prenom': 'Senamé', 'Sports': {'Jouer': ['Basket ball', 'Ping pong', 'Football']}}\n",
      "{'_id': '566eec60662b388eba464231', 'IdSportif': 48, 'Nom': 'HEDDI', 'Prenom': 'Zohra', 'Sports': {'Jouer': ['Basket ball', 'Badmington', 'Ping pong']}}\n",
      "{'_id': '566eec60662b388eba464232', 'IdSportif': 49, 'Nom': 'JOUVE', 'Prenom': 'Sandra', 'Sports': {'Jouer': ['Basket ball', 'Ping pong']}}\n",
      "{'_id': '566eec60662b388eba464233', 'IdSportif': 50, 'Nom': 'KALOMBO', 'Prenom': 'Yannick', 'Sports': {'Jouer': ['Basket ball', 'Badmington', 'Ping pong', 'Football']}}\n",
      "{'_id': '566eec60662b388eba464234', 'IdSportif': 51, 'Nom': 'LOPEZ', 'Prenom': 'Thibaud', 'Sports': {'Jouer': ['Basket ball', 'Hand ball', 'Ping pong', 'Football']}}\n",
      "{'_id': '566eec60662b388eba464235', 'IdSportif': 52, 'Nom': 'DANDOIS', 'Prenom': 'Régis', 'Sports': {'Jouer': ['Basket ball', 'Badmington', 'Ping pong', 'Football']}}\n",
      "{'_id': '566eec60662b388eba464236', 'IdSportif': 53, 'Nom': 'DEMMER', 'Prenom': 'Thomas', 'Sports': {'Jouer': ['Basket ball', 'Badmington', 'Ping pong', 'Football']}}\n",
      "{'_id': '566eec60662b388eba464239', 'IdSportif': 56, 'Nom': 'GUERRAOUI', 'Prenom': 'Zohra', 'Sports': {'Jouer': ['Basket ball', 'Ping pong']}}\n",
      "{'_id': '566eec60662b388eba46423b', 'IdSportif': 58, 'Nom': 'GUIGUI', 'Prenom': 'Vincent', 'Sports': {'Jouer': ['Basket ball', 'Badmington', 'Ping pong', 'Football']}}\n",
      "{'_id': '566eec60662b388eba46423c', 'IdSportif': 59, 'Nom': 'CLERICE', 'Prenom': 'Stéphanie', 'Sports': {'Jouer': ['Basket ball', 'Badmington', 'Ping pong']}}\n",
      "{'_id': '566eec60662b388eba464240', 'IdSportif': 63, 'Nom': 'AMAND', 'Prenom': 'Patrick', 'Sports': {'Jouer': ['Basket ball', 'Ping pong', 'Football']}}\n",
      "{'_id': '566eec60662b388eba464246', 'IdSportif': 69, 'Nom': 'MARIE', 'Prenom': 'Paule', 'Sports': {'Jouer': ['Basket ball', 'Hand ball', 'Ping pong']}}\n",
      "{'_id': '566eec60662b388eba46424e', 'IdSportif': 77, 'Nom': 'HEON', 'Prenom': 'Philippe', 'Sports': {'Jouer': ['Basket ball', 'Ping pong', 'Football']}}\n",
      "{'_id': '566eec60662b388eba464251', 'IdSportif': 80, 'Nom': 'HOCHET', 'Prenom': 'Pierre', 'Sports': {'Jouer': ['Basket ball', 'Ping pong', 'Football']}}\n",
      "{'_id': '566eec60662b388eba464256', 'IdSportif': 85, 'Nom': 'HAMARD', 'Prenom': 'Romain', 'Sports': {'Jouer': ['Basket ball', 'Ping pong', 'Football']}}\n",
      "{'_id': '566eec60662b388eba464259', 'IdSportif': 88, 'Nom': 'LEJEUNE', 'Prenom': 'Richard', 'Sports': {'Jouer': ['Basket ball', 'Ping pong', 'Football']}}\n",
      "{'_id': '566eec60662b388eba46425c', 'IdSportif': 91, 'Nom': 'LECHEVALIER', 'Prenom': 'Patrick', 'Sports': {'Jouer': ['Basket ball', 'Ping pong', 'Football']}}\n",
      "{'_id': '566eec60662b388eba46425f', 'IdSportif': 94, 'Nom': 'LEROUX', 'Prenom': 'Paule', 'Sports': {'Jouer': ['Basket ball', 'Hand ball', 'Ping pong', 'Football']}}\n",
      "{'_id': '566eec60662b388eba464263', 'IdSportif': 98, 'Nom': 'RICHARD', 'Prenom': 'William', 'Sports': {'Jouer': ['Basket ball', 'Hand ball', 'Ping pong', 'Football']}}\n",
      "{'_id': '566eec60662b388eba46426a', 'IdSportif': 105, 'Nom': 'STILO', 'Prenom': 'Philippe', 'Sports': {'Jouer': ['Basket ball', 'Hand ball', 'Ping pong', 'Football']}}\n",
      "{'_id': '566eec60662b388eba46426d', 'IdSportif': 108, 'Nom': 'LAURENCE', 'Prenom': 'Serge', 'Sports': {'Jouer': ['Basket ball', 'Ping pong', 'Football']}}\n",
      "{'_id': '566eec60662b388eba46426e', 'IdSportif': 109, 'Nom': 'SAUVAGE', 'Prenom': 'Patrick', 'Sports': {'Jouer': ['Basket ball', 'Hand ball', 'Ping pong', 'Football']}}\n",
      "{'_id': '566eec60662b388eba464277', 'IdSportif': 118, 'Nom': 'FROMENT', 'Prenom': 'Philippe', 'Sports': {'Jouer': ['Basket ball', 'Ping pong', 'Football']}}\n",
      "{'_id': '566eec60662b388eba46427c', 'IdSportif': 123, 'Nom': 'LETHIMONNIER', 'Prenom': 'Victor', 'Sports': {'Jouer': ['Basket ball', 'Hand ball', 'Ping pong', 'Football']}}\n",
      "{'_id': '566eec60662b388eba46427e', 'IdSportif': 125, 'Nom': 'JALON', 'Prenom': 'Patrick', 'Sports': {'Jouer': ['Basket ball', 'Ping pong', 'Football']}}\n",
      "{'_id': '566eec60662b388eba464282', 'IdSportif': 129, 'Nom': 'DABON', 'Prenom': 'Richard', 'Sports': {'Jouer': ['Basket ball', 'Ping pong', 'Football']}}\n",
      "{'_id': '566eec60662b388eba464285', 'IdSportif': 132, 'Nom': 'DORON', 'Prenom': 'Yannick', 'Sports': {'Jouer': ['Basket ball', 'Ping pong', 'Football']}}\n",
      "{'_id': '566eec60662b388eba464296', 'IdSportif': 149, 'Nom': 'BELZ', 'Prenom': 'Sylvianne', 'Sports': {'Jouer': 'Basket ball'}}\n",
      "{'_id': '566eec60662b388eba464298', 'IdSportif': 151, 'Nom': 'HENRY', 'Prenom': 'Maël', 'Sports': {'Jouer': ['Basket ball', 'Hand ball']}}\n"
     ]
    }
   ],
   "source": [
    "#4) On cherche les sportifs jouant au Basket-ball ?\n",
    "find_basket = sportifs.find({\"Sports.Jouer\" : \"Basket ball\"},{\"IdSportif\" : 1, \"Nom\" : 1, \"Prenom\" : 1 , \"Sports.Jouer\" : 1} )\n",
    "for item in find_basket : \n",
    "    print(item)"
   ]
  },
  {
   "cell_type": "code",
   "execution_count": 56,
   "metadata": {},
   "outputs": [
    {
     "name": "stdout",
     "output_type": "stream",
     "text": [
      "{'_id': '566eec5f662b388eba464205', 'Nom': 'HUE', 'Prenom': 'Pascale', 'Sexe': 'F', 'Age': 25}\n",
      "{'_id': '566eec5f662b388eba464206', 'Nom': 'DORLEANS', 'Prenom': 'Jean-michel', 'Sexe': 'M', 'Age': 32}\n",
      "{'_id': '566eec5f662b388eba464207', 'Nom': 'COMES', 'Prenom': 'Sylvie', 'Sexe': 'F', 'Age': 22}\n",
      "{'_id': '566eec5f662b388eba464208', 'Nom': 'RETALDI', 'Prenom': 'Sophie', 'Sexe': 'F', 'Age': 30}\n",
      "{'_id': '566eec5f662b388eba46420a', 'Nom': 'ANTUNES', 'Prenom': 'Gaêlle', 'Sexe': 'F', 'Age': 23}\n",
      "{'_id': '566eec5f662b388eba46420f', 'Nom': 'CAILLIOT', 'Prenom': 'Stéphanie', 'Sexe': 'F', 'Age': 24}\n",
      "{'_id': '566eec5f662b388eba464213', 'Nom': 'HOSNI', 'Prenom': 'Leila', 'Sexe': 'F', 'Age': 25}\n",
      "{'_id': '566eec5f662b388eba464219', 'Nom': 'LEJEUNE', 'Prenom': 'Sylvaine', 'Sexe': 'F', 'Age': 23}\n",
      "{'_id': '566eec5f662b388eba46421b', 'Nom': 'MICHEL', 'Prenom': 'Frédérique', 'Sexe': 'F', 'Age': 23}\n",
      "{'_id': '566eec5f662b388eba46421d', 'Nom': 'RABAHI', 'Prenom': 'Rabah', 'Sexe': 'M', 'Age': 40}\n",
      "{'_id': '566eec5f662b388eba46421e', 'Nom': 'ROUSSEL', 'Prenom': 'Nadège', 'Sexe': 'F', 'Age': 22}\n",
      "{'_id': '566eec60662b388eba464226', 'Nom': 'LAZZARI', 'Prenom': 'Magali', 'Sexe': 'F', 'Age': 25}\n",
      "{'_id': '566eec60662b388eba46422a', 'Nom': 'DELOVINA', 'Prenom': 'Elina', 'Sexe': 'F', 'Age': 22}\n",
      "{'_id': '566eec60662b388eba46422c', 'Nom': 'MATHIEU', 'Prenom': 'Denise', 'Sexe': 'F', 'Age': 23}\n",
      "{'_id': '566eec60662b388eba464230', 'Nom': 'GROEN', 'Prenom': 'Céline', 'Sexe': 'F', 'Age': 25}\n",
      "{'_id': '566eec60662b388eba464231', 'Nom': 'HEDDI', 'Prenom': 'Zohra', 'Sexe': 'F', 'Age': 23}\n",
      "{'_id': '566eec60662b388eba464232', 'Nom': 'JOUVE', 'Prenom': 'Sandra', 'Sexe': 'F', 'Age': 24}\n",
      "{'_id': '566eec60662b388eba464239', 'Nom': 'GUERRAOUI', 'Prenom': 'Zohra', 'Sexe': 'F', 'Age': 25}\n",
      "{'_id': '566eec60662b388eba46423c', 'Nom': 'CLERICE', 'Prenom': 'Stéphanie', 'Sexe': 'F', 'Age': 23}\n",
      "{'_id': '566eec60662b388eba46423d', 'Nom': 'TIZEGHAT', 'Prenom': 'Benamar', 'Sexe': 'M', 'Age': 32}\n",
      "{'_id': '566eec60662b388eba46423f', 'Nom': 'BAZOUD', 'Prenom': 'Jérôme', 'Sexe': 'M', 'Age': 32}\n",
      "{'_id': '566eec60662b388eba464241', 'Nom': 'LANOE', 'Prenom': 'Françoise', 'Sexe': 'F', 'Age': 30}\n",
      "{'_id': '566eec60662b388eba464244', 'Nom': 'VONTHRON', 'Prenom': 'Dominique', 'Sexe': 'F', 'Age': 26}\n",
      "{'_id': '566eec60662b388eba464245', 'Nom': 'REGNAULD', 'Prenom': 'Jeanne', 'Sexe': 'F', 'Age': 30}\n",
      "{'_id': '566eec60662b388eba464246', 'Nom': 'MARIE', 'Prenom': 'Paule', 'Sexe': 'F', 'Age': 25}\n",
      "{'_id': '566eec60662b388eba46424c', 'Nom': 'SARRAZIN', 'Prenom': 'Noëlle', 'Sexe': 'F', 'Age': 39}\n",
      "{'_id': '566eec60662b388eba46424d', 'Nom': 'HALGATTE', 'Prenom': 'Claude', 'Sexe': 'F', 'Age': 30}\n",
      "{'_id': '566eec60662b388eba464252', 'Nom': 'DROULLON', 'Prenom': 'Joëlle', 'Sexe': 'F', 'Age': 30}\n",
      "{'_id': '566eec60662b388eba464253', 'Nom': 'HOUEL', 'Prenom': 'Jean-louis', 'Sexe': 'M', 'Age': 40}\n",
      "{'_id': '566eec60662b388eba46425f', 'Nom': 'LEROUX', 'Prenom': 'Paule', 'Sexe': 'M', 'Age': 36}\n",
      "{'_id': '566eec60662b388eba464264', 'Nom': 'BONE', 'Prenom': 'Guy', 'Sexe': 'M', 'Age': 32}\n",
      "{'_id': '566eec60662b388eba464269', 'Nom': 'SEHIER', 'Prenom': 'Dominique', 'Sexe': 'F', 'Age': 30}\n",
      "{'_id': '566eec60662b388eba464273', 'Nom': 'MICHEL', 'Prenom': 'Danielle', 'Sexe': 'F', 'Age': 22}\n",
      "{'_id': '566eec60662b388eba464275', 'Nom': 'BELUAU', 'Prenom': 'Gilberte', 'Sexe': 'F', 'Age': 30}\n",
      "{'_id': '566eec60662b388eba464276', 'Nom': 'FERREIRA', 'Prenom': 'Martine', 'Sexe': 'F', 'Age': 30}\n",
      "{'_id': '566eec60662b388eba46427b', 'Nom': 'BECQUET', 'Prenom': 'Erika', 'Sexe': 'F', 'Age': 30}\n",
      "{'_id': '566eec60662b388eba46427d', 'Nom': 'SWERTVAEGER', 'Prenom': 'Michelle', 'Sexe': 'F', 'Age': 30}\n",
      "{'_id': '566eec60662b388eba464284', 'Nom': 'GALLOIS', 'Prenom': 'Michelle', 'Sexe': 'F', 'Age': 30}\n",
      "{'_id': '566eec60662b388eba464289', 'Nom': 'LABOULAIS', 'Prenom': 'Chloé', 'Sexe': 'F', 'Age': 26}\n",
      "{'_id': '566eec60662b388eba46428a', 'Nom': 'DUDOUIT', 'Prenom': 'Chloé', 'Sexe': 'F', 'Age': 26}\n",
      "{'_id': '566eec60662b388eba46428b', 'Nom': 'MADELAINE', 'Prenom': 'Chloé', 'Sexe': 'F', 'Age': 26}\n",
      "{'_id': '566eec60662b388eba46428c', 'Nom': 'BESNARD', 'Prenom': 'Chloé', 'Sexe': 'F', 'Age': 26}\n",
      "{'_id': '566eec60662b388eba46428d', 'Nom': 'BELZ', 'Prenom': 'Chloé', 'Sexe': 'F', 'Age': 26}\n",
      "{'_id': '566eec60662b388eba46428e', 'Nom': 'BONNET', 'Prenom': 'Chloé', 'Sexe': 'F', 'Age': 26}\n",
      "{'_id': '566eec60662b388eba46428f', 'Nom': 'CORNET', 'Prenom': 'Chloé', 'Sexe': 'F', 'Age': 26}\n",
      "{'_id': '566eec60662b388eba464290', 'Nom': 'BEUZELIN', 'Prenom': 'Chloé', 'Sexe': 'F', 'Age': 26}\n",
      "{'_id': '566eec60662b388eba464291', 'Nom': 'GRANDIDIER', 'Prenom': 'Chloé', 'Sexe': 'F', 'Age': 26}\n",
      "{'_id': '566eec60662b388eba464292', 'Nom': 'LENEVEU', 'Prenom': 'Marie', 'Sexe': 'F', 'Age': 25}\n",
      "{'_id': '566eec60662b388eba464294', 'Nom': 'CLERICE', 'Prenom': 'Alice', 'Sexe': 'F', 'Age': 25}\n",
      "{'_id': '566eec60662b388eba464295', 'Nom': 'COMES', 'Prenom': 'Marie', 'Sexe': 'F', 'Age': 27}\n",
      "{'_id': '566eec60662b388eba464296', 'Nom': 'BELZ', 'Prenom': 'Sylvianne', 'Sexe': 'F', 'Age': 27}\n"
     ]
    }
   ],
   "source": [
    "#5) On cherche les sportifs ayant au moins 32 ans, ou de sexe féminin ?\n",
    "find_sexe_age = sportifs.find({\"$or\": [{\"Age\" : {\"$gte\" : 32} }, {\"Sexe\" : \"F\"}]} ,{\"Nom\" : 1, \"Prenom\" : 1 , \"Age\" : 1, \"Sexe\" : 1})\n",
    "for item in find_sexe_age : \n",
    "    print(item)"
   ]
  },
  {
   "cell_type": "code",
   "execution_count": 58,
   "metadata": {},
   "outputs": [
    {
     "name": "stdout",
     "output_type": "stream",
     "text": [
      "44\n"
     ]
    },
    {
     "name": "stderr",
     "output_type": "stream",
     "text": [
      "<ipython-input-58-d7a2814e4763>:1: DeprecationWarning: count is deprecated. Use Collection.count_documents instead.\n",
      "  find_sexe_age = sportifs.find({\"Sexe\" : \"F\"},{\"Nom\" : 1, \"Prenom\" : 1 , \"Age\" : 1, \"Sexe\" : 1}).count()\n"
     ]
    }
   ],
   "source": [
    "#6) Trouver le nombre de sportifs de sexe féminin dans la base ?\n",
    "count_sexe_age = sportifs.find({\"Sexe\" : \"F\"},{\"Nom\" : 1, \"Prenom\" : 1 , \"Age\" : 1, \"Sexe\" : 1}).count()\n",
    "print(count_sexe_age)\n"
   ]
  },
  {
   "cell_type": "code",
   "execution_count": 60,
   "metadata": {},
   "outputs": [
    {
     "name": "stdout",
     "output_type": "stream",
     "text": [
      "{'_id': '566eec5f662b388eba464203', 'IdSportif': 1, 'Nom': 'BOUTAHAR', 'Prenom': 'Abderahim'}\n",
      "{'_id': '566eec5f662b388eba464204', 'IdSportif': 2, 'Nom': 'KERVADEC', 'Prenom': 'Yann'}\n",
      "{'_id': '566eec5f662b388eba464205', 'IdSportif': 3, 'Nom': 'HUE', 'Prenom': 'Pascale'}\n",
      "{'_id': '566eec5f662b388eba464207', 'IdSportif': 5, 'Nom': 'COMES', 'Prenom': 'Sylvie'}\n",
      "{'_id': '566eec5f662b388eba464208', 'IdSportif': 6, 'Nom': 'RETALDI', 'Prenom': 'Sophie'}\n",
      "{'_id': '566eec5f662b388eba464209', 'IdSportif': 7, 'Nom': 'GOMEZ', 'Prenom': 'Diego'}\n",
      "{'_id': '566eec5f662b388eba46420a', 'IdSportif': 9, 'Nom': 'ANTUNES', 'Prenom': 'Gaêlle'}\n",
      "{'_id': '566eec5f662b388eba46420b', 'IdSportif': 10, 'Nom': 'BLANDET', 'Prenom': 'Arnaud'}\n",
      "{'_id': '566eec5f662b388eba46420c', 'IdSportif': 11, 'Nom': 'BONNET', 'Prenom': 'Christophe'}\n",
      "{'_id': '566eec5f662b388eba46420d', 'IdSportif': 12, 'Nom': 'BORREL', 'Prenom': 'Benoît'}\n",
      "{'_id': '566eec5f662b388eba46420e', 'IdSportif': 13, 'Nom': 'BOYON', 'Prenom': 'Julien'}\n",
      "{'_id': '566eec5f662b388eba46420f', 'IdSportif': 14, 'Nom': 'CAILLIOT', 'Prenom': 'Stéphanie'}\n",
      "{'_id': '566eec5f662b388eba464210', 'IdSportif': 15, 'Nom': 'CHAMPENOIS', 'Prenom': 'Cédric'}\n",
      "{'_id': '566eec5f662b388eba464211', 'IdSportif': 16, 'Nom': 'COLAS', 'Prenom': 'Michaël'}\n",
      "{'_id': '566eec5f662b388eba464212', 'IdSportif': 17, 'Nom': 'COLOMB', 'Prenom': 'Michaël'}\n",
      "{'_id': '566eec5f662b388eba464213', 'IdSportif': 18, 'Nom': 'HOSNI', 'Prenom': 'Leila'}\n",
      "{'_id': '566eec5f662b388eba464214', 'IdSportif': 19, 'Nom': 'TESTEMONT', 'Prenom': 'Laurent'}\n",
      "{'_id': '566eec5f662b388eba464215', 'IdSportif': 20, 'Nom': 'TIENER', 'Prenom': 'Thomas'}\n",
      "{'_id': '566eec5f662b388eba464216', 'IdSportif': 21, 'Nom': 'LE BOUCHER', 'Prenom': 'Denis'}\n",
      "{'_id': '566eec5f662b388eba464217', 'IdSportif': 22, 'Nom': 'LEDUFAUD', 'Prenom': 'Pierre'}\n",
      "{'_id': '566eec5f662b388eba464218', 'IdSportif': 23, 'Nom': 'LEGRAND', 'Prenom': 'David'}\n",
      "{'_id': '566eec5f662b388eba464219', 'IdSportif': 24, 'Nom': 'LEJEUNE', 'Prenom': 'Sylvaine'}\n",
      "{'_id': '566eec5f662b388eba46421a', 'IdSportif': 25, 'Nom': 'MARTORA', 'Prenom': 'Fabrice'}\n",
      "{'_id': '566eec5f662b388eba46421b', 'IdSportif': 26, 'Nom': 'MICHEL', 'Prenom': 'Frédérique'}\n",
      "{'_id': '566eec5f662b388eba46421c', 'IdSportif': 27, 'Nom': 'NIELLEZ', 'Prenom': 'Christophe'}\n",
      "{'_id': '566eec5f662b388eba46421e', 'IdSportif': 29, 'Nom': 'ROUSSEL', 'Prenom': 'Nadège'}\n",
      "{'_id': '566eec5f662b388eba46421f', 'IdSportif': 30, 'Nom': 'SCHINK', 'Prenom': 'Nicolas'}\n",
      "{'_id': '566eec5f662b388eba464220', 'IdSportif': 31, 'Nom': 'STEMPUT', 'Prenom': 'Mathieu'}\n",
      "{'_id': '566eec5f662b388eba464221', 'IdSportif': 32, 'Nom': 'VAN CAUTER', 'Prenom': 'Vincent'}\n",
      "{'_id': '566eec60662b388eba464222', 'IdSportif': 33, 'Nom': 'RAMPNOUX', 'Prenom': 'Jean françois'}\n",
      "{'_id': '566eec60662b388eba464223', 'IdSportif': 34, 'Nom': 'LHERPINIERE', 'Prenom': 'Olivier'}\n",
      "{'_id': '566eec60662b388eba464224', 'IdSportif': 35, 'Nom': 'TANQUE', 'Prenom': 'Yann'}\n",
      "{'_id': '566eec60662b388eba464225', 'IdSportif': 36, 'Nom': 'DJELOUDANE', 'Prenom': 'Zinedine'}\n",
      "{'_id': '566eec60662b388eba464226', 'IdSportif': 37, 'Nom': 'LAZZARI', 'Prenom': 'Magali'}\n",
      "{'_id': '566eec60662b388eba464227', 'IdSportif': 38, 'Nom': 'VASSEMON', 'Prenom': 'Laurent'}\n",
      "{'_id': '566eec60662b388eba464228', 'IdSportif': 39, 'Nom': 'MOREL', 'Prenom': 'Mathieu'}\n",
      "{'_id': '566eec60662b388eba464229', 'IdSportif': 40, 'Nom': 'VALIN', 'Prenom': 'Yann'}\n",
      "{'_id': '566eec60662b388eba46422a', 'IdSportif': 41, 'Nom': 'DELOVINA', 'Prenom': 'Elina'}\n",
      "{'_id': '566eec60662b388eba46422b', 'IdSportif': 42, 'Nom': 'LEHOUX', 'Prenom': 'Bruno'}\n",
      "{'_id': '566eec60662b388eba46422c', 'IdSportif': 43, 'Nom': 'MATHIEU', 'Prenom': 'Denise'}\n",
      "{'_id': '566eec60662b388eba46422d', 'IdSportif': 44, 'Nom': 'ADIBO', 'Prenom': 'Senamé'}\n",
      "{'_id': '566eec60662b388eba46422e', 'IdSportif': 45, 'Nom': 'CHAVANT', 'Prenom': 'Christophe'}\n",
      "{'_id': '566eec60662b388eba46422f', 'IdSportif': 46, 'Nom': 'DAUXIAN', 'Prenom': 'Cédric'}\n",
      "{'_id': '566eec60662b388eba464230', 'IdSportif': 47, 'Nom': 'GROEN', 'Prenom': 'Céline'}\n",
      "{'_id': '566eec60662b388eba464231', 'IdSportif': 48, 'Nom': 'HEDDI', 'Prenom': 'Zohra'}\n",
      "{'_id': '566eec60662b388eba464232', 'IdSportif': 49, 'Nom': 'JOUVE', 'Prenom': 'Sandra'}\n",
      "{'_id': '566eec60662b388eba464233', 'IdSportif': 50, 'Nom': 'KALOMBO', 'Prenom': 'Yannick'}\n",
      "{'_id': '566eec60662b388eba464234', 'IdSportif': 51, 'Nom': 'LOPEZ', 'Prenom': 'Thibaud'}\n",
      "{'_id': '566eec60662b388eba464235', 'IdSportif': 52, 'Nom': 'DANDOIS', 'Prenom': 'Régis'}\n",
      "{'_id': '566eec60662b388eba464236', 'IdSportif': 53, 'Nom': 'DEMMER', 'Prenom': 'Thomas'}\n",
      "{'_id': '566eec60662b388eba464237', 'IdSportif': 54, 'Nom': 'ELKABBADJ', 'Prenom': 'Mohammed'}\n",
      "{'_id': '566eec60662b388eba464238', 'IdSportif': 55, 'Nom': 'FEROLDI', 'Prenom': 'Olivier'}\n",
      "{'_id': '566eec60662b388eba464239', 'IdSportif': 56, 'Nom': 'GUERRAOUI', 'Prenom': 'Zohra'}\n",
      "{'_id': '566eec60662b388eba46423a', 'IdSportif': 57, 'Nom': 'BOISSEAU', 'Prenom': 'Eric'}\n",
      "{'_id': '566eec60662b388eba46423b', 'IdSportif': 58, 'Nom': 'GUIGUI', 'Prenom': 'Vincent'}\n",
      "{'_id': '566eec60662b388eba46423c', 'IdSportif': 59, 'Nom': 'CLERICE', 'Prenom': 'Stéphanie'}\n",
      "{'_id': '566eec60662b388eba46423e', 'IdSportif': 61, 'Nom': 'LAZARRE', 'Prenom': 'Jean'}\n",
      "{'_id': '566eec60662b388eba464240', 'IdSportif': 63, 'Nom': 'AMAND', 'Prenom': 'Patrick'}\n",
      "{'_id': '566eec60662b388eba464241', 'IdSportif': 64, 'Nom': 'LANOE', 'Prenom': 'Françoise'}\n",
      "{'_id': '566eec60662b388eba464242', 'IdSportif': 65, 'Nom': 'CHESNIER', 'Prenom': 'Marc'}\n",
      "{'_id': '566eec60662b388eba464243', 'IdSportif': 66, 'Nom': 'DURIEU', 'Prenom': 'Loïc'}\n",
      "{'_id': '566eec60662b388eba464244', 'IdSportif': 67, 'Nom': 'VONTHRON', 'Prenom': 'Dominique'}\n",
      "{'_id': '566eec60662b388eba464245', 'IdSportif': 68, 'Nom': 'REGNAULD', 'Prenom': 'Jeanne'}\n",
      "{'_id': '566eec60662b388eba464246', 'IdSportif': 69, 'Nom': 'MARIE', 'Prenom': 'Paule'}\n",
      "{'_id': '566eec60662b388eba464247', 'IdSportif': 70, 'Nom': 'BELLAMY', 'Prenom': 'Norbert'}\n",
      "{'_id': '566eec60662b388eba464248', 'IdSportif': 71, 'Nom': 'DELAROCHE', 'Prenom': 'Bertrand'}\n",
      "{'_id': '566eec60662b388eba464249', 'IdSportif': 72, 'Nom': 'MARTEL', 'Prenom': 'Bernard'}\n",
      "{'_id': '566eec60662b388eba46424a', 'IdSportif': 73, 'Nom': 'DALLIER', 'Prenom': 'Didier'}\n",
      "{'_id': '566eec60662b388eba46424b', 'IdSportif': 74, 'Nom': 'AUVRAY', 'Prenom': 'Alain'}\n",
      "{'_id': '566eec60662b388eba46424d', 'IdSportif': 76, 'Nom': 'HALGATTE', 'Prenom': 'Claude'}\n",
      "{'_id': '566eec60662b388eba46424e', 'IdSportif': 77, 'Nom': 'HEON', 'Prenom': 'Philippe'}\n",
      "{'_id': '566eec60662b388eba46424f', 'IdSportif': 78, 'Nom': 'CHAUVIN', 'Prenom': 'Julien'}\n",
      "{'_id': '566eec60662b388eba464250', 'IdSportif': 79, 'Nom': 'HENRY', 'Prenom': 'Jacky'}\n",
      "{'_id': '566eec60662b388eba464251', 'IdSportif': 80, 'Nom': 'HOCHET', 'Prenom': 'Pierre'}\n",
      "{'_id': '566eec60662b388eba464252', 'IdSportif': 81, 'Nom': 'DROULLON', 'Prenom': 'Joëlle'}\n",
      "{'_id': '566eec60662b388eba464254', 'IdSportif': 83, 'Nom': 'LEROUX', 'Prenom': 'André'}\n",
      "{'_id': '566eec60662b388eba464255', 'IdSportif': 84, 'Nom': 'SALLAÏ', 'Prenom': 'Miloud'}\n",
      "{'_id': '566eec60662b388eba464256', 'IdSportif': 85, 'Nom': 'HAMARD', 'Prenom': 'Romain'}\n",
      "{'_id': '566eec60662b388eba464257', 'IdSportif': 86, 'Nom': 'GALLOT', 'Prenom': 'Bernard'}\n",
      "{'_id': '566eec60662b388eba464258', 'IdSportif': 87, 'Nom': 'COUESBOT', 'Prenom': 'Daniel'}\n",
      "{'_id': '566eec60662b388eba464259', 'IdSportif': 88, 'Nom': 'LEJEUNE', 'Prenom': 'Richard'}\n",
      "{'_id': '566eec60662b388eba46425a', 'IdSportif': 89, 'Nom': 'RIQUIER', 'Prenom': 'Jean-pierre'}\n",
      "{'_id': '566eec60662b388eba46425b', 'IdSportif': 90, 'Nom': 'DUREL', 'Prenom': 'Eric'}\n",
      "{'_id': '566eec60662b388eba46425c', 'IdSportif': 91, 'Nom': 'LECHEVALIER', 'Prenom': 'Patrick'}\n",
      "{'_id': '566eec60662b388eba46425d', 'IdSportif': 92, 'Nom': 'HERVIEU', 'Prenom': 'Jean-François'}\n",
      "{'_id': '566eec60662b388eba46425e', 'IdSportif': 93, 'Nom': 'CAUCHARD', 'Prenom': 'Georges'}\n",
      "{'_id': '566eec60662b388eba464260', 'IdSportif': 95, 'Nom': 'EUSTACHE', 'Prenom': 'Marcel'}\n",
      "{'_id': '566eec60662b388eba464261', 'IdSportif': 96, 'Nom': 'JANY', 'Prenom': 'Claude'}\n",
      "{'_id': '566eec60662b388eba464262', 'IdSportif': 97, 'Nom': 'BONHOMME', 'Prenom': 'Bruno'}\n",
      "{'_id': '566eec60662b388eba464263', 'IdSportif': 98, 'Nom': 'RICHARD', 'Prenom': 'William'}\n",
      "{'_id': '566eec60662b388eba464265', 'IdSportif': 100, 'Nom': 'LESOIF', 'Prenom': 'Jacques'}\n",
      "{'_id': '566eec60662b388eba464266', 'IdSportif': 101, 'Nom': 'SWERTVAEGER', 'Prenom': 'Eric'}\n",
      "{'_id': '566eec60662b388eba464267', 'IdSportif': 102, 'Nom': 'DUVAL', 'Prenom': 'Alain'}\n",
      "{'_id': '566eec60662b388eba464268', 'IdSportif': 103, 'Nom': 'LEMENOREL', 'Prenom': 'Claude'}\n",
      "{'_id': '566eec60662b388eba464269', 'IdSportif': 104, 'Nom': 'SEHIER', 'Prenom': 'Dominique'}\n",
      "{'_id': '566eec60662b388eba46426a', 'IdSportif': 105, 'Nom': 'STILO', 'Prenom': 'Philippe'}\n",
      "{'_id': '566eec60662b388eba46426b', 'IdSportif': 106, 'Nom': 'LE BANNARD', 'Prenom': 'Gérard'}\n",
      "{'_id': '566eec60662b388eba46426c', 'IdSportif': 107, 'Nom': 'BORNE', 'Prenom': 'Jean-Yves'}\n",
      "{'_id': '566eec60662b388eba46426d', 'IdSportif': 108, 'Nom': 'LAURENCE', 'Prenom': 'Serge'}\n",
      "{'_id': '566eec60662b388eba46426e', 'IdSportif': 109, 'Nom': 'SAUVAGE', 'Prenom': 'Patrick'}\n",
      "{'_id': '566eec60662b388eba46426f', 'IdSportif': 110, 'Nom': 'ROULLAND', 'Prenom': 'Christian'}\n",
      "{'_id': '566eec60662b388eba464270', 'IdSportif': 111, 'Nom': 'LESIEUR', 'Prenom': 'Michel'}\n",
      "{'_id': '566eec60662b388eba464271', 'IdSportif': 112, 'Nom': 'LUYCKX', 'Prenom': 'Gérard'}\n",
      "{'_id': '566eec60662b388eba464272', 'IdSportif': 113, 'Nom': 'AVICE', 'Prenom': 'Benoît'}\n",
      "{'_id': '566eec60662b388eba464273', 'IdSportif': 114, 'Nom': 'MICHEL', 'Prenom': 'Danielle'}\n",
      "{'_id': '566eec60662b388eba464274', 'IdSportif': 115, 'Nom': 'LEMOUSSU', 'Prenom': 'Laurent'}\n",
      "{'_id': '566eec60662b388eba464275', 'IdSportif': 116, 'Nom': 'BELUAU', 'Prenom': 'Gilberte'}\n",
      "{'_id': '566eec60662b388eba464276', 'IdSportif': 117, 'Nom': 'FERREIRA', 'Prenom': 'Martine'}\n",
      "{'_id': '566eec60662b388eba464277', 'IdSportif': 118, 'Nom': 'FROMENT', 'Prenom': 'Philippe'}\n",
      "{'_id': '566eec60662b388eba464278', 'IdSportif': 119, 'Nom': 'GUITON', 'Prenom': 'Jean-paul'}\n",
      "{'_id': '566eec60662b388eba464279', 'IdSportif': 120, 'Nom': 'LECOMTE', 'Prenom': 'Christian'}\n",
      "{'_id': '566eec60662b388eba46427a', 'IdSportif': 121, 'Nom': 'HUET', 'Prenom': 'Loïc'}\n",
      "{'_id': '566eec60662b388eba46427b', 'IdSportif': 122, 'Nom': 'BECQUET', 'Prenom': 'Erika'}\n",
      "{'_id': '566eec60662b388eba46427c', 'IdSportif': 123, 'Nom': 'LETHIMONNIER', 'Prenom': 'Victor'}\n",
      "{'_id': '566eec60662b388eba46427d', 'IdSportif': 124, 'Nom': 'SWERTVAEGER', 'Prenom': 'Michelle'}\n",
      "{'_id': '566eec60662b388eba46427e', 'IdSportif': 125, 'Nom': 'JALON', 'Prenom': 'Patrick'}\n",
      "{'_id': '566eec60662b388eba46427f', 'IdSportif': 126, 'Nom': 'DEBOUT', 'Prenom': 'Eric'}\n",
      "{'_id': '566eec60662b388eba464280', 'IdSportif': 127, 'Nom': 'GASTELLIER', 'Prenom': 'Charles'}\n",
      "{'_id': '566eec60662b388eba464281', 'IdSportif': 128, 'Nom': 'GIRONIE', 'Prenom': 'André'}\n",
      "{'_id': '566eec60662b388eba464282', 'IdSportif': 129, 'Nom': 'DABON', 'Prenom': 'Richard'}\n",
      "{'_id': '566eec60662b388eba464283', 'IdSportif': 130, 'Nom': 'LECHAUVE', 'Prenom': 'Jean-Claude'}\n",
      "{'_id': '566eec60662b388eba464284', 'IdSportif': 131, 'Nom': 'GALLOIS', 'Prenom': 'Michelle'}\n",
      "{'_id': '566eec60662b388eba464285', 'IdSportif': 132, 'Nom': 'DORON', 'Prenom': 'Yannick'}\n",
      "{'_id': '566eec60662b388eba464286', 'IdSportif': 133, 'Nom': 'LENEVEU', 'Prenom': 'Julien'}\n",
      "{'_id': '566eec60662b388eba464287', 'IdSportif': 134, 'Nom': 'LERICHE', 'Prenom': 'Harry'}\n",
      "{'_id': '566eec60662b388eba464288', 'IdSportif': 135, 'Nom': 'MANCEL', 'Prenom': 'Jean-luc'}\n",
      "{'_id': '566eec60662b388eba464289', 'IdSportif': 136, 'Nom': 'LABOULAIS', 'Prenom': 'Chloé'}\n",
      "{'_id': '566eec60662b388eba46428a', 'IdSportif': 137, 'Nom': 'DUDOUIT', 'Prenom': 'Chloé'}\n",
      "{'_id': '566eec60662b388eba46428b', 'IdSportif': 138, 'Nom': 'MADELAINE', 'Prenom': 'Chloé'}\n",
      "{'_id': '566eec60662b388eba46428c', 'IdSportif': 139, 'Nom': 'BESNARD', 'Prenom': 'Chloé'}\n",
      "{'_id': '566eec60662b388eba46428d', 'IdSportif': 140, 'Nom': 'BELZ', 'Prenom': 'Chloé'}\n",
      "{'_id': '566eec60662b388eba46428e', 'IdSportif': 141, 'Nom': 'BONNET', 'Prenom': 'Chloé'}\n",
      "{'_id': '566eec60662b388eba46428f', 'IdSportif': 142, 'Nom': 'CORNET', 'Prenom': 'Chloé'}\n",
      "{'_id': '566eec60662b388eba464290', 'IdSportif': 143, 'Nom': 'BEUZELIN', 'Prenom': 'Chloé'}\n",
      "{'_id': '566eec60662b388eba464291', 'IdSportif': 144, 'Nom': 'GRANDIDIER', 'Prenom': 'Chloé'}\n",
      "{'_id': '566eec60662b388eba464292', 'IdSportif': 145, 'Nom': 'LENEVEU', 'Prenom': 'Marie'}\n",
      "{'_id': '566eec60662b388eba464293', 'IdSportif': 146, 'Nom': 'DABON', 'Prenom': 'Rick'}\n",
      "{'_id': '566eec60662b388eba464294', 'IdSportif': 147, 'Nom': 'CLERICE', 'Prenom': 'Alice'}\n",
      "{'_id': '566eec60662b388eba464295', 'IdSportif': 148, 'Nom': 'COMES', 'Prenom': 'Marie'}\n",
      "{'_id': '566eec60662b388eba464296', 'IdSportif': 149, 'Nom': 'BELZ', 'Prenom': 'Sylvianne'}\n",
      "{'_id': '566eec60662b388eba464297', 'IdSportif': 150, 'Nom': 'BELZ', 'Prenom': 'Paul'}\n",
      "{'_id': '566eec60662b388eba464298', 'IdSportif': 151, 'Nom': 'HENRY', 'Prenom': 'Maël'}\n"
     ]
    }
   ],
   "source": [
    "#7)\tQuels sont les sportifs (identifiant, nom et prénom) qui ont entre 20 et 30 ans ?\n",
    "age_sportifs = sportifs.find({\"Age\":{\"$gte\":20, \"$lte\":30}}, {\"IdSportif\" : 1, \"Nom\" : 1, \"Prenom\" : 1})\n",
    "for item in age_sportifs : \n",
    "    print(item)"
   ]
  },
  {
   "cell_type": "code",
   "execution_count": 61,
   "metadata": {},
   "outputs": [
    {
     "name": "stdout",
     "output_type": "stream",
     "text": [
      "{'_id': '566eec5f662b388eba464208', 'IdSportif': 6, 'Nom': 'RETALDI'}\n",
      "{'_id': '566eec5f662b388eba464214', 'IdSportif': 19, 'Nom': 'TESTEMONT'}\n",
      "{'_id': '566eec5f662b388eba464215', 'IdSportif': 20, 'Nom': 'TIENER'}\n",
      "{'_id': '566eec5f662b388eba46421a', 'IdSportif': 25, 'Nom': 'MARTORA'}\n",
      "{'_id': '566eec5f662b388eba46421b', 'IdSportif': 26, 'Nom': 'MICHEL'}\n",
      "{'_id': '566eec5f662b388eba46421c', 'IdSportif': 27, 'Nom': 'NIELLEZ'}\n",
      "{'_id': '566eec5f662b388eba46421d', 'IdSportif': 28, 'Nom': 'RABAHI'}\n",
      "{'_id': '566eec5f662b388eba46421e', 'IdSportif': 29, 'Nom': 'ROUSSEL'}\n",
      "{'_id': '566eec5f662b388eba46421f', 'IdSportif': 30, 'Nom': 'SCHINK'}\n",
      "{'_id': '566eec5f662b388eba464220', 'IdSportif': 31, 'Nom': 'STEMPUT'}\n",
      "{'_id': '566eec5f662b388eba464221', 'IdSportif': 32, 'Nom': 'VAN CAUTER'}\n",
      "{'_id': '566eec60662b388eba464222', 'IdSportif': 33, 'Nom': 'RAMPNOUX'}\n",
      "{'_id': '566eec60662b388eba464223', 'IdSportif': 34, 'Nom': 'LHERPINIERE'}\n",
      "{'_id': '566eec60662b388eba464224', 'IdSportif': 35, 'Nom': 'TANQUE'}\n",
      "{'_id': '566eec60662b388eba464227', 'IdSportif': 38, 'Nom': 'VASSEMON'}\n",
      "{'_id': '566eec60662b388eba464228', 'IdSportif': 39, 'Nom': 'MOREL'}\n",
      "{'_id': '566eec60662b388eba464229', 'IdSportif': 40, 'Nom': 'VALIN'}\n",
      "{'_id': '566eec60662b388eba46422c', 'IdSportif': 43, 'Nom': 'MATHIEU'}\n",
      "{'_id': '566eec60662b388eba464234', 'IdSportif': 51, 'Nom': 'LOPEZ'}\n",
      "{'_id': '566eec60662b388eba46423d', 'IdSportif': 60, 'Nom': 'TIZEGHAT'}\n",
      "{'_id': '566eec60662b388eba464244', 'IdSportif': 67, 'Nom': 'VONTHRON'}\n",
      "{'_id': '566eec60662b388eba464245', 'IdSportif': 68, 'Nom': 'REGNAULD'}\n",
      "{'_id': '566eec60662b388eba464246', 'IdSportif': 69, 'Nom': 'MARIE'}\n",
      "{'_id': '566eec60662b388eba464249', 'IdSportif': 72, 'Nom': 'MARTEL'}\n",
      "{'_id': '566eec60662b388eba46424c', 'IdSportif': 75, 'Nom': 'SARRAZIN'}\n",
      "{'_id': '566eec60662b388eba464254', 'IdSportif': 83, 'Nom': 'LEROUX'}\n",
      "{'_id': '566eec60662b388eba464255', 'IdSportif': 84, 'Nom': 'SALLAÏ'}\n",
      "{'_id': '566eec60662b388eba46425a', 'IdSportif': 89, 'Nom': 'RIQUIER'}\n",
      "{'_id': '566eec60662b388eba46425f', 'IdSportif': 94, 'Nom': 'LEROUX'}\n",
      "{'_id': '566eec60662b388eba464263', 'IdSportif': 98, 'Nom': 'RICHARD'}\n",
      "{'_id': '566eec60662b388eba464265', 'IdSportif': 100, 'Nom': 'LESOIF'}\n",
      "{'_id': '566eec60662b388eba464266', 'IdSportif': 101, 'Nom': 'SWERTVAEGER'}\n",
      "{'_id': '566eec60662b388eba464269', 'IdSportif': 104, 'Nom': 'SEHIER'}\n",
      "{'_id': '566eec60662b388eba46426a', 'IdSportif': 105, 'Nom': 'STILO'}\n",
      "{'_id': '566eec60662b388eba46426e', 'IdSportif': 109, 'Nom': 'SAUVAGE'}\n",
      "{'_id': '566eec60662b388eba46426f', 'IdSportif': 110, 'Nom': 'ROULLAND'}\n",
      "{'_id': '566eec60662b388eba464270', 'IdSportif': 111, 'Nom': 'LESIEUR'}\n",
      "{'_id': '566eec60662b388eba464271', 'IdSportif': 112, 'Nom': 'LUYCKX'}\n",
      "{'_id': '566eec60662b388eba464273', 'IdSportif': 114, 'Nom': 'MICHEL'}\n",
      "{'_id': '566eec60662b388eba46427c', 'IdSportif': 123, 'Nom': 'LETHIMONNIER'}\n",
      "{'_id': '566eec60662b388eba46427d', 'IdSportif': 124, 'Nom': 'SWERTVAEGER'}\n",
      "{'_id': '566eec60662b388eba464288', 'IdSportif': 135, 'Nom': 'MANCEL'}\n",
      "{'_id': '566eec60662b388eba46428b', 'IdSportif': 138, 'Nom': 'MADELAINE'}\n",
      "{'_id': '566eec60662b388eba464298', 'IdSportif': 151, 'Nom': 'HENRY'}\n"
     ]
    }
   ],
   "source": [
    "#8)\tQuels sont les sportifs (identifiant et nom) qui pratiquent du hand ball ?\n",
    "find_basket = sportifs.find({\"Sports.Jouer\" : \"Hand ball\"},{\"IdSportif\" : 1, \"Nom\" : 1} )\n",
    "for item in find_basket : \n",
    "    print(item)\n"
   ]
  },
  {
   "cell_type": "code",
   "execution_count": 77,
   "metadata": {},
   "outputs": [
    {
     "name": "stdout",
     "output_type": "stream",
     "text": [
      "{'_id': '566eec69662b388eba4642ac', 'Ville': 'SARCELLES', 'Surface': 400}\n"
     ]
    }
   ],
   "source": [
    "#9)\tQuels sont les gymnases de “Villetaneuse” ou de “Sarcelles” qui ont une surface de plus de 400 m2 ?\n",
    "gymnase_400 = gymnases.find({\"$and\" : [{\"$or\" : [{\"Ville\" : \"SARCELLES\"}, {\"Ville\" : \"VILLETANEUSE\"}] }, {\"Surface\" : 400}]}, {\"Ville\" : 1, \"Surface\": 1})\n",
    "gymnase_SV_400 = gymnases.find({\"$or\" : [{\"$and\" : [{\"Ville\" : \"SARCELLES\"}, {\"Surface\" : 400}] }, {\"$and\" : [{\"Ville\" : \"VILLETANEUSE\"}, {\"Surface\" : 400}]}]}, {\"Ville\" : 1, \"Surface\" : 1})\n",
    "for item in gymnase_SV_400 : \n",
    "    print(item)\n"
   ]
  },
  {
   "cell_type": "code",
   "execution_count": 81,
   "metadata": {},
   "outputs": [
    {
     "name": "stdout",
     "output_type": "stream",
     "text": [
      "{'_id': '566eec69662b388eba464299', 'IdGymnase': 1, 'Ville': 'STAINS'}\n",
      "{'_id': '566eec69662b388eba46429c', 'IdGymnase': 4, 'Ville': 'SARCELLES'}\n",
      "{'_id': '566eec69662b388eba4642a5', 'IdGymnase': 13, 'Ville': 'STAINS'}\n",
      "{'_id': '566eec69662b388eba4642a8', 'IdGymnase': 16, 'Ville': 'SARCELLES'}\n",
      "{'_id': '566eec69662b388eba4642aa', 'IdGymnase': 18, 'Ville': 'PIERREFITTE'}\n",
      "{'_id': '566eec69662b388eba4642ac', 'IdGymnase': 20, 'Ville': 'SARCELLES'}\n",
      "{'_id': '566eec69662b388eba4642ad', 'IdGymnase': 21, 'Ville': 'STAINS'}\n",
      "{'_id': '566eec69662b388eba4642b3', 'IdGymnase': 27, 'Ville': 'VILLETANEUSE'}\n"
     ]
    }
   ],
   "source": [
    "#10)\tDans quels gymnases peut-on jouer au hockey le mercredi après 15H ?\n",
    "gymnase_hockey_15h = gymnases.find({\"$and\" : [{\"Seances.Libelle\" : \"Hockey\"}, {\"Seances.Jour\" : \"mercredi\"}, {\"Seances.Horaire\":{\"$gte\" : 15}} ]}, {\"IdGymnase\" : 1 , \"Ville\" : 1})\n",
    "for item in gymnase_hockey_15h : \n",
    "    print(item)"
   ]
  },
  {
   "cell_type": "code",
   "execution_count": 91,
   "metadata": {},
   "outputs": [
    {
     "name": "stdout",
     "output_type": "stream",
     "text": [
      "{'_id': '566eec60662b388eba464252', 'IdSportif': 81, 'Nom': 'DROULLON', 'Prenom': 'Joëlle'}\n",
      "{'_id': '566eec60662b388eba464275', 'IdSportif': 116, 'Nom': 'BELUAU', 'Prenom': 'Gilberte'}\n",
      "{'_id': '566eec60662b388eba464276', 'IdSportif': 117, 'Nom': 'FERREIRA', 'Prenom': 'Martine'}\n",
      "{'_id': '566eec60662b388eba464284', 'IdSportif': 131, 'Nom': 'GALLOIS', 'Prenom': 'Michelle'}\n",
      "{'_id': '566eec60662b388eba464292', 'IdSportif': 145, 'Nom': 'LENEVEU', 'Prenom': 'Marie'}\n",
      "{'_id': '566eec60662b388eba464293', 'IdSportif': 146, 'Nom': 'DABON', 'Prenom': 'Rick'}\n",
      "{'_id': '566eec60662b388eba464294', 'IdSportif': 147, 'Nom': 'CLERICE', 'Prenom': 'Alice'}\n",
      "{'_id': '566eec60662b388eba464295', 'IdSportif': 148, 'Nom': 'COMES', 'Prenom': 'Marie'}\n",
      "{'_id': '566eec60662b388eba464297', 'IdSportif': 150, 'Nom': 'BELZ', 'Prenom': 'Paul'}\n"
     ]
    }
   ],
   "source": [
    "#11)\tQuels sportifs (identifiant et nom) ne pratiquent aucun sport ?\n",
    "find_null_sport = sportifs.find({\"Sports.Jouer\" : {\"$exists\" : False } }, {\"IdSportif\" : 1, \"Sport.Jouer\" : 1, \"Nom\" : 1 , \"Prenom\" : 1})\n",
    "for item in find_null_sport : \n",
    "    print(item)"
   ]
  },
  {
   "cell_type": "code",
   "execution_count": 123,
   "metadata": {},
   "outputs": [
    {
     "name": "stdout",
     "output_type": "stream",
     "text": [
      "{'_id': '566eec69662b388eba46429b', 'IdGymnase': 3, 'Ville': 'PIERREFITTE', 'Seances': [{'Jour': 'Mercredi'}, {'Jour': 'lundi'}, {'Jour': 'jeudi'}]}\n",
      "{'_id': '566eec69662b388eba46429c', 'IdGymnase': 4, 'Ville': 'SARCELLES', 'Seances': [{'Jour': 'Vendredi'}, {'Jour': 'mercredi'}]}\n",
      "{'_id': '566eec69662b388eba46429d', 'IdGymnase': 5, 'Ville': 'SARCELLES', 'Seances': [{'Jour': 'lundi'}, {'Jour': 'jeudi'}]}\n",
      "{'_id': '566eec69662b388eba46429e', 'IdGymnase': 6, 'Ville': 'STAINS', 'Seances': [{'Jour': 'vendredi'}, {'Jour': 'jeudi'}]}\n",
      "{'_id': '566eec69662b388eba46429f', 'IdGymnase': 7, 'Ville': 'PIERREFITTE'}\n",
      "{'_id': '566eec69662b388eba4642a1', 'IdGymnase': 9, 'Ville': 'SARCELLES', 'Seances': [{'Jour': 'samedi'}]}\n",
      "{'_id': '566eec69662b388eba4642a3', 'IdGymnase': 11, 'Ville': 'PIERREFITTE'}\n",
      "{'_id': '566eec69662b388eba4642a7', 'IdGymnase': 15, 'Ville': 'PIERREFITTE', 'Seances': [{'Jour': 'lundi'}]}\n",
      "{'_id': '566eec69662b388eba4642a8', 'IdGymnase': 16, 'Ville': 'SARCELLES', 'Seances': [{'Jour': 'lundi'}, {'Jour': 'Lundi'}, {'Jour': 'Lundi'}, {'Jour': 'lundi'}, {'Jour': 'Lundi'}, {'Jour': 'mercredi'}]}\n",
      "{'_id': '566eec69662b388eba4642aa', 'IdGymnase': 18, 'Ville': 'PIERREFITTE', 'Seances': [{'Jour': 'lundi'}, {'Jour': 'mardi'}, {'Jour': 'mercredi'}, {'Jour': 'mercredi'}]}\n",
      "{'_id': '566eec69662b388eba4642ac', 'IdGymnase': 20, 'Ville': 'SARCELLES', 'Seances': [{'Jour': 'mercredi'}]}\n",
      "{'_id': '566eec69662b388eba4642ad', 'IdGymnase': 21, 'Ville': 'STAINS', 'Seances': [{'Jour': 'lundi'}, {'Jour': 'mardi'}, {'Jour': 'mercredi'}]}\n",
      "{'_id': '566eec69662b388eba4642ae', 'IdGymnase': 22, 'Ville': 'SAINT DENIS', 'Seances': [{'Jour': 'mardi'}]}\n",
      "{'_id': '566eec69662b388eba4642af', 'IdGymnase': 23, 'Ville': 'SAINT DENIS'}\n",
      "{'_id': '566eec69662b388eba4642b0', 'IdGymnase': 24, 'Ville': 'SAINT DENIS', 'Seances': [{'Jour': 'Jeudi'}, {'Jour': 'mercredi'}]}\n",
      "{'_id': '566eec69662b388eba4642b2', 'IdGymnase': 26, 'Ville': 'VILLETANEUSE'}\n",
      "{'_id': '566eec69662b388eba4642b3', 'IdGymnase': 27, 'Ville': 'VILLETANEUSE', 'Seances': [{'Jour': 'jeudi'}, {'Jour': 'mercredi'}, {'Jour': 'mercredi'}]}\n"
     ]
    }
   ],
   "source": [
    "#12)\tQuels gymnases n’ont pas de séances le dimanche ?\n",
    "gymnases_null_dimanche = gymnases.find({\"Seances.Jour\" : {\"$nin\" : [\"dimanche\", \"Dimanche\"]} }, {\"IdGymnase\" : 1, \"Nom\" : 1, \"Ville\" : 1, \"Seances.Jour\":1})\n",
    "for item in gymnases_null_dimanche : \n",
    "    print(item)"
   ]
  },
  {
   "cell_type": "code",
   "execution_count": 116,
   "metadata": {},
   "outputs": [
    {
     "name": "stdout",
     "output_type": "stream",
     "text": [
      "{'Ville': 'PIERREFITTE', 'Seances': [{'Libelle': 'Basket ball'}, {'Libelle': 'Volley ball'}, {'Libelle': 'Volley ball'}]}\n",
      "{'Ville': 'MONTMORENCY', 'Seances': [{'Libelle': 'Basket ball'}, {'Libelle': 'Volley ball'}]}\n",
      "{'Ville': 'SAINT DENIS', 'Seances': [{'Libelle': 'Basket ball'}, {'Libelle': 'Volley ball'}]}\n"
     ]
    }
   ],
   "source": [
    "#13)\tQuels gymnases ne proposent que des séances de basket ball ou de volley ball ?\n",
    "gymnase_bb_vb = gymnases.find({\"$nor\": [{ \"Seances.Libelle\": { \"$ne\": \"Basket ball\" }}, { \"Seances.Libelle\": { \"$ne\": \"Volley ball\" }} ]},  {\"_id\" : 0, \"Nom\" : 1, \"Ville\" : 1, \"Seances.Libelle\":1})\n",
    "for item in gymnase_bb_vb : \n",
    "    print(item)"
   ]
  },
  {
   "cell_type": "code",
   "execution_count": 118,
   "metadata": {},
   "outputs": [
    {
     "name": "stdout",
     "output_type": "stream",
     "text": [
      "{'_id': '566eec5f662b388eba464203', 'Nom': 'BOUTAHAR', 'Prenom': 'Abderahim'}\n",
      "{'_id': '566eec5f662b388eba464204', 'Nom': 'KERVADEC', 'Prenom': 'Yann'}\n",
      "{'_id': '566eec5f662b388eba464205', 'Nom': 'HUE', 'Prenom': 'Pascale'}\n",
      "{'_id': '566eec5f662b388eba464206', 'Nom': 'DORLEANS', 'Prenom': 'Jean-michel'}\n",
      "{'_id': '566eec5f662b388eba464208', 'Nom': 'RETALDI', 'Prenom': 'Sophie'}\n",
      "{'_id': '566eec5f662b388eba464209', 'Nom': 'GOMEZ', 'Prenom': 'Diego'}\n",
      "{'_id': '566eec5f662b388eba46421e', 'Nom': 'ROUSSEL', 'Prenom': 'Nadège'}\n",
      "{'_id': '566eec5f662b388eba46421f', 'Nom': 'SCHINK', 'Prenom': 'Nicolas'}\n",
      "{'_id': '566eec5f662b388eba464220', 'Nom': 'STEMPUT', 'Prenom': 'Mathieu'}\n",
      "{'_id': '566eec5f662b388eba464221', 'Nom': 'VAN CAUTER', 'Prenom': 'Vincent'}\n",
      "{'_id': '566eec60662b388eba464224', 'Nom': 'TANQUE', 'Prenom': 'Yann'}\n",
      "{'_id': '566eec60662b388eba464225', 'Nom': 'DJELOUDANE', 'Prenom': 'Zinedine'}\n",
      "{'_id': '566eec60662b388eba464227', 'Nom': 'VASSEMON', 'Prenom': 'Laurent'}\n",
      "{'_id': '566eec60662b388eba464229', 'Nom': 'VALIN', 'Prenom': 'Yann'}\n",
      "{'_id': '566eec60662b388eba464231', 'Nom': 'HEDDI', 'Prenom': 'Zohra'}\n",
      "{'_id': '566eec60662b388eba464233', 'Nom': 'KALOMBO', 'Prenom': 'Yannick'}\n",
      "{'_id': '566eec60662b388eba464239', 'Nom': 'GUERRAOUI', 'Prenom': 'Zohra'}\n",
      "{'_id': '566eec60662b388eba46423a', 'Nom': 'BOISSEAU', 'Prenom': 'Eric'}\n",
      "{'_id': '566eec60662b388eba46423b', 'Nom': 'GUIGUI', 'Prenom': 'Vincent'}\n",
      "{'_id': '566eec60662b388eba46423c', 'Nom': 'CLERICE', 'Prenom': 'Stéphanie'}\n",
      "{'_id': '566eec60662b388eba46423d', 'Nom': 'TIZEGHAT', 'Prenom': 'Benamar'}\n",
      "{'_id': '566eec60662b388eba46423e', 'Nom': 'LAZARRE', 'Prenom': 'Jean'}\n",
      "{'_id': '566eec60662b388eba464296', 'Nom': 'BELZ', 'Prenom': 'Sylvianne'}\n",
      "{'_id': '566eec60662b388eba464298', 'Nom': 'HENRY', 'Prenom': 'Maël'}\n"
     ]
    }
   ],
   "source": [
    "#14)\tQuels sont les entraîneurs qui sont aussi joueurs ?\n",
    "entraineur_joueur = sportifs.find({\"Sports.Jouer\" : { \"$exists\" : True },\"Sports.Entrainer\" : { \"$exists\" : True }}, {\"Nom\" : 1, \"Prenom\" : 1})\n",
    "for item in entraineur_joueur : \n",
    "    print(item)"
   ]
  },
  {
   "cell_type": "code",
   "execution_count": 137,
   "metadata": {},
   "outputs": [
    {
     "name": "stdout",
     "output_type": "stream",
     "text": [
      "1\n",
      "2\n",
      "3\n",
      "4\n",
      "5\n",
      "6\n",
      "7\n",
      "8\n",
      "9\n",
      "14\n",
      "21\n",
      "44\n",
      "98\n",
      "{'IdSportif': 1, 'Nom': 'BOUTAHAR'}\n",
      "{'IdSportif': 2, 'Nom': 'KERVADEC'}\n",
      "{'IdSportif': 3, 'Nom': 'HUE'}\n",
      "{'IdSportif': 4, 'Nom': 'DORLEANS'}\n",
      "{'IdSportif': 5, 'Nom': 'COMES'}\n",
      "{'IdSportif': 6, 'Nom': 'RETALDI'}\n",
      "{'IdSportif': 7, 'Nom': 'GOMEZ'}\n",
      "{'IdSportif': 9, 'Nom': 'ANTUNES'}\n",
      "{'IdSportif': 14, 'Nom': 'CAILLIOT'}\n",
      "{'IdSportif': 21, 'Nom': 'LE BOUCHER'}\n",
      "{'IdSportif': 44, 'Nom': 'ADIBO'}\n",
      "{'IdSportif': 98, 'Nom': 'RICHARD'}\n"
     ]
    }
   ],
   "source": [
    "#15)\tQuels sont les sportifs qui sont des conseillers ?\n",
    "all_conseillers = sportifs.find({\"IdSportifConseiller\" : {\"$exists\" : True}}, {\"IdSportifConseiller\" : 1})\n",
    "tab_id_conseillers = sportifs.distinct(\"IdSportifConseiller\")\n",
    "for ids in tab_id_conseillers : \n",
    "    print(ids)\n",
    "sportif_conseiller = sportifs.find({\"IdSportif\" : {\"$in\" : tab_id_conseillers}},{\"IdSportif\" : 1, \"Nom\" : 1,\"_id\":0} )\n",
    "for item in sportif_conseiller : \n",
    "    print(item)\n"
   ]
  },
  {
   "cell_type": "code",
   "execution_count": 147,
   "metadata": {},
   "outputs": [
    {
     "name": "stdout",
     "output_type": "stream",
     "text": [
      "{'IdSportif': 1, 'Nom': 'BOUTAHAR', 'Prenom': 'Abderahim'}\n"
     ]
    }
   ],
   "source": [
    "#16)\tPour le sportif “Kervadec” quel est le nom de son conseiller ?\n",
    "id_conseiller_kervadec =  sportifs.find_one({\"Nom\": \"KERVADEC\"})\n",
    "conseiller_info = sportifs.find({\"IdSportif\":  id_conseiller_kervadec['IdSportifConseiller']}, {\"_id\":0,\"IdSportif\":1,\"Nom\":1, \"Prenom\" : 1})\n",
    "for item in conseiller_info : \n",
    "    print(item)"
   ]
  },
  {
   "cell_type": "code",
   "execution_count": 138,
   "metadata": {},
   "outputs": [
    {
     "name": "stdout",
     "output_type": "stream",
     "text": [
      "{'_id': '566eec5f662b388eba464203', 'IdSportif': 1, 'Nom': 'BOUTAHAR', 'Prenom': 'Abderahim', 'Sexe': 'm', 'Age': 30, 'Sports': {'Jouer': ['Volley ball', 'Tennis', 'Football'], 'Arbitrer': ['Basket ball', 'Volley ball', 'Hockey'], 'Entrainer': ['Basket ball', 'Volley ball', 'Hand ball', 'Hockey', 'Badmington']}}\n",
      "{'_id': '566eec5f662b388eba464204', 'IdSportif': 2, 'Nom': 'KERVADEC', 'Prenom': 'Yann', 'Sexe': 'M', 'Age': 28, 'IdSportifConseiller': 1, 'Sports': {'Jouer': ['Basket ball', 'Volley ball', 'Ping pong', 'Football'], 'Arbitrer': ['Hockey', 'Football'], 'Entrainer': ['Basket ball', 'Volley ball', 'Hand ball', 'Tennis', 'Hockey', 'Badmington', 'Ping pong', 'Boxe']}}\n",
      "{'_id': '566eec5f662b388eba464205', 'IdSportif': 3, 'Nom': 'HUE', 'Prenom': 'Pascale', 'Sexe': 'F', 'Age': 25, 'IdSportifConseiller': 1, 'Sports': {'Jouer': ['Volley ball', 'Ping pong'], 'Arbitrer': ['Volley ball', 'Badmington', 'Ping pong'], 'Entrainer': ['Basket ball', 'Volley ball', 'Hand ball', 'Badmington']}}\n",
      "{'_id': '566eec5f662b388eba464206', 'IdSportif': 4, 'Nom': 'DORLEANS', 'Prenom': 'Jean-michel', 'Sexe': 'M', 'Age': 32, 'IdSportifConseiller': 1, 'Sports': {'Jouer': ['Volley ball', 'Football'], 'Arbitrer': ['Basket ball', 'Volley ball', 'Ping pong', 'Boxe'], 'Entrainer': ['Basket ball', 'Ping pong', 'Boxe']}}\n",
      "{'_id': '566eec60662b388eba464296', 'IdSportif': 149, 'Nom': 'BELZ', 'Prenom': 'Sylvianne', 'Sexe': 'F', 'Age': 27, 'IdSportifConseiller': 7, 'Sports': {'Jouer': 'Basket ball', 'Arbitrer': 'Basket ball', 'Entrainer': 'Basket ball'}}\n",
      "{'_id': '566eec60662b388eba464298', 'IdSportif': 151, 'Nom': 'HENRY', 'Prenom': 'Maël', 'Sexe': 'M', 'Age': 25, 'IdSportifConseiller': 2, 'Sports': {'Jouer': ['Basket ball', 'Hand ball'], 'Arbitrer': ['Basket ball', 'Hand ball'], 'Entrainer': ['Basket ball', 'Hand ball']}}\n"
     ]
    }
   ],
   "source": [
    "#17)\tQuels entraîneurs entraînent du hand ball et du basket ball ?\n",
    "hand_basket = sportifs.find({\"Sports.Entrainer\": \"Hand ball\", \"Sports.Entrainer\": \"Basket ball\" })\n",
    "for item in hand_basket : \n",
    "    print(item)"
   ]
  },
  {
   "cell_type": "code",
   "execution_count": 140,
   "metadata": {},
   "outputs": [
    {
     "name": "stdout",
     "output_type": "stream",
     "text": [
      "{'IdSportif': 1, 'Nom': 'BOUTAHAR'}\n",
      "{'IdSportif': 45, 'Nom': 'CHAVANT'}\n",
      "{'IdSportif': 59, 'Nom': 'CLERICE'}\n",
      "{'IdSportif': 65, 'Nom': 'CHESNIER'}\n",
      "{'IdSportif': 78, 'Nom': 'CHAUVIN'}\n",
      "{'IdSportif': 89, 'Nom': 'RIQUIER'}\n",
      "{'IdSportif': 97, 'Nom': 'BONHOMME'}\n",
      "{'IdSportif': 99, 'Nom': 'BONE'}\n"
     ]
    }
   ],
   "source": [
    "#18)\tQuels sportifs n’ont pas de conseillers ?\n",
    "no_conseiller = sportifs.find({\"IdSportifConseiller\"  : {\"$exists\" : False}},{\"IdSportif\" : 1, \"Nom\" : 1,\"_id\":0} )\n",
    "for item in no_conseiller : \n",
    "        print(item)"
   ]
  },
  {
   "cell_type": "code",
   "execution_count": null,
   "metadata": {},
   "outputs": [],
   "source": []
  }
 ],
 "metadata": {
  "kernelspec": {
   "display_name": "Python 3",
   "language": "python",
   "name": "python3"
  },
  "language_info": {
   "codemirror_mode": {
    "name": "ipython",
    "version": 3
   },
   "file_extension": ".py",
   "mimetype": "text/x-python",
   "name": "python",
   "nbconvert_exporter": "python",
   "pygments_lexer": "ipython3",
   "version": "3.8.5"
  }
 },
 "nbformat": 4,
 "nbformat_minor": 4
}
